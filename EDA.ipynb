{
 "cells": [
  {
   "cell_type": "code",
   "execution_count": 63,
   "id": "7db4092f",
   "metadata": {},
   "outputs": [],
   "source": [
    "import spotipy\n",
    "from spotipy.oauth2 import SpotifyClientCredentials, SpotifyOAuth\n",
    "import pandas as pd\n",
    "import plotly.express as px\n",
    "from sklearn.cluster import KMeans\n",
    "from sklearn.manifold import TSNE\n",
    "import numpy as np\n",
    "import matplotlib.pyplot as plt\n"
   ]
  },
  {
   "cell_type": "code",
   "execution_count": 3,
   "id": "69815298",
   "metadata": {},
   "outputs": [],
   "source": [
    "SPOTIPY_CLIENT_ID='aa3b040fe8a14f47babd5211bc20f4c8'  \n",
    "SPOTIPY_SECRET_ID='7274e34729fc407d9f0bef405fd24805'\n",
    "SPOTIPY_REDIRECT_URI='http://localhost:3005/callback/'"
   ]
  },
  {
   "cell_type": "code",
   "execution_count": 4,
   "id": "7be9cef2",
   "metadata": {},
   "outputs": [],
   "source": [
    "scope = \"user-library-read, playlist-read-private, user-read-private, user-read-playback-state, user-top-read, user-follow-read, user-read-currently-playing, user-read-recently-played\"\n",
    "\n",
    "auth_manager = SpotifyOAuth(client_id=SPOTIPY_CLIENT_ID, client_secret= SPOTIPY_SECRET_ID, redirect_uri=SPOTIPY_REDIRECT_URI, scope=scope)\n",
    "sp = spotipy.Spotify(auth_manager=auth_manager)\n",
    "\n"
   ]
  },
  {
   "cell_type": "code",
   "execution_count": 5,
   "id": "728da8e1",
   "metadata": {},
   "outputs": [
    {
     "name": "stdout",
     "output_type": "stream",
     "text": [
      "   1 spotify:playlist:2ijdBcHfEmWXoz2QDn8YHx Groove\n",
      "   2 spotify:playlist:3e74riRWhnRhgvSGWbrHdm Parties...\n",
      "   3 spotify:playlist:1b9TmDoNUFe9IzTgAcyDzO Soul\n"
     ]
    }
   ],
   "source": [
    "playlists = sp.current_user_playlists()\n",
    "while playlists:\n",
    "    for i, playlist in enumerate(playlists['items']):\n",
    "        print(\"%4d %s %s\" % (i + 1 + playlists['offset'], playlist['uri'],  playlist['name']))\n",
    "    if playlists['next']:\n",
    "        playlists = sp.next(playlists)\n",
    "    else:\n",
    "        playlists = None"
   ]
  },
  {
   "cell_type": "code",
   "execution_count": 6,
   "id": "6a49ffb2",
   "metadata": {},
   "outputs": [
    {
     "name": "stdout",
     "output_type": "stream",
     "text": [
      "Remember Your North Star\n",
      "Janky Star\n",
      "Step By Step EP\n",
      "The Heart Part 5\n",
      "Classic Objects\n",
      "Blackstar\n",
      "Big Time\n",
      "HYPNOS\n",
      "Mr. Morale & The Big Steppers\n",
      "A Light for Attracting Attention\n",
      "Car Therapy Sessions\n",
      "Space 1.8\n",
      "Butterfly\n",
      "Air\n",
      "ENTERTAINMENT, DEATH\n",
      "Untourable Album\n",
      "5.17\n",
      "PAINLESS\n",
      "Dragon New Warm Mountain I Believe In You\n",
      "Drawing Room\n",
      "Time Skiffs\n",
      "Aja\n",
      "Asakusa Light\n",
      "Magical Mystery Tour (Remastered)\n",
      "Sometimes I Might Be Introvert\n",
      "Let It Be (Remastered)\n",
      "Fatigue\n",
      "Jubilee\n",
      "What's Your Pleasure? (The Platinum Pleasure Edition)\n",
      "Nosso Ritmo\n",
      "xx\n",
      "I See You\n",
      "Coexist\n",
      "Blue Weekend\n",
      "Yankee Hotel Foxtrot\n",
      "Summerteeth\n",
      "Titanic Rising\n",
      "Front Row Seat to Earth\n",
      "Weezer (Green Album)\n",
      "Weezer\n",
      "Pinkerton\n",
      "Ignorance\n",
      "Lost In The Dream\n",
      "The Velvet Underground & Nico 45th Anniversary\n",
      "It's Album Time\n",
      "Contra\n",
      "Father of the Bride\n",
      "Modern Vampires of the City\n",
      "Vampire Weekend\n",
      "Boy (Remastered)\n"
     ]
    }
   ],
   "source": [
    "albums = sp.current_user_saved_albums(limit=50)\n",
    "for album in albums['items']:\n",
    "    print(album['album']['name'])\n",
    "\n"
   ]
  },
  {
   "cell_type": "code",
   "execution_count": 7,
   "id": "f484df2d",
   "metadata": {},
   "outputs": [],
   "source": [
    "playlists = sp.current_user_playlists()\n",
    "groove = playlists['items'][0] #first playlist\n",
    "\n"
   ]
  },
  {
   "cell_type": "code",
   "execution_count": 8,
   "id": "c82f9256",
   "metadata": {},
   "outputs": [],
   "source": [
    "def get_top_tracks():\n",
    "    top_tracks = sp.current_user_top_tracks(limit=50)\n",
    "    artists = []\n",
    "    track_names = []\n",
    "    track_ids = []\n",
    "    danceability = []\n",
    "    energy = []\n",
    "    key = []\n",
    "    loudness = []\n",
    "    mode = []\n",
    "    speechiness = []\n",
    "    acousticness = []\n",
    "    instrumentalness = []\n",
    "    liveness = []\n",
    "    valence = []\n",
    "    tempo = []\n",
    "    \n",
    "    for idx, item in enumerate(top_tracks['items']):\n",
    "        track = item['name']\n",
    "        uri = item['uri']\n",
    "        artist = item['artists'][0]['name']\n",
    "        artists.append(artist)\n",
    "        track_names.append(track)\n",
    "        track_ids.append(uri)\n",
    "        features = sp.audio_features(uri)[0]\n",
    "        danceability.append(features['danceability'])\n",
    "        energy.append(features['energy'])\n",
    "        key.append(features['key'])\n",
    "        loudness.append(features['loudness'])\n",
    "        mode.append(features['mode'])\n",
    "        speechiness.append(features['speechiness'])\n",
    "        acousticness.append(features['acousticness'])\n",
    "        instrumentalness.append(features['instrumentalness'])\n",
    "        liveness.append(features['liveness'])\n",
    "        valence.append(features['valence'])\n",
    "        tempo.append(features['tempo'])\n",
    "\n",
    "    df = pd.DataFrame(list(zip(track_ids,track_names,artists, \n",
    "                        danceability,energy,key,loudness,mode,speechiness,acousticness,instrumentalness,liveness, valence, tempo)), \n",
    "                        columns=['id','name','artist', 'danceability','energy','key','loudness','mode','speechiness','acousticness',\n",
    "                        'instrumentalness','liveness','valence', 'tempo'])\n",
    "    return df\n",
    "\n",
    "\n",
    "\n"
   ]
  },
  {
   "cell_type": "code",
   "execution_count": 30,
   "id": "8868b29e",
   "metadata": {},
   "outputs": [
    {
     "name": "stderr",
     "output_type": "stream",
     "text": [
      "C:\\Users\\emile\\AppData\\Local\\Temp\\ipykernel_14424\\3479958638.py:2: FutureWarning:\n",
      "\n",
      "Dropping of nuisance columns in DataFrame reductions (with 'numeric_only=None') is deprecated; in a future version this will raise TypeError.  Select only valid columns before calling the reduction.\n",
      "\n"
     ]
    },
    {
     "data": {
      "text/html": [
       "<div>\n",
       "<style scoped>\n",
       "    .dataframe tbody tr th:only-of-type {\n",
       "        vertical-align: middle;\n",
       "    }\n",
       "\n",
       "    .dataframe tbody tr th {\n",
       "        vertical-align: top;\n",
       "    }\n",
       "\n",
       "    .dataframe thead th {\n",
       "        text-align: right;\n",
       "    }\n",
       "</style>\n",
       "<table border=\"1\" class=\"dataframe\">\n",
       "  <thead>\n",
       "    <tr style=\"text-align: right;\">\n",
       "      <th></th>\n",
       "      <th>id</th>\n",
       "      <th>name</th>\n",
       "      <th>artist</th>\n",
       "      <th>danceability</th>\n",
       "      <th>energy</th>\n",
       "      <th>key</th>\n",
       "      <th>loudness</th>\n",
       "      <th>mode</th>\n",
       "      <th>speechiness</th>\n",
       "      <th>acousticness</th>\n",
       "      <th>instrumentalness</th>\n",
       "      <th>liveness</th>\n",
       "      <th>valence</th>\n",
       "      <th>tempo</th>\n",
       "    </tr>\n",
       "  </thead>\n",
       "  <tbody>\n",
       "    <tr>\n",
       "      <th>0</th>\n",
       "      <td>spotify:track:5wJLHCCnOmakrb8JdGQyUE</td>\n",
       "      <td>Southern Magnolia</td>\n",
       "      <td>Maharaj Trio</td>\n",
       "      <td>0.694</td>\n",
       "      <td>0.644</td>\n",
       "      <td>9</td>\n",
       "      <td>-10.038</td>\n",
       "      <td>0</td>\n",
       "      <td>0.0334</td>\n",
       "      <td>0.00104</td>\n",
       "      <td>0.746000</td>\n",
       "      <td>0.0737</td>\n",
       "      <td>0.5290</td>\n",
       "      <td>104.953</td>\n",
       "    </tr>\n",
       "    <tr>\n",
       "      <th>1</th>\n",
       "      <td>spotify:track:5MMW4CZsZiZt2iuqAXzzWC</td>\n",
       "      <td>The Heart Part 5</td>\n",
       "      <td>Kendrick Lamar</td>\n",
       "      <td>0.700</td>\n",
       "      <td>0.812</td>\n",
       "      <td>1</td>\n",
       "      <td>-8.128</td>\n",
       "      <td>0</td>\n",
       "      <td>0.2970</td>\n",
       "      <td>0.18300</td>\n",
       "      <td>0.000000</td>\n",
       "      <td>0.0756</td>\n",
       "      <td>0.8010</td>\n",
       "      <td>97.405</td>\n",
       "    </tr>\n",
       "    <tr>\n",
       "      <th>2</th>\n",
       "      <td>spotify:track:5p56JT5F9a1z9pwXnqTg7d</td>\n",
       "      <td>Worldwide Steppers</td>\n",
       "      <td>Kendrick Lamar</td>\n",
       "      <td>0.514</td>\n",
       "      <td>0.472</td>\n",
       "      <td>8</td>\n",
       "      <td>-11.106</td>\n",
       "      <td>0</td>\n",
       "      <td>0.3680</td>\n",
       "      <td>0.75300</td>\n",
       "      <td>0.000120</td>\n",
       "      <td>0.0746</td>\n",
       "      <td>0.5570</td>\n",
       "      <td>77.215</td>\n",
       "    </tr>\n",
       "    <tr>\n",
       "      <th>3</th>\n",
       "      <td>spotify:track:4IVtwWBNj9NEBNR7tkXDqb</td>\n",
       "      <td>Satellites</td>\n",
       "      <td>Ravyn Lenae</td>\n",
       "      <td>0.436</td>\n",
       "      <td>0.764</td>\n",
       "      <td>4</td>\n",
       "      <td>-6.347</td>\n",
       "      <td>0</td>\n",
       "      <td>0.0685</td>\n",
       "      <td>0.47400</td>\n",
       "      <td>0.350000</td>\n",
       "      <td>0.1250</td>\n",
       "      <td>0.2660</td>\n",
       "      <td>169.002</td>\n",
       "    </tr>\n",
       "    <tr>\n",
       "      <th>4</th>\n",
       "      <td>spotify:track:16yjTWzlK1IVHh3kE61lbJ</td>\n",
       "      <td>Love Me</td>\n",
       "      <td>Braxe + Falcon</td>\n",
       "      <td>0.771</td>\n",
       "      <td>0.726</td>\n",
       "      <td>2</td>\n",
       "      <td>-7.605</td>\n",
       "      <td>0</td>\n",
       "      <td>0.0905</td>\n",
       "      <td>0.00900</td>\n",
       "      <td>0.004940</td>\n",
       "      <td>0.0751</td>\n",
       "      <td>0.5280</td>\n",
       "      <td>107.993</td>\n",
       "    </tr>\n",
       "    <tr>\n",
       "      <th>5</th>\n",
       "      <td>spotify:track:6C16HI9Xpyax86txvnWvNV</td>\n",
       "      <td>For One Moment Only</td>\n",
       "      <td>Dieter Reith</td>\n",
       "      <td>0.530</td>\n",
       "      <td>0.531</td>\n",
       "      <td>1</td>\n",
       "      <td>-14.323</td>\n",
       "      <td>1</td>\n",
       "      <td>0.0264</td>\n",
       "      <td>0.59200</td>\n",
       "      <td>0.633000</td>\n",
       "      <td>0.1390</td>\n",
       "      <td>0.5180</td>\n",
       "      <td>95.988</td>\n",
       "    </tr>\n",
       "    <tr>\n",
       "      <th>6</th>\n",
       "      <td>spotify:track:5eGvUvIliCcmFqwC8kQSAw</td>\n",
       "      <td>A Hairdryer</td>\n",
       "      <td>The Smile</td>\n",
       "      <td>0.344</td>\n",
       "      <td>0.555</td>\n",
       "      <td>6</td>\n",
       "      <td>-8.946</td>\n",
       "      <td>1</td>\n",
       "      <td>0.0351</td>\n",
       "      <td>0.74600</td>\n",
       "      <td>0.903000</td>\n",
       "      <td>0.1140</td>\n",
       "      <td>0.1120</td>\n",
       "      <td>145.339</td>\n",
       "    </tr>\n",
       "    <tr>\n",
       "      <th>7</th>\n",
       "      <td>spotify:track:2IIELm4RfoyxSYuTYDVZ7t</td>\n",
       "      <td>Air</td>\n",
       "      <td>SAULT</td>\n",
       "      <td>0.217</td>\n",
       "      <td>0.223</td>\n",
       "      <td>1</td>\n",
       "      <td>-13.607</td>\n",
       "      <td>1</td>\n",
       "      <td>0.0314</td>\n",
       "      <td>0.92700</td>\n",
       "      <td>0.920000</td>\n",
       "      <td>0.2130</td>\n",
       "      <td>0.0973</td>\n",
       "      <td>70.347</td>\n",
       "    </tr>\n",
       "    <tr>\n",
       "      <th>8</th>\n",
       "      <td>spotify:track:72YauydKDuwpnd6nr8NIKK</td>\n",
       "      <td>Home Maker</td>\n",
       "      <td>Sudan Archives</td>\n",
       "      <td>0.766</td>\n",
       "      <td>0.550</td>\n",
       "      <td>1</td>\n",
       "      <td>-7.898</td>\n",
       "      <td>1</td>\n",
       "      <td>0.0758</td>\n",
       "      <td>0.01420</td>\n",
       "      <td>0.045200</td>\n",
       "      <td>0.1230</td>\n",
       "      <td>0.3560</td>\n",
       "      <td>106.990</td>\n",
       "    </tr>\n",
       "    <tr>\n",
       "      <th>9</th>\n",
       "      <td>spotify:track:5LOiuvbH62YGtnwe6Ltt4T</td>\n",
       "      <td>Mirror</td>\n",
       "      <td>Kendrick Lamar</td>\n",
       "      <td>0.652</td>\n",
       "      <td>0.670</td>\n",
       "      <td>2</td>\n",
       "      <td>-8.766</td>\n",
       "      <td>1</td>\n",
       "      <td>0.0639</td>\n",
       "      <td>0.22500</td>\n",
       "      <td>0.000014</td>\n",
       "      <td>0.0804</td>\n",
       "      <td>0.2740</td>\n",
       "      <td>91.933</td>\n",
       "    </tr>\n",
       "  </tbody>\n",
       "</table>\n",
       "</div>"
      ],
      "text/plain": [
       "                                     id                 name          artist  \\\n",
       "0  spotify:track:5wJLHCCnOmakrb8JdGQyUE    Southern Magnolia    Maharaj Trio   \n",
       "1  spotify:track:5MMW4CZsZiZt2iuqAXzzWC     The Heart Part 5  Kendrick Lamar   \n",
       "2  spotify:track:5p56JT5F9a1z9pwXnqTg7d   Worldwide Steppers  Kendrick Lamar   \n",
       "3  spotify:track:4IVtwWBNj9NEBNR7tkXDqb           Satellites     Ravyn Lenae   \n",
       "4  spotify:track:16yjTWzlK1IVHh3kE61lbJ              Love Me  Braxe + Falcon   \n",
       "5  spotify:track:6C16HI9Xpyax86txvnWvNV  For One Moment Only    Dieter Reith   \n",
       "6  spotify:track:5eGvUvIliCcmFqwC8kQSAw          A Hairdryer       The Smile   \n",
       "7  spotify:track:2IIELm4RfoyxSYuTYDVZ7t                  Air           SAULT   \n",
       "8  spotify:track:72YauydKDuwpnd6nr8NIKK           Home Maker  Sudan Archives   \n",
       "9  spotify:track:5LOiuvbH62YGtnwe6Ltt4T               Mirror  Kendrick Lamar   \n",
       "\n",
       "   danceability  energy  key  loudness  mode  speechiness  acousticness  \\\n",
       "0         0.694   0.644    9   -10.038     0       0.0334       0.00104   \n",
       "1         0.700   0.812    1    -8.128     0       0.2970       0.18300   \n",
       "2         0.514   0.472    8   -11.106     0       0.3680       0.75300   \n",
       "3         0.436   0.764    4    -6.347     0       0.0685       0.47400   \n",
       "4         0.771   0.726    2    -7.605     0       0.0905       0.00900   \n",
       "5         0.530   0.531    1   -14.323     1       0.0264       0.59200   \n",
       "6         0.344   0.555    6    -8.946     1       0.0351       0.74600   \n",
       "7         0.217   0.223    1   -13.607     1       0.0314       0.92700   \n",
       "8         0.766   0.550    1    -7.898     1       0.0758       0.01420   \n",
       "9         0.652   0.670    2    -8.766     1       0.0639       0.22500   \n",
       "\n",
       "   instrumentalness  liveness  valence    tempo  \n",
       "0          0.746000    0.0737   0.5290  104.953  \n",
       "1          0.000000    0.0756   0.8010   97.405  \n",
       "2          0.000120    0.0746   0.5570   77.215  \n",
       "3          0.350000    0.1250   0.2660  169.002  \n",
       "4          0.004940    0.0751   0.5280  107.993  \n",
       "5          0.633000    0.1390   0.5180   95.988  \n",
       "6          0.903000    0.1140   0.1120  145.339  \n",
       "7          0.920000    0.2130   0.0973   70.347  \n",
       "8          0.045200    0.1230   0.3560  106.990  \n",
       "9          0.000014    0.0804   0.2740   91.933  "
      ]
     },
     "execution_count": 30,
     "metadata": {},
     "output_type": "execute_result"
    }
   ],
   "source": [
    "top_tracks_df = get_top_tracks()\n",
    "mean_df = top_tracks_df.mean(axis=0)\n",
    "top_tracks_df.head(10)\n",
    "\n"
   ]
  },
  {
   "cell_type": "code",
   "execution_count": 29,
   "id": "807d71d4",
   "metadata": {},
   "outputs": [
    {
     "data": {
      "application/vnd.plotly.v1+json": {
       "config": {
        "plotlyServerURL": "https://plot.ly"
       },
       "data": [
        {
         "hovertemplate": "index=%{theta}<br>r=%{r}<extra></extra>",
         "legendgroup": "danceability",
         "marker": {
          "color": "#636EFA",
          "pattern": {
           "shape": ""
          }
         },
         "name": "danceability",
         "r": [
          0.5845400000000001
         ],
         "showlegend": true,
         "subplot": "polar",
         "theta": [
          "danceability"
         ],
         "type": "barpolar"
        },
        {
         "hovertemplate": "index=%{theta}<br>r=%{r}<extra></extra>",
         "legendgroup": "energy",
         "marker": {
          "color": "#EF553B",
          "pattern": {
           "shape": ""
          }
         },
         "name": "energy",
         "r": [
          0.58604
         ],
         "showlegend": true,
         "subplot": "polar",
         "theta": [
          "energy"
         ],
         "type": "barpolar"
        },
        {
         "hovertemplate": "index=%{theta}<br>r=%{r}<extra></extra>",
         "legendgroup": "speechiness",
         "marker": {
          "color": "#00CC96",
          "pattern": {
           "shape": ""
          }
         },
         "name": "speechiness",
         "r": [
          0.10225000000000001
         ],
         "showlegend": true,
         "subplot": "polar",
         "theta": [
          "speechiness"
         ],
         "type": "barpolar"
        },
        {
         "hovertemplate": "index=%{theta}<br>r=%{r}<extra></extra>",
         "legendgroup": "instrumentalness",
         "marker": {
          "color": "#AB63FA",
          "pattern": {
           "shape": ""
          }
         },
         "name": "instrumentalness",
         "r": [
          0.3001424202
         ],
         "showlegend": true,
         "subplot": "polar",
         "theta": [
          "instrumentalness"
         ],
         "type": "barpolar"
        },
        {
         "hovertemplate": "index=%{theta}<br>r=%{r}<extra></extra>",
         "legendgroup": "liveness",
         "marker": {
          "color": "#FFA15A",
          "pattern": {
           "shape": ""
          }
         },
         "name": "liveness",
         "r": [
          0.19451800000000002
         ],
         "showlegend": true,
         "subplot": "polar",
         "theta": [
          "liveness"
         ],
         "type": "barpolar"
        },
        {
         "hovertemplate": "index=%{theta}<br>r=%{r}<extra></extra>",
         "legendgroup": "valence",
         "marker": {
          "color": "#19D3F3",
          "pattern": {
           "shape": ""
          }
         },
         "name": "valence",
         "r": [
          0.41940600000000006
         ],
         "showlegend": true,
         "subplot": "polar",
         "theta": [
          "valence"
         ],
         "type": "barpolar"
        },
        {
         "hovertemplate": "index=%{theta}<br>r=%{r}<extra></extra>",
         "legendgroup": "mode",
         "marker": {
          "color": "#FF6692",
          "pattern": {
           "shape": ""
          }
         },
         "name": "mode",
         "r": [
          0.58
         ],
         "showlegend": true,
         "subplot": "polar",
         "theta": [
          "mode"
         ],
         "type": "barpolar"
        }
       ],
       "layout": {
        "barmode": "relative",
        "legend": {
         "title": {
          "text": "index"
         },
         "tracegroupgap": 0
        },
        "margin": {
         "t": 60
        },
        "polar": {
         "angularaxis": {
          "categoryarray": [
           "danceability",
           "energy",
           "speechiness",
           "instrumentalness",
           "liveness",
           "valence",
           "mode"
          ],
          "categoryorder": "array",
          "direction": "clockwise",
          "rotation": 90
         },
         "domain": {
          "x": [
           0,
           1
          ],
          "y": [
           0,
           1
          ]
         }
        },
        "template": {
         "data": {
          "bar": [
           {
            "error_x": {
             "color": "#f2f5fa"
            },
            "error_y": {
             "color": "#f2f5fa"
            },
            "marker": {
             "line": {
              "color": "rgb(17,17,17)",
              "width": 0.5
             },
             "pattern": {
              "fillmode": "overlay",
              "size": 10,
              "solidity": 0.2
             }
            },
            "type": "bar"
           }
          ],
          "barpolar": [
           {
            "marker": {
             "line": {
              "color": "rgb(17,17,17)",
              "width": 0.5
             },
             "pattern": {
              "fillmode": "overlay",
              "size": 10,
              "solidity": 0.2
             }
            },
            "type": "barpolar"
           }
          ],
          "carpet": [
           {
            "aaxis": {
             "endlinecolor": "#A2B1C6",
             "gridcolor": "#506784",
             "linecolor": "#506784",
             "minorgridcolor": "#506784",
             "startlinecolor": "#A2B1C6"
            },
            "baxis": {
             "endlinecolor": "#A2B1C6",
             "gridcolor": "#506784",
             "linecolor": "#506784",
             "minorgridcolor": "#506784",
             "startlinecolor": "#A2B1C6"
            },
            "type": "carpet"
           }
          ],
          "choropleth": [
           {
            "colorbar": {
             "outlinewidth": 0,
             "ticks": ""
            },
            "type": "choropleth"
           }
          ],
          "contour": [
           {
            "colorbar": {
             "outlinewidth": 0,
             "ticks": ""
            },
            "colorscale": [
             [
              0,
              "#0d0887"
             ],
             [
              0.1111111111111111,
              "#46039f"
             ],
             [
              0.2222222222222222,
              "#7201a8"
             ],
             [
              0.3333333333333333,
              "#9c179e"
             ],
             [
              0.4444444444444444,
              "#bd3786"
             ],
             [
              0.5555555555555556,
              "#d8576b"
             ],
             [
              0.6666666666666666,
              "#ed7953"
             ],
             [
              0.7777777777777778,
              "#fb9f3a"
             ],
             [
              0.8888888888888888,
              "#fdca26"
             ],
             [
              1,
              "#f0f921"
             ]
            ],
            "type": "contour"
           }
          ],
          "contourcarpet": [
           {
            "colorbar": {
             "outlinewidth": 0,
             "ticks": ""
            },
            "type": "contourcarpet"
           }
          ],
          "heatmap": [
           {
            "colorbar": {
             "outlinewidth": 0,
             "ticks": ""
            },
            "colorscale": [
             [
              0,
              "#0d0887"
             ],
             [
              0.1111111111111111,
              "#46039f"
             ],
             [
              0.2222222222222222,
              "#7201a8"
             ],
             [
              0.3333333333333333,
              "#9c179e"
             ],
             [
              0.4444444444444444,
              "#bd3786"
             ],
             [
              0.5555555555555556,
              "#d8576b"
             ],
             [
              0.6666666666666666,
              "#ed7953"
             ],
             [
              0.7777777777777778,
              "#fb9f3a"
             ],
             [
              0.8888888888888888,
              "#fdca26"
             ],
             [
              1,
              "#f0f921"
             ]
            ],
            "type": "heatmap"
           }
          ],
          "heatmapgl": [
           {
            "colorbar": {
             "outlinewidth": 0,
             "ticks": ""
            },
            "colorscale": [
             [
              0,
              "#0d0887"
             ],
             [
              0.1111111111111111,
              "#46039f"
             ],
             [
              0.2222222222222222,
              "#7201a8"
             ],
             [
              0.3333333333333333,
              "#9c179e"
             ],
             [
              0.4444444444444444,
              "#bd3786"
             ],
             [
              0.5555555555555556,
              "#d8576b"
             ],
             [
              0.6666666666666666,
              "#ed7953"
             ],
             [
              0.7777777777777778,
              "#fb9f3a"
             ],
             [
              0.8888888888888888,
              "#fdca26"
             ],
             [
              1,
              "#f0f921"
             ]
            ],
            "type": "heatmapgl"
           }
          ],
          "histogram": [
           {
            "marker": {
             "pattern": {
              "fillmode": "overlay",
              "size": 10,
              "solidity": 0.2
             }
            },
            "type": "histogram"
           }
          ],
          "histogram2d": [
           {
            "colorbar": {
             "outlinewidth": 0,
             "ticks": ""
            },
            "colorscale": [
             [
              0,
              "#0d0887"
             ],
             [
              0.1111111111111111,
              "#46039f"
             ],
             [
              0.2222222222222222,
              "#7201a8"
             ],
             [
              0.3333333333333333,
              "#9c179e"
             ],
             [
              0.4444444444444444,
              "#bd3786"
             ],
             [
              0.5555555555555556,
              "#d8576b"
             ],
             [
              0.6666666666666666,
              "#ed7953"
             ],
             [
              0.7777777777777778,
              "#fb9f3a"
             ],
             [
              0.8888888888888888,
              "#fdca26"
             ],
             [
              1,
              "#f0f921"
             ]
            ],
            "type": "histogram2d"
           }
          ],
          "histogram2dcontour": [
           {
            "colorbar": {
             "outlinewidth": 0,
             "ticks": ""
            },
            "colorscale": [
             [
              0,
              "#0d0887"
             ],
             [
              0.1111111111111111,
              "#46039f"
             ],
             [
              0.2222222222222222,
              "#7201a8"
             ],
             [
              0.3333333333333333,
              "#9c179e"
             ],
             [
              0.4444444444444444,
              "#bd3786"
             ],
             [
              0.5555555555555556,
              "#d8576b"
             ],
             [
              0.6666666666666666,
              "#ed7953"
             ],
             [
              0.7777777777777778,
              "#fb9f3a"
             ],
             [
              0.8888888888888888,
              "#fdca26"
             ],
             [
              1,
              "#f0f921"
             ]
            ],
            "type": "histogram2dcontour"
           }
          ],
          "mesh3d": [
           {
            "colorbar": {
             "outlinewidth": 0,
             "ticks": ""
            },
            "type": "mesh3d"
           }
          ],
          "parcoords": [
           {
            "line": {
             "colorbar": {
              "outlinewidth": 0,
              "ticks": ""
             }
            },
            "type": "parcoords"
           }
          ],
          "pie": [
           {
            "automargin": true,
            "type": "pie"
           }
          ],
          "scatter": [
           {
            "marker": {
             "line": {
              "color": "#283442"
             }
            },
            "type": "scatter"
           }
          ],
          "scatter3d": [
           {
            "line": {
             "colorbar": {
              "outlinewidth": 0,
              "ticks": ""
             }
            },
            "marker": {
             "colorbar": {
              "outlinewidth": 0,
              "ticks": ""
             }
            },
            "type": "scatter3d"
           }
          ],
          "scattercarpet": [
           {
            "marker": {
             "colorbar": {
              "outlinewidth": 0,
              "ticks": ""
             }
            },
            "type": "scattercarpet"
           }
          ],
          "scattergeo": [
           {
            "marker": {
             "colorbar": {
              "outlinewidth": 0,
              "ticks": ""
             }
            },
            "type": "scattergeo"
           }
          ],
          "scattergl": [
           {
            "marker": {
             "line": {
              "color": "#283442"
             }
            },
            "type": "scattergl"
           }
          ],
          "scattermapbox": [
           {
            "marker": {
             "colorbar": {
              "outlinewidth": 0,
              "ticks": ""
             }
            },
            "type": "scattermapbox"
           }
          ],
          "scatterpolar": [
           {
            "marker": {
             "colorbar": {
              "outlinewidth": 0,
              "ticks": ""
             }
            },
            "type": "scatterpolar"
           }
          ],
          "scatterpolargl": [
           {
            "marker": {
             "colorbar": {
              "outlinewidth": 0,
              "ticks": ""
             }
            },
            "type": "scatterpolargl"
           }
          ],
          "scatterternary": [
           {
            "marker": {
             "colorbar": {
              "outlinewidth": 0,
              "ticks": ""
             }
            },
            "type": "scatterternary"
           }
          ],
          "surface": [
           {
            "colorbar": {
             "outlinewidth": 0,
             "ticks": ""
            },
            "colorscale": [
             [
              0,
              "#0d0887"
             ],
             [
              0.1111111111111111,
              "#46039f"
             ],
             [
              0.2222222222222222,
              "#7201a8"
             ],
             [
              0.3333333333333333,
              "#9c179e"
             ],
             [
              0.4444444444444444,
              "#bd3786"
             ],
             [
              0.5555555555555556,
              "#d8576b"
             ],
             [
              0.6666666666666666,
              "#ed7953"
             ],
             [
              0.7777777777777778,
              "#fb9f3a"
             ],
             [
              0.8888888888888888,
              "#fdca26"
             ],
             [
              1,
              "#f0f921"
             ]
            ],
            "type": "surface"
           }
          ],
          "table": [
           {
            "cells": {
             "fill": {
              "color": "#506784"
             },
             "line": {
              "color": "rgb(17,17,17)"
             }
            },
            "header": {
             "fill": {
              "color": "#2a3f5f"
             },
             "line": {
              "color": "rgb(17,17,17)"
             }
            },
            "type": "table"
           }
          ]
         },
         "layout": {
          "annotationdefaults": {
           "arrowcolor": "#f2f5fa",
           "arrowhead": 0,
           "arrowwidth": 1
          },
          "autotypenumbers": "strict",
          "coloraxis": {
           "colorbar": {
            "outlinewidth": 0,
            "ticks": ""
           }
          },
          "colorscale": {
           "diverging": [
            [
             0,
             "#8e0152"
            ],
            [
             0.1,
             "#c51b7d"
            ],
            [
             0.2,
             "#de77ae"
            ],
            [
             0.3,
             "#f1b6da"
            ],
            [
             0.4,
             "#fde0ef"
            ],
            [
             0.5,
             "#f7f7f7"
            ],
            [
             0.6,
             "#e6f5d0"
            ],
            [
             0.7,
             "#b8e186"
            ],
            [
             0.8,
             "#7fbc41"
            ],
            [
             0.9,
             "#4d9221"
            ],
            [
             1,
             "#276419"
            ]
           ],
           "sequential": [
            [
             0,
             "#0d0887"
            ],
            [
             0.1111111111111111,
             "#46039f"
            ],
            [
             0.2222222222222222,
             "#7201a8"
            ],
            [
             0.3333333333333333,
             "#9c179e"
            ],
            [
             0.4444444444444444,
             "#bd3786"
            ],
            [
             0.5555555555555556,
             "#d8576b"
            ],
            [
             0.6666666666666666,
             "#ed7953"
            ],
            [
             0.7777777777777778,
             "#fb9f3a"
            ],
            [
             0.8888888888888888,
             "#fdca26"
            ],
            [
             1,
             "#f0f921"
            ]
           ],
           "sequentialminus": [
            [
             0,
             "#0d0887"
            ],
            [
             0.1111111111111111,
             "#46039f"
            ],
            [
             0.2222222222222222,
             "#7201a8"
            ],
            [
             0.3333333333333333,
             "#9c179e"
            ],
            [
             0.4444444444444444,
             "#bd3786"
            ],
            [
             0.5555555555555556,
             "#d8576b"
            ],
            [
             0.6666666666666666,
             "#ed7953"
            ],
            [
             0.7777777777777778,
             "#fb9f3a"
            ],
            [
             0.8888888888888888,
             "#fdca26"
            ],
            [
             1,
             "#f0f921"
            ]
           ]
          },
          "colorway": [
           "#636efa",
           "#EF553B",
           "#00cc96",
           "#ab63fa",
           "#FFA15A",
           "#19d3f3",
           "#FF6692",
           "#B6E880",
           "#FF97FF",
           "#FECB52"
          ],
          "font": {
           "color": "#f2f5fa"
          },
          "geo": {
           "bgcolor": "rgb(17,17,17)",
           "lakecolor": "rgb(17,17,17)",
           "landcolor": "rgb(17,17,17)",
           "showlakes": true,
           "showland": true,
           "subunitcolor": "#506784"
          },
          "hoverlabel": {
           "align": "left"
          },
          "hovermode": "closest",
          "mapbox": {
           "style": "dark"
          },
          "paper_bgcolor": "rgb(17,17,17)",
          "plot_bgcolor": "rgb(17,17,17)",
          "polar": {
           "angularaxis": {
            "gridcolor": "#506784",
            "linecolor": "#506784",
            "ticks": ""
           },
           "bgcolor": "rgb(17,17,17)",
           "radialaxis": {
            "gridcolor": "#506784",
            "linecolor": "#506784",
            "ticks": ""
           }
          },
          "scene": {
           "xaxis": {
            "backgroundcolor": "rgb(17,17,17)",
            "gridcolor": "#506784",
            "gridwidth": 2,
            "linecolor": "#506784",
            "showbackground": true,
            "ticks": "",
            "zerolinecolor": "#C8D4E3"
           },
           "yaxis": {
            "backgroundcolor": "rgb(17,17,17)",
            "gridcolor": "#506784",
            "gridwidth": 2,
            "linecolor": "#506784",
            "showbackground": true,
            "ticks": "",
            "zerolinecolor": "#C8D4E3"
           },
           "zaxis": {
            "backgroundcolor": "rgb(17,17,17)",
            "gridcolor": "#506784",
            "gridwidth": 2,
            "linecolor": "#506784",
            "showbackground": true,
            "ticks": "",
            "zerolinecolor": "#C8D4E3"
           }
          },
          "shapedefaults": {
           "line": {
            "color": "#f2f5fa"
           }
          },
          "sliderdefaults": {
           "bgcolor": "#C8D4E3",
           "bordercolor": "rgb(17,17,17)",
           "borderwidth": 1,
           "tickwidth": 0
          },
          "ternary": {
           "aaxis": {
            "gridcolor": "#506784",
            "linecolor": "#506784",
            "ticks": ""
           },
           "baxis": {
            "gridcolor": "#506784",
            "linecolor": "#506784",
            "ticks": ""
           },
           "bgcolor": "rgb(17,17,17)",
           "caxis": {
            "gridcolor": "#506784",
            "linecolor": "#506784",
            "ticks": ""
           }
          },
          "title": {
           "x": 0.05
          },
          "updatemenudefaults": {
           "bgcolor": "#506784",
           "borderwidth": 0
          },
          "xaxis": {
           "automargin": true,
           "gridcolor": "#283442",
           "linecolor": "#506784",
           "ticks": "",
           "title": {
            "standoff": 15
           },
           "zerolinecolor": "#283442",
           "zerolinewidth": 2
          },
          "yaxis": {
           "automargin": true,
           "gridcolor": "#283442",
           "linecolor": "#506784",
           "ticks": "",
           "title": {
            "standoff": 15
           },
           "zerolinecolor": "#283442",
           "zerolinewidth": 2
          }
         }
        }
       }
      }
     },
     "metadata": {},
     "output_type": "display_data"
    }
   ],
   "source": [
    "\n",
    "radar_df = mean_df.filter(items=['danceability','energy','speechiness','acoustincess','instrumentalness','liveness','valence','mode',])\n",
    "fig = px.bar_polar(radar_df, r=radar_df.values, theta=radar_df.index, \n",
    "                    range_r = [], color=radar_df.index,\n",
    "                    color_discrete_sequence=px.colors.qualitative.Plotly,\n",
    "                    template='plotly_dark')\n",
    "\n",
    "fig.show()"
   ]
  },
  {
   "cell_type": "code",
   "execution_count": 66,
   "id": "28687540",
   "metadata": {},
   "outputs": [],
   "source": [
    "X = np.array(top_tracks_df.drop(['id','name','artist'], axis=1))"
   ]
  },
  {
   "cell_type": "code",
   "execution_count": 111,
   "id": "528b5029",
   "metadata": {},
   "outputs": [
    {
     "data": {
      "application/vnd.plotly.v1+json": {
       "config": {
        "plotlyServerURL": "https://plot.ly"
       },
       "data": [
        {
         "hovertemplate": "# of Clusters=%{x}<br>WCSS=%{y}<extra></extra>",
         "legendgroup": "",
         "line": {
          "color": "#636efa",
          "dash": "solid"
         },
         "marker": {
          "symbol": "circle"
         },
         "mode": "lines",
         "name": "",
         "orientation": "v",
         "showlegend": false,
         "type": "scatter",
         "x": [
          1,
          2,
          3,
          4,
          5,
          6,
          7,
          8,
          9,
          10
         ],
         "xaxis": "x",
         "y": [
          41158.062744852046,
          14741.066211103995,
          6560.820172728656,
          4552.8074660724415,
          2789.7894261952183,
          2282.0036634928288,
          1908.5923203916846,
          1680.5809641263188,
          1411.3336605082682,
          1289.0129549929422
         ],
         "yaxis": "y"
        }
       ],
       "layout": {
        "legend": {
         "tracegroupgap": 0
        },
        "template": {
         "data": {
          "bar": [
           {
            "error_x": {
             "color": "#f2f5fa"
            },
            "error_y": {
             "color": "#f2f5fa"
            },
            "marker": {
             "line": {
              "color": "rgb(17,17,17)",
              "width": 0.5
             },
             "pattern": {
              "fillmode": "overlay",
              "size": 10,
              "solidity": 0.2
             }
            },
            "type": "bar"
           }
          ],
          "barpolar": [
           {
            "marker": {
             "line": {
              "color": "rgb(17,17,17)",
              "width": 0.5
             },
             "pattern": {
              "fillmode": "overlay",
              "size": 10,
              "solidity": 0.2
             }
            },
            "type": "barpolar"
           }
          ],
          "carpet": [
           {
            "aaxis": {
             "endlinecolor": "#A2B1C6",
             "gridcolor": "#506784",
             "linecolor": "#506784",
             "minorgridcolor": "#506784",
             "startlinecolor": "#A2B1C6"
            },
            "baxis": {
             "endlinecolor": "#A2B1C6",
             "gridcolor": "#506784",
             "linecolor": "#506784",
             "minorgridcolor": "#506784",
             "startlinecolor": "#A2B1C6"
            },
            "type": "carpet"
           }
          ],
          "choropleth": [
           {
            "colorbar": {
             "outlinewidth": 0,
             "ticks": ""
            },
            "type": "choropleth"
           }
          ],
          "contour": [
           {
            "colorbar": {
             "outlinewidth": 0,
             "ticks": ""
            },
            "colorscale": [
             [
              0,
              "#0d0887"
             ],
             [
              0.1111111111111111,
              "#46039f"
             ],
             [
              0.2222222222222222,
              "#7201a8"
             ],
             [
              0.3333333333333333,
              "#9c179e"
             ],
             [
              0.4444444444444444,
              "#bd3786"
             ],
             [
              0.5555555555555556,
              "#d8576b"
             ],
             [
              0.6666666666666666,
              "#ed7953"
             ],
             [
              0.7777777777777778,
              "#fb9f3a"
             ],
             [
              0.8888888888888888,
              "#fdca26"
             ],
             [
              1,
              "#f0f921"
             ]
            ],
            "type": "contour"
           }
          ],
          "contourcarpet": [
           {
            "colorbar": {
             "outlinewidth": 0,
             "ticks": ""
            },
            "type": "contourcarpet"
           }
          ],
          "heatmap": [
           {
            "colorbar": {
             "outlinewidth": 0,
             "ticks": ""
            },
            "colorscale": [
             [
              0,
              "#0d0887"
             ],
             [
              0.1111111111111111,
              "#46039f"
             ],
             [
              0.2222222222222222,
              "#7201a8"
             ],
             [
              0.3333333333333333,
              "#9c179e"
             ],
             [
              0.4444444444444444,
              "#bd3786"
             ],
             [
              0.5555555555555556,
              "#d8576b"
             ],
             [
              0.6666666666666666,
              "#ed7953"
             ],
             [
              0.7777777777777778,
              "#fb9f3a"
             ],
             [
              0.8888888888888888,
              "#fdca26"
             ],
             [
              1,
              "#f0f921"
             ]
            ],
            "type": "heatmap"
           }
          ],
          "heatmapgl": [
           {
            "colorbar": {
             "outlinewidth": 0,
             "ticks": ""
            },
            "colorscale": [
             [
              0,
              "#0d0887"
             ],
             [
              0.1111111111111111,
              "#46039f"
             ],
             [
              0.2222222222222222,
              "#7201a8"
             ],
             [
              0.3333333333333333,
              "#9c179e"
             ],
             [
              0.4444444444444444,
              "#bd3786"
             ],
             [
              0.5555555555555556,
              "#d8576b"
             ],
             [
              0.6666666666666666,
              "#ed7953"
             ],
             [
              0.7777777777777778,
              "#fb9f3a"
             ],
             [
              0.8888888888888888,
              "#fdca26"
             ],
             [
              1,
              "#f0f921"
             ]
            ],
            "type": "heatmapgl"
           }
          ],
          "histogram": [
           {
            "marker": {
             "pattern": {
              "fillmode": "overlay",
              "size": 10,
              "solidity": 0.2
             }
            },
            "type": "histogram"
           }
          ],
          "histogram2d": [
           {
            "colorbar": {
             "outlinewidth": 0,
             "ticks": ""
            },
            "colorscale": [
             [
              0,
              "#0d0887"
             ],
             [
              0.1111111111111111,
              "#46039f"
             ],
             [
              0.2222222222222222,
              "#7201a8"
             ],
             [
              0.3333333333333333,
              "#9c179e"
             ],
             [
              0.4444444444444444,
              "#bd3786"
             ],
             [
              0.5555555555555556,
              "#d8576b"
             ],
             [
              0.6666666666666666,
              "#ed7953"
             ],
             [
              0.7777777777777778,
              "#fb9f3a"
             ],
             [
              0.8888888888888888,
              "#fdca26"
             ],
             [
              1,
              "#f0f921"
             ]
            ],
            "type": "histogram2d"
           }
          ],
          "histogram2dcontour": [
           {
            "colorbar": {
             "outlinewidth": 0,
             "ticks": ""
            },
            "colorscale": [
             [
              0,
              "#0d0887"
             ],
             [
              0.1111111111111111,
              "#46039f"
             ],
             [
              0.2222222222222222,
              "#7201a8"
             ],
             [
              0.3333333333333333,
              "#9c179e"
             ],
             [
              0.4444444444444444,
              "#bd3786"
             ],
             [
              0.5555555555555556,
              "#d8576b"
             ],
             [
              0.6666666666666666,
              "#ed7953"
             ],
             [
              0.7777777777777778,
              "#fb9f3a"
             ],
             [
              0.8888888888888888,
              "#fdca26"
             ],
             [
              1,
              "#f0f921"
             ]
            ],
            "type": "histogram2dcontour"
           }
          ],
          "mesh3d": [
           {
            "colorbar": {
             "outlinewidth": 0,
             "ticks": ""
            },
            "type": "mesh3d"
           }
          ],
          "parcoords": [
           {
            "line": {
             "colorbar": {
              "outlinewidth": 0,
              "ticks": ""
             }
            },
            "type": "parcoords"
           }
          ],
          "pie": [
           {
            "automargin": true,
            "type": "pie"
           }
          ],
          "scatter": [
           {
            "marker": {
             "line": {
              "color": "#283442"
             }
            },
            "type": "scatter"
           }
          ],
          "scatter3d": [
           {
            "line": {
             "colorbar": {
              "outlinewidth": 0,
              "ticks": ""
             }
            },
            "marker": {
             "colorbar": {
              "outlinewidth": 0,
              "ticks": ""
             }
            },
            "type": "scatter3d"
           }
          ],
          "scattercarpet": [
           {
            "marker": {
             "colorbar": {
              "outlinewidth": 0,
              "ticks": ""
             }
            },
            "type": "scattercarpet"
           }
          ],
          "scattergeo": [
           {
            "marker": {
             "colorbar": {
              "outlinewidth": 0,
              "ticks": ""
             }
            },
            "type": "scattergeo"
           }
          ],
          "scattergl": [
           {
            "marker": {
             "line": {
              "color": "#283442"
             }
            },
            "type": "scattergl"
           }
          ],
          "scattermapbox": [
           {
            "marker": {
             "colorbar": {
              "outlinewidth": 0,
              "ticks": ""
             }
            },
            "type": "scattermapbox"
           }
          ],
          "scatterpolar": [
           {
            "marker": {
             "colorbar": {
              "outlinewidth": 0,
              "ticks": ""
             }
            },
            "type": "scatterpolar"
           }
          ],
          "scatterpolargl": [
           {
            "marker": {
             "colorbar": {
              "outlinewidth": 0,
              "ticks": ""
             }
            },
            "type": "scatterpolargl"
           }
          ],
          "scatterternary": [
           {
            "marker": {
             "colorbar": {
              "outlinewidth": 0,
              "ticks": ""
             }
            },
            "type": "scatterternary"
           }
          ],
          "surface": [
           {
            "colorbar": {
             "outlinewidth": 0,
             "ticks": ""
            },
            "colorscale": [
             [
              0,
              "#0d0887"
             ],
             [
              0.1111111111111111,
              "#46039f"
             ],
             [
              0.2222222222222222,
              "#7201a8"
             ],
             [
              0.3333333333333333,
              "#9c179e"
             ],
             [
              0.4444444444444444,
              "#bd3786"
             ],
             [
              0.5555555555555556,
              "#d8576b"
             ],
             [
              0.6666666666666666,
              "#ed7953"
             ],
             [
              0.7777777777777778,
              "#fb9f3a"
             ],
             [
              0.8888888888888888,
              "#fdca26"
             ],
             [
              1,
              "#f0f921"
             ]
            ],
            "type": "surface"
           }
          ],
          "table": [
           {
            "cells": {
             "fill": {
              "color": "#506784"
             },
             "line": {
              "color": "rgb(17,17,17)"
             }
            },
            "header": {
             "fill": {
              "color": "#2a3f5f"
             },
             "line": {
              "color": "rgb(17,17,17)"
             }
            },
            "type": "table"
           }
          ]
         },
         "layout": {
          "annotationdefaults": {
           "arrowcolor": "#f2f5fa",
           "arrowhead": 0,
           "arrowwidth": 1
          },
          "autotypenumbers": "strict",
          "coloraxis": {
           "colorbar": {
            "outlinewidth": 0,
            "ticks": ""
           }
          },
          "colorscale": {
           "diverging": [
            [
             0,
             "#8e0152"
            ],
            [
             0.1,
             "#c51b7d"
            ],
            [
             0.2,
             "#de77ae"
            ],
            [
             0.3,
             "#f1b6da"
            ],
            [
             0.4,
             "#fde0ef"
            ],
            [
             0.5,
             "#f7f7f7"
            ],
            [
             0.6,
             "#e6f5d0"
            ],
            [
             0.7,
             "#b8e186"
            ],
            [
             0.8,
             "#7fbc41"
            ],
            [
             0.9,
             "#4d9221"
            ],
            [
             1,
             "#276419"
            ]
           ],
           "sequential": [
            [
             0,
             "#0d0887"
            ],
            [
             0.1111111111111111,
             "#46039f"
            ],
            [
             0.2222222222222222,
             "#7201a8"
            ],
            [
             0.3333333333333333,
             "#9c179e"
            ],
            [
             0.4444444444444444,
             "#bd3786"
            ],
            [
             0.5555555555555556,
             "#d8576b"
            ],
            [
             0.6666666666666666,
             "#ed7953"
            ],
            [
             0.7777777777777778,
             "#fb9f3a"
            ],
            [
             0.8888888888888888,
             "#fdca26"
            ],
            [
             1,
             "#f0f921"
            ]
           ],
           "sequentialminus": [
            [
             0,
             "#0d0887"
            ],
            [
             0.1111111111111111,
             "#46039f"
            ],
            [
             0.2222222222222222,
             "#7201a8"
            ],
            [
             0.3333333333333333,
             "#9c179e"
            ],
            [
             0.4444444444444444,
             "#bd3786"
            ],
            [
             0.5555555555555556,
             "#d8576b"
            ],
            [
             0.6666666666666666,
             "#ed7953"
            ],
            [
             0.7777777777777778,
             "#fb9f3a"
            ],
            [
             0.8888888888888888,
             "#fdca26"
            ],
            [
             1,
             "#f0f921"
            ]
           ]
          },
          "colorway": [
           "#636efa",
           "#EF553B",
           "#00cc96",
           "#ab63fa",
           "#FFA15A",
           "#19d3f3",
           "#FF6692",
           "#B6E880",
           "#FF97FF",
           "#FECB52"
          ],
          "font": {
           "color": "#f2f5fa"
          },
          "geo": {
           "bgcolor": "rgb(17,17,17)",
           "lakecolor": "rgb(17,17,17)",
           "landcolor": "rgb(17,17,17)",
           "showlakes": true,
           "showland": true,
           "subunitcolor": "#506784"
          },
          "hoverlabel": {
           "align": "left"
          },
          "hovermode": "closest",
          "mapbox": {
           "style": "dark"
          },
          "paper_bgcolor": "rgb(17,17,17)",
          "plot_bgcolor": "rgb(17,17,17)",
          "polar": {
           "angularaxis": {
            "gridcolor": "#506784",
            "linecolor": "#506784",
            "ticks": ""
           },
           "bgcolor": "rgb(17,17,17)",
           "radialaxis": {
            "gridcolor": "#506784",
            "linecolor": "#506784",
            "ticks": ""
           }
          },
          "scene": {
           "xaxis": {
            "backgroundcolor": "rgb(17,17,17)",
            "gridcolor": "#506784",
            "gridwidth": 2,
            "linecolor": "#506784",
            "showbackground": true,
            "ticks": "",
            "zerolinecolor": "#C8D4E3"
           },
           "yaxis": {
            "backgroundcolor": "rgb(17,17,17)",
            "gridcolor": "#506784",
            "gridwidth": 2,
            "linecolor": "#506784",
            "showbackground": true,
            "ticks": "",
            "zerolinecolor": "#C8D4E3"
           },
           "zaxis": {
            "backgroundcolor": "rgb(17,17,17)",
            "gridcolor": "#506784",
            "gridwidth": 2,
            "linecolor": "#506784",
            "showbackground": true,
            "ticks": "",
            "zerolinecolor": "#C8D4E3"
           }
          },
          "shapedefaults": {
           "line": {
            "color": "#f2f5fa"
           }
          },
          "sliderdefaults": {
           "bgcolor": "#C8D4E3",
           "bordercolor": "rgb(17,17,17)",
           "borderwidth": 1,
           "tickwidth": 0
          },
          "ternary": {
           "aaxis": {
            "gridcolor": "#506784",
            "linecolor": "#506784",
            "ticks": ""
           },
           "baxis": {
            "gridcolor": "#506784",
            "linecolor": "#506784",
            "ticks": ""
           },
           "bgcolor": "rgb(17,17,17)",
           "caxis": {
            "gridcolor": "#506784",
            "linecolor": "#506784",
            "ticks": ""
           }
          },
          "title": {
           "x": 0.05
          },
          "updatemenudefaults": {
           "bgcolor": "#506784",
           "borderwidth": 0
          },
          "xaxis": {
           "automargin": true,
           "gridcolor": "#283442",
           "linecolor": "#506784",
           "ticks": "",
           "title": {
            "standoff": 15
           },
           "zerolinecolor": "#283442",
           "zerolinewidth": 2
          },
          "yaxis": {
           "automargin": true,
           "gridcolor": "#283442",
           "linecolor": "#506784",
           "ticks": "",
           "title": {
            "standoff": 15
           },
           "zerolinecolor": "#283442",
           "zerolinewidth": 2
          }
         }
        },
        "title": {
         "text": "Elbow Method"
        },
        "xaxis": {
         "anchor": "y",
         "domain": [
          0,
          1
         ],
         "title": {
          "text": "# of Clusters"
         }
        },
        "yaxis": {
         "anchor": "x",
         "domain": [
          0,
          1
         ],
         "title": {
          "text": "WCSS"
         }
        }
       }
      }
     },
     "metadata": {},
     "output_type": "display_data"
    }
   ],
   "source": [
    "wcss = []\n",
    "for i in range(1, 11):\n",
    "    kmeans = KMeans(n_clusters=i, init='k-means++', max_iter=300, n_init=10, random_state=0)\n",
    "    kmeans.fit(X)\n",
    "    wcss.append(kmeans.inertia_)\n",
    "df = pd.DataFrame(zip(range(1,11),wcss),columns=['# of Clusters','WCSS'])\n",
    "fig = px.line(df, x='# of Clusters',y='WCSS', title='Elbow Method',template='plotly_dark')\n",
    "fig.show()"
   ]
  },
  {
   "cell_type": "code",
   "execution_count": 112,
   "id": "99465000",
   "metadata": {},
   "outputs": [],
   "source": [
    "kmeans = KMeans(n_clusters=4, random_state=42)\n",
    "top_tracks_df['cluster'] = kmeans.fit_predict(X)\n",
    "X_proj = TSNE(n_components=2, learning_rate='auto',\n",
    "                  init='random', random_state=42).fit_transform(X)\n",
    "\n",
    "top_tracks_df['X'] = [item[0] for item in X_proj]\n",
    "top_tracks_df['Y'] = [item[1] for item in X_proj]\n",
    "\n"
   ]
  },
  {
   "cell_type": "code",
   "execution_count": 113,
   "id": "a014b5da",
   "metadata": {},
   "outputs": [
    {
     "data": {
      "application/vnd.plotly.v1+json": {
       "config": {
        "plotlyServerURL": "https://plot.ly"
       },
       "data": [
        {
         "customdata": [
          [
           2,
           0.694,
           "2"
          ],
          [
           2,
           0.7,
           "2"
          ],
          [
           2,
           0.771,
           "2"
          ],
          [
           2,
           0.53,
           "2"
          ],
          [
           2,
           0.766,
           "2"
          ],
          [
           2,
           0.652,
           "2"
          ],
          [
           2,
           0.8,
           "2"
          ],
          [
           2,
           0.703,
           "2"
          ],
          [
           2,
           0.66,
           "2"
          ],
          [
           2,
           0.29,
           "2"
          ],
          [
           2,
           0.6,
           "2"
          ],
          [
           2,
           0.548,
           "2"
          ],
          [
           2,
           0.584,
           "2"
          ],
          [
           2,
           0.711,
           "2"
          ],
          [
           2,
           0.763,
           "2"
          ],
          [
           2,
           0.492,
           "2"
          ]
         ],
         "hovertemplate": "<b>%{hovertext}</b><br><br><extra></extra>",
         "hovertext": [
          "Southern Magnolia - Maharaj Trio",
          "The Heart Part 5 - Kendrick Lamar",
          "Love Me - Braxe + Falcon",
          "For One Moment Only - Dieter Reith",
          "Home Maker - Sudan Archives",
          "Mirror - Kendrick Lamar",
          "Creative Source - Braxe + Falcon",
          "Simulation Swarm - Big Thief",
          "Odissi, Pt. 2 (Émotif) [Yuksek Remix] - Chassol",
          "Baby - Helena Deland",
          "Organon - Men I Trust",
          "There Only Once - The Soundcarriers",
          "black screen - LCD Soundsystem",
          "Walk Like an Egyptian - The Bangles",
          "Informer - Snow",
          "Tall Tales - Kennebec"
         ],
         "legendgroup": "2",
         "marker": {
          "color": "#636EFA",
          "size": [
           0.694,
           0.7,
           0.771,
           0.53,
           0.766,
           0.652,
           0.8,
           0.703,
           0.66,
           0.29,
           0.6,
           0.548,
           0.584,
           0.711,
           0.763,
           0.492
          ],
          "sizemode": "area",
          "sizeref": 0.0022125,
          "symbol": "circle"
         },
         "mode": "markers",
         "name": "2",
         "orientation": "v",
         "showlegend": true,
         "type": "scatter",
         "x": [
          2.53171443939209,
          1.8541350364685059,
          2.8053815364837646,
          1.7021583318710327,
          2.7038276195526123,
          1.4144073724746704,
          2.3579559326171875,
          2.5257582664489746,
          1.2691915035247803,
          2.138153076171875,
          1.7799845933914185,
          1.461241364479065,
          2.036489963531494,
          2.3207345008850098,
          1.909245252609253,
          1.3485058546066284
         ],
         "xaxis": "x",
         "y": [
          -0.7279953360557556,
          -1.1924891471862793,
          -1.0259531736373901,
          -1.1659239530563354,
          -1.0724046230316162,
          -1.1088007688522339,
          -1.2271833419799805,
          -1.0843101739883423,
          -0.7429392337799072,
          -0.9083568453788757,
          -0.6455901265144348,
          -0.5916056632995605,
          -0.693781316280365,
          -0.5422166585922241,
          -0.835951566696167,
          -1.168365716934204
         ],
         "yaxis": "y"
        },
        {
         "customdata": [
          [
           0,
           0.514,
           "0"
          ],
          [
           0,
           0.217,
           "0"
          ],
          [
           0,
           0.529,
           "0"
          ],
          [
           0,
           0.331,
           "0"
          ],
          [
           0,
           0.415,
           "0"
          ],
          [
           0,
           0.622,
           "0"
          ],
          [
           0,
           0.388,
           "0"
          ],
          [
           0,
           0.55,
           "0"
          ],
          [
           0,
           0.145,
           "0"
          ]
         ],
         "hovertemplate": "<b>%{hovertext}</b><br><br><extra></extra>",
         "hovertext": [
          "Worldwide Steppers - Kendrick Lamar",
          "Air - SAULT",
          "United In Grief - Kendrick Lamar",
          "Everything_Now (continued) - Arcade Fire",
          "Open The Floodgates - The Smile",
          "reprise - Yaya Bey",
          "Speech Bubbles - The Smile",
          "Collage - The Three Degrees",
          "5.17 - Thom Yorke"
         ],
         "legendgroup": "0",
         "marker": {
          "color": "#EF553B",
          "size": [
           0.514,
           0.217,
           0.529,
           0.331,
           0.415,
           0.622,
           0.388,
           0.55,
           0.145
          ],
          "sizemode": "area",
          "sizeref": 0.0022125,
          "symbol": "circle"
         },
         "mode": "markers",
         "name": "0",
         "orientation": "v",
         "showlegend": true,
         "type": "scatter",
         "x": [
          0.5409509539604187,
          0.31030479073524475,
          1.0023113489151,
          0.42943263053894043,
          0.741765558719635,
          0.6800050735473633,
          1.1070603132247925,
          0.8613417744636536,
          0.9810267090797424
         ],
         "xaxis": "x",
         "y": [
          -0.7553824186325073,
          -1.05853271484375,
          -0.627373218536377,
          -0.8716520667076111,
          -1.203277349472046,
          -0.6740256547927856,
          -1.222027063369751,
          -1.014355182647705,
          -1.2914950847625732
         ],
         "yaxis": "y"
        },
        {
         "customdata": [
          [
           3,
           0.436,
           "3"
          ],
          [
           3,
           0.727,
           "3"
          ],
          [
           3,
           0.473,
           "3"
          ],
          [
           3,
           0.383,
           "3"
          ],
          [
           3,
           0.77,
           "3"
          ],
          [
           3,
           0.514,
           "3"
          ]
         ],
         "hovertemplate": "<b>%{hovertext}</b><br><br><extra></extra>",
         "hovertext": [
          "Satellites - Ravyn Lenae",
          "Mr. Morale - Kendrick Lamar",
          "Black Cow - Steely Dan",
          "Pana-vision - The Smile",
          "Lost Track - HAIM",
          "Father Time (feat. Sampha) - Kendrick Lamar"
         ],
         "legendgroup": "3",
         "marker": {
          "color": "#00CC96",
          "size": [
           0.436,
           0.727,
           0.473,
           0.383,
           0.77,
           0.514
          ],
          "sizemode": "area",
          "sizeref": 0.0022125,
          "symbol": "circle"
         },
         "mode": "markers",
         "name": "3",
         "orientation": "v",
         "showlegend": true,
         "type": "scatter",
         "x": [
          6.221288204193115,
          6.303870677947998,
          6.461411476135254,
          6.371914386749268,
          6.059386730194092,
          5.782925605773926
         ],
         "xaxis": "x",
         "y": [
          -0.9231128096580505,
          -0.9183788299560547,
          -0.9287992715835571,
          -0.9233629703521729,
          -0.9157145619392395,
          -0.8944124579429626
         ],
         "yaxis": "y"
        },
        {
         "customdata": [
          [
           1,
           0.344,
           "1"
          ],
          [
           1,
           0.492,
           "1"
          ],
          [
           1,
           0.759,
           "1"
          ],
          [
           1,
           0.52,
           "1"
          ],
          [
           1,
           0.754,
           "1"
          ],
          [
           1,
           0.551,
           "1"
          ],
          [
           1,
           0.467,
           "1"
          ],
          [
           1,
           0.784,
           "1"
          ],
          [
           1,
           0.471,
           "1"
          ],
          [
           1,
           0.844,
           "1"
          ],
          [
           1,
           0.394,
           "1"
          ],
          [
           1,
           0.787,
           "1"
          ],
          [
           1,
           0.659,
           "1"
          ],
          [
           1,
           0.632,
           "1"
          ],
          [
           1,
           0.885,
           "1"
          ],
          [
           1,
           0.494,
           "1"
          ],
          [
           1,
           0.692,
           "1"
          ],
          [
           1,
           0.746,
           "1"
          ],
          [
           1,
           0.674,
           "1"
          ]
         ],
         "hovertemplate": "<b>%{hovertext}</b><br><br><extra></extra>",
         "hovertext": [
          "A Hairdryer - The Smile",
          "Mother I Sober (feat. Beth Gibbons of Portishead) - Kendrick Lamar",
          "On Hold - Jamie xx Remix - The xx",
          "Swimmer - Helena Deland",
          "Operator - DJ Koze's 12 inch Extended Disco Version - Låpsley",
          "Silent Chord - Soichi Terada",
          "SIR BAUDELAIRE (feat. DJ Drama) - Tyler, The Creator",
          "Love Somebody Else - Maceo Plex",
          "Step By Step - 12\" Version - Braxe + Falcon",
          "NEW DORP. NEW YORK - SBTRKT",
          "American Coffee - Jenny Hval",
          "Make You Smile - Franc Moody",
          "Age of Anxiety II (Rabbit Hole) - Arcade Fire",
          "Dancing in the Moonlight - Toploader",
          "Sunset - Jamie xx Edit - The xx",
          "Dragon Slayer - Animal Collective",
          "Too Long - Daft Punk",
          "Hémisphère - Paradis",
          "Please - Jessie Ware"
         ],
         "legendgroup": "1",
         "marker": {
          "color": "#AB63FA",
          "size": [
           0.344,
           0.492,
           0.759,
           0.52,
           0.754,
           0.551,
           0.467,
           0.784,
           0.471,
           0.844,
           0.394,
           0.787,
           0.659,
           0.632,
           0.885,
           0.494,
           0.692,
           0.746,
           0.674
          ],
          "sizemode": "area",
          "sizeref": 0.0022125,
          "symbol": "circle"
         },
         "mode": "markers",
         "name": "1",
         "orientation": "v",
         "showlegend": true,
         "type": "scatter",
         "x": [
          5.457337379455566,
          5.211859226226807,
          4.542235374450684,
          4.916326522827148,
          3.9163684844970703,
          4.199311256408691,
          4.513515949249268,
          4.212436676025391,
          5.4975738525390625,
          3.7629237174987793,
          3.4074697494506836,
          4.611006736755371,
          3.752861738204956,
          3.8514556884765625,
          3.92402982711792,
          5.5427117347717285,
          4.4633893966674805,
          4.554001808166504,
          3.881042718887329
         ],
         "xaxis": "x",
         "y": [
          -0.9191047549247742,
          -0.8565841317176819,
          -1.2249562740325928,
          -0.9538240432739258,
          -0.6764926910400391,
          -0.6774709224700928,
          -0.8275747895240784,
          -1.033900499343872,
          -0.9908198714256287,
          -1.2109802961349487,
          -1.031894564628601,
          -0.7295737266540527,
          -0.8770369291305542,
          -0.6831986904144287,
          -0.6491902470588684,
          -0.8573572039604187,
          -1.048316240310669,
          -0.9783282279968262,
          -0.9765315055847168
         ],
         "yaxis": "y"
        }
       ],
       "layout": {
        "legend": {
         "itemsizing": "constant",
         "title": {
          "text": "cluster_str"
         },
         "tracegroupgap": 0
        },
        "margin": {
         "t": 60
        },
        "showlegend": false,
        "template": {
         "data": {
          "bar": [
           {
            "error_x": {
             "color": "#f2f5fa"
            },
            "error_y": {
             "color": "#f2f5fa"
            },
            "marker": {
             "line": {
              "color": "rgb(17,17,17)",
              "width": 0.5
             },
             "pattern": {
              "fillmode": "overlay",
              "size": 10,
              "solidity": 0.2
             }
            },
            "type": "bar"
           }
          ],
          "barpolar": [
           {
            "marker": {
             "line": {
              "color": "rgb(17,17,17)",
              "width": 0.5
             },
             "pattern": {
              "fillmode": "overlay",
              "size": 10,
              "solidity": 0.2
             }
            },
            "type": "barpolar"
           }
          ],
          "carpet": [
           {
            "aaxis": {
             "endlinecolor": "#A2B1C6",
             "gridcolor": "#506784",
             "linecolor": "#506784",
             "minorgridcolor": "#506784",
             "startlinecolor": "#A2B1C6"
            },
            "baxis": {
             "endlinecolor": "#A2B1C6",
             "gridcolor": "#506784",
             "linecolor": "#506784",
             "minorgridcolor": "#506784",
             "startlinecolor": "#A2B1C6"
            },
            "type": "carpet"
           }
          ],
          "choropleth": [
           {
            "colorbar": {
             "outlinewidth": 0,
             "ticks": ""
            },
            "type": "choropleth"
           }
          ],
          "contour": [
           {
            "colorbar": {
             "outlinewidth": 0,
             "ticks": ""
            },
            "colorscale": [
             [
              0,
              "#0d0887"
             ],
             [
              0.1111111111111111,
              "#46039f"
             ],
             [
              0.2222222222222222,
              "#7201a8"
             ],
             [
              0.3333333333333333,
              "#9c179e"
             ],
             [
              0.4444444444444444,
              "#bd3786"
             ],
             [
              0.5555555555555556,
              "#d8576b"
             ],
             [
              0.6666666666666666,
              "#ed7953"
             ],
             [
              0.7777777777777778,
              "#fb9f3a"
             ],
             [
              0.8888888888888888,
              "#fdca26"
             ],
             [
              1,
              "#f0f921"
             ]
            ],
            "type": "contour"
           }
          ],
          "contourcarpet": [
           {
            "colorbar": {
             "outlinewidth": 0,
             "ticks": ""
            },
            "type": "contourcarpet"
           }
          ],
          "heatmap": [
           {
            "colorbar": {
             "outlinewidth": 0,
             "ticks": ""
            },
            "colorscale": [
             [
              0,
              "#0d0887"
             ],
             [
              0.1111111111111111,
              "#46039f"
             ],
             [
              0.2222222222222222,
              "#7201a8"
             ],
             [
              0.3333333333333333,
              "#9c179e"
             ],
             [
              0.4444444444444444,
              "#bd3786"
             ],
             [
              0.5555555555555556,
              "#d8576b"
             ],
             [
              0.6666666666666666,
              "#ed7953"
             ],
             [
              0.7777777777777778,
              "#fb9f3a"
             ],
             [
              0.8888888888888888,
              "#fdca26"
             ],
             [
              1,
              "#f0f921"
             ]
            ],
            "type": "heatmap"
           }
          ],
          "heatmapgl": [
           {
            "colorbar": {
             "outlinewidth": 0,
             "ticks": ""
            },
            "colorscale": [
             [
              0,
              "#0d0887"
             ],
             [
              0.1111111111111111,
              "#46039f"
             ],
             [
              0.2222222222222222,
              "#7201a8"
             ],
             [
              0.3333333333333333,
              "#9c179e"
             ],
             [
              0.4444444444444444,
              "#bd3786"
             ],
             [
              0.5555555555555556,
              "#d8576b"
             ],
             [
              0.6666666666666666,
              "#ed7953"
             ],
             [
              0.7777777777777778,
              "#fb9f3a"
             ],
             [
              0.8888888888888888,
              "#fdca26"
             ],
             [
              1,
              "#f0f921"
             ]
            ],
            "type": "heatmapgl"
           }
          ],
          "histogram": [
           {
            "marker": {
             "pattern": {
              "fillmode": "overlay",
              "size": 10,
              "solidity": 0.2
             }
            },
            "type": "histogram"
           }
          ],
          "histogram2d": [
           {
            "colorbar": {
             "outlinewidth": 0,
             "ticks": ""
            },
            "colorscale": [
             [
              0,
              "#0d0887"
             ],
             [
              0.1111111111111111,
              "#46039f"
             ],
             [
              0.2222222222222222,
              "#7201a8"
             ],
             [
              0.3333333333333333,
              "#9c179e"
             ],
             [
              0.4444444444444444,
              "#bd3786"
             ],
             [
              0.5555555555555556,
              "#d8576b"
             ],
             [
              0.6666666666666666,
              "#ed7953"
             ],
             [
              0.7777777777777778,
              "#fb9f3a"
             ],
             [
              0.8888888888888888,
              "#fdca26"
             ],
             [
              1,
              "#f0f921"
             ]
            ],
            "type": "histogram2d"
           }
          ],
          "histogram2dcontour": [
           {
            "colorbar": {
             "outlinewidth": 0,
             "ticks": ""
            },
            "colorscale": [
             [
              0,
              "#0d0887"
             ],
             [
              0.1111111111111111,
              "#46039f"
             ],
             [
              0.2222222222222222,
              "#7201a8"
             ],
             [
              0.3333333333333333,
              "#9c179e"
             ],
             [
              0.4444444444444444,
              "#bd3786"
             ],
             [
              0.5555555555555556,
              "#d8576b"
             ],
             [
              0.6666666666666666,
              "#ed7953"
             ],
             [
              0.7777777777777778,
              "#fb9f3a"
             ],
             [
              0.8888888888888888,
              "#fdca26"
             ],
             [
              1,
              "#f0f921"
             ]
            ],
            "type": "histogram2dcontour"
           }
          ],
          "mesh3d": [
           {
            "colorbar": {
             "outlinewidth": 0,
             "ticks": ""
            },
            "type": "mesh3d"
           }
          ],
          "parcoords": [
           {
            "line": {
             "colorbar": {
              "outlinewidth": 0,
              "ticks": ""
             }
            },
            "type": "parcoords"
           }
          ],
          "pie": [
           {
            "automargin": true,
            "type": "pie"
           }
          ],
          "scatter": [
           {
            "marker": {
             "line": {
              "color": "#283442"
             }
            },
            "type": "scatter"
           }
          ],
          "scatter3d": [
           {
            "line": {
             "colorbar": {
              "outlinewidth": 0,
              "ticks": ""
             }
            },
            "marker": {
             "colorbar": {
              "outlinewidth": 0,
              "ticks": ""
             }
            },
            "type": "scatter3d"
           }
          ],
          "scattercarpet": [
           {
            "marker": {
             "colorbar": {
              "outlinewidth": 0,
              "ticks": ""
             }
            },
            "type": "scattercarpet"
           }
          ],
          "scattergeo": [
           {
            "marker": {
             "colorbar": {
              "outlinewidth": 0,
              "ticks": ""
             }
            },
            "type": "scattergeo"
           }
          ],
          "scattergl": [
           {
            "marker": {
             "line": {
              "color": "#283442"
             }
            },
            "type": "scattergl"
           }
          ],
          "scattermapbox": [
           {
            "marker": {
             "colorbar": {
              "outlinewidth": 0,
              "ticks": ""
             }
            },
            "type": "scattermapbox"
           }
          ],
          "scatterpolar": [
           {
            "marker": {
             "colorbar": {
              "outlinewidth": 0,
              "ticks": ""
             }
            },
            "type": "scatterpolar"
           }
          ],
          "scatterpolargl": [
           {
            "marker": {
             "colorbar": {
              "outlinewidth": 0,
              "ticks": ""
             }
            },
            "type": "scatterpolargl"
           }
          ],
          "scatterternary": [
           {
            "marker": {
             "colorbar": {
              "outlinewidth": 0,
              "ticks": ""
             }
            },
            "type": "scatterternary"
           }
          ],
          "surface": [
           {
            "colorbar": {
             "outlinewidth": 0,
             "ticks": ""
            },
            "colorscale": [
             [
              0,
              "#0d0887"
             ],
             [
              0.1111111111111111,
              "#46039f"
             ],
             [
              0.2222222222222222,
              "#7201a8"
             ],
             [
              0.3333333333333333,
              "#9c179e"
             ],
             [
              0.4444444444444444,
              "#bd3786"
             ],
             [
              0.5555555555555556,
              "#d8576b"
             ],
             [
              0.6666666666666666,
              "#ed7953"
             ],
             [
              0.7777777777777778,
              "#fb9f3a"
             ],
             [
              0.8888888888888888,
              "#fdca26"
             ],
             [
              1,
              "#f0f921"
             ]
            ],
            "type": "surface"
           }
          ],
          "table": [
           {
            "cells": {
             "fill": {
              "color": "#506784"
             },
             "line": {
              "color": "rgb(17,17,17)"
             }
            },
            "header": {
             "fill": {
              "color": "#2a3f5f"
             },
             "line": {
              "color": "rgb(17,17,17)"
             }
            },
            "type": "table"
           }
          ]
         },
         "layout": {
          "annotationdefaults": {
           "arrowcolor": "#f2f5fa",
           "arrowhead": 0,
           "arrowwidth": 1
          },
          "autotypenumbers": "strict",
          "coloraxis": {
           "colorbar": {
            "outlinewidth": 0,
            "ticks": ""
           }
          },
          "colorscale": {
           "diverging": [
            [
             0,
             "#8e0152"
            ],
            [
             0.1,
             "#c51b7d"
            ],
            [
             0.2,
             "#de77ae"
            ],
            [
             0.3,
             "#f1b6da"
            ],
            [
             0.4,
             "#fde0ef"
            ],
            [
             0.5,
             "#f7f7f7"
            ],
            [
             0.6,
             "#e6f5d0"
            ],
            [
             0.7,
             "#b8e186"
            ],
            [
             0.8,
             "#7fbc41"
            ],
            [
             0.9,
             "#4d9221"
            ],
            [
             1,
             "#276419"
            ]
           ],
           "sequential": [
            [
             0,
             "#0d0887"
            ],
            [
             0.1111111111111111,
             "#46039f"
            ],
            [
             0.2222222222222222,
             "#7201a8"
            ],
            [
             0.3333333333333333,
             "#9c179e"
            ],
            [
             0.4444444444444444,
             "#bd3786"
            ],
            [
             0.5555555555555556,
             "#d8576b"
            ],
            [
             0.6666666666666666,
             "#ed7953"
            ],
            [
             0.7777777777777778,
             "#fb9f3a"
            ],
            [
             0.8888888888888888,
             "#fdca26"
            ],
            [
             1,
             "#f0f921"
            ]
           ],
           "sequentialminus": [
            [
             0,
             "#0d0887"
            ],
            [
             0.1111111111111111,
             "#46039f"
            ],
            [
             0.2222222222222222,
             "#7201a8"
            ],
            [
             0.3333333333333333,
             "#9c179e"
            ],
            [
             0.4444444444444444,
             "#bd3786"
            ],
            [
             0.5555555555555556,
             "#d8576b"
            ],
            [
             0.6666666666666666,
             "#ed7953"
            ],
            [
             0.7777777777777778,
             "#fb9f3a"
            ],
            [
             0.8888888888888888,
             "#fdca26"
            ],
            [
             1,
             "#f0f921"
            ]
           ]
          },
          "colorway": [
           "#636efa",
           "#EF553B",
           "#00cc96",
           "#ab63fa",
           "#FFA15A",
           "#19d3f3",
           "#FF6692",
           "#B6E880",
           "#FF97FF",
           "#FECB52"
          ],
          "font": {
           "color": "#f2f5fa"
          },
          "geo": {
           "bgcolor": "rgb(17,17,17)",
           "lakecolor": "rgb(17,17,17)",
           "landcolor": "rgb(17,17,17)",
           "showlakes": true,
           "showland": true,
           "subunitcolor": "#506784"
          },
          "hoverlabel": {
           "align": "left"
          },
          "hovermode": "closest",
          "mapbox": {
           "style": "dark"
          },
          "paper_bgcolor": "rgb(17,17,17)",
          "plot_bgcolor": "rgb(17,17,17)",
          "polar": {
           "angularaxis": {
            "gridcolor": "#506784",
            "linecolor": "#506784",
            "ticks": ""
           },
           "bgcolor": "rgb(17,17,17)",
           "radialaxis": {
            "gridcolor": "#506784",
            "linecolor": "#506784",
            "ticks": ""
           }
          },
          "scene": {
           "xaxis": {
            "backgroundcolor": "rgb(17,17,17)",
            "gridcolor": "#506784",
            "gridwidth": 2,
            "linecolor": "#506784",
            "showbackground": true,
            "ticks": "",
            "zerolinecolor": "#C8D4E3"
           },
           "yaxis": {
            "backgroundcolor": "rgb(17,17,17)",
            "gridcolor": "#506784",
            "gridwidth": 2,
            "linecolor": "#506784",
            "showbackground": true,
            "ticks": "",
            "zerolinecolor": "#C8D4E3"
           },
           "zaxis": {
            "backgroundcolor": "rgb(17,17,17)",
            "gridcolor": "#506784",
            "gridwidth": 2,
            "linecolor": "#506784",
            "showbackground": true,
            "ticks": "",
            "zerolinecolor": "#C8D4E3"
           }
          },
          "shapedefaults": {
           "line": {
            "color": "#f2f5fa"
           }
          },
          "sliderdefaults": {
           "bgcolor": "#C8D4E3",
           "bordercolor": "rgb(17,17,17)",
           "borderwidth": 1,
           "tickwidth": 0
          },
          "ternary": {
           "aaxis": {
            "gridcolor": "#506784",
            "linecolor": "#506784",
            "ticks": ""
           },
           "baxis": {
            "gridcolor": "#506784",
            "linecolor": "#506784",
            "ticks": ""
           },
           "bgcolor": "rgb(17,17,17)",
           "caxis": {
            "gridcolor": "#506784",
            "linecolor": "#506784",
            "ticks": ""
           }
          },
          "title": {
           "x": 0.05
          },
          "updatemenudefaults": {
           "bgcolor": "#506784",
           "borderwidth": 0
          },
          "xaxis": {
           "automargin": true,
           "gridcolor": "#283442",
           "linecolor": "#506784",
           "ticks": "",
           "title": {
            "standoff": 15
           },
           "zerolinecolor": "#283442",
           "zerolinewidth": 2
          },
          "yaxis": {
           "automargin": true,
           "gridcolor": "#283442",
           "linecolor": "#506784",
           "ticks": "",
           "title": {
            "standoff": 15
           },
           "zerolinecolor": "#283442",
           "zerolinewidth": 2
          }
         }
        },
        "xaxis": {
         "anchor": "y",
         "domain": [
          0,
          1
         ],
         "title": {
          "text": "X"
         },
         "visible": false
        },
        "yaxis": {
         "anchor": "x",
         "domain": [
          0,
          1
         ],
         "title": {
          "text": "Y"
         },
         "visible": false
        }
       }
      }
     },
     "metadata": {},
     "output_type": "display_data"
    }
   ],
   "source": [
    "top_tracks_df['cluster_str'] = top_tracks_df['cluster'].astype(str)\n",
    "top_tracks_df['track_str'] = top_tracks_df['name'] + \" - \" + top_tracks_df['artist']\n",
    "\n",
    "size = 'danceability'\n",
    "hover_dict = {'X':False,'Y':False,'cluster':False,size:False, 'cluster_str':False}\n",
    "\n",
    "fig = px.scatter(top_tracks_df,x='X',y='Y',color='cluster_str',size=size, template='plotly_dark', hover_name=\"track_str\", hover_data=hover_dict,\n",
    "                color_discrete_sequence=px.colors.qualitative.Plotly)\n",
    "#legend\n",
    "fig.update_layout(showlegend=False)\n",
    "#x axis\n",
    "fig.update_xaxes(visible=False)\n",
    "\n",
    "#y axis    \n",
    "fig.update_yaxes(visible=False)\n",
    "fig.show()"
   ]
  },
  {
   "cell_type": "code",
   "execution_count": null,
   "id": "4edc10ac",
   "metadata": {},
   "outputs": [],
   "source": []
  }
 ],
 "metadata": {
  "kernelspec": {
   "display_name": "Python 3.9.12 ('spotify-ml')",
   "language": "python",
   "name": "python3"
  },
  "language_info": {
   "codemirror_mode": {
    "name": "ipython",
    "version": 3
   },
   "file_extension": ".py",
   "mimetype": "text/x-python",
   "name": "python",
   "nbconvert_exporter": "python",
   "pygments_lexer": "ipython3",
   "version": "3.9.12"
  },
  "vscode": {
   "interpreter": {
    "hash": "1ca278026a607c41f8d329b656447d74a1bcc39e8009c79f04372c9b9c8a84a5"
   }
  }
 },
 "nbformat": 4,
 "nbformat_minor": 5
}
