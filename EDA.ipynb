{
 "cells": [
  {
   "cell_type": "code",
   "execution_count": 63,
   "id": "7db4092f",
   "metadata": {},
   "outputs": [],
   "source": [
    "import spotipy\n",
    "from spotipy.oauth2 import SpotifyClientCredentials, SpotifyOAuth\n",
    "import pandas as pd\n",
    "import plotly.express as px\n",
    "from sklearn.cluster import KMeans\n",
    "from sklearn.manifold import TSNE\n",
    "import numpy as np\n",
    "import matplotlib.pyplot as plt\n"
   ]
  },
  {
   "cell_type": "code",
   "execution_count": 3,
   "id": "69815298",
   "metadata": {},
   "outputs": [],
   "source": [
    "SPOTIPY_CLIENT_ID='aa3b040fe8a14f47babd5211bc20f4c8'  \n",
    "SPOTIPY_SECRET_ID='7274e34729fc407d9f0bef405fd24805'\n",
    "SPOTIPY_REDIRECT_URI='http://localhost:3005/callback/'"
   ]
  },
  {
   "cell_type": "code",
   "execution_count": 4,
   "id": "7be9cef2",
   "metadata": {},
   "outputs": [],
   "source": [
    "scope = \"user-library-read, playlist-read-private, user-read-private, user-read-playback-state, user-top-read, user-follow-read, user-read-currently-playing, user-read-recently-played\"\n",
    "\n",
    "auth_manager = SpotifyOAuth(client_id=SPOTIPY_CLIENT_ID, client_secret= SPOTIPY_SECRET_ID, redirect_uri=SPOTIPY_REDIRECT_URI, scope=scope)\n",
    "sp = spotipy.Spotify(auth_manager=auth_manager)\n",
    "\n"
   ]
  },
  {
   "cell_type": "code",
   "execution_count": 5,
   "id": "728da8e1",
   "metadata": {},
   "outputs": [
    {
     "name": "stdout",
     "output_type": "stream",
     "text": [
      "   1 spotify:playlist:2ijdBcHfEmWXoz2QDn8YHx Groove\n",
      "   2 spotify:playlist:3e74riRWhnRhgvSGWbrHdm Parties...\n",
      "   3 spotify:playlist:1b9TmDoNUFe9IzTgAcyDzO Soul\n"
     ]
    }
   ],
   "source": [
    "playlists = sp.current_user_playlists()\n",
    "while playlists:\n",
    "    for i, playlist in enumerate(playlists['items']):\n",
    "        print(\"%4d %s %s\" % (i + 1 + playlists['offset'], playlist['uri'],  playlist['name']))\n",
    "    if playlists['next']:\n",
    "        playlists = sp.next(playlists)\n",
    "    else:\n",
    "        playlists = None"
   ]
  },
  {
   "cell_type": "code",
   "execution_count": 6,
   "id": "6a49ffb2",
   "metadata": {},
   "outputs": [
    {
     "name": "stdout",
     "output_type": "stream",
     "text": [
      "Remember Your North Star\n",
      "Janky Star\n",
      "Step By Step EP\n",
      "The Heart Part 5\n",
      "Classic Objects\n",
      "Blackstar\n",
      "Big Time\n",
      "HYPNOS\n",
      "Mr. Morale & The Big Steppers\n",
      "A Light for Attracting Attention\n",
      "Car Therapy Sessions\n",
      "Space 1.8\n",
      "Butterfly\n",
      "Air\n",
      "ENTERTAINMENT, DEATH\n",
      "Untourable Album\n",
      "5.17\n",
      "PAINLESS\n",
      "Dragon New Warm Mountain I Believe In You\n",
      "Drawing Room\n",
      "Time Skiffs\n",
      "Aja\n",
      "Asakusa Light\n",
      "Magical Mystery Tour (Remastered)\n",
      "Sometimes I Might Be Introvert\n",
      "Let It Be (Remastered)\n",
      "Fatigue\n",
      "Jubilee\n",
      "What's Your Pleasure? (The Platinum Pleasure Edition)\n",
      "Nosso Ritmo\n",
      "xx\n",
      "I See You\n",
      "Coexist\n",
      "Blue Weekend\n",
      "Yankee Hotel Foxtrot\n",
      "Summerteeth\n",
      "Titanic Rising\n",
      "Front Row Seat to Earth\n",
      "Weezer (Green Album)\n",
      "Weezer\n",
      "Pinkerton\n",
      "Ignorance\n",
      "Lost In The Dream\n",
      "The Velvet Underground & Nico 45th Anniversary\n",
      "It's Album Time\n",
      "Contra\n",
      "Father of the Bride\n",
      "Modern Vampires of the City\n",
      "Vampire Weekend\n",
      "Boy (Remastered)\n"
     ]
    }
   ],
   "source": [
    "albums = sp.current_user_saved_albums(limit=50)\n",
    "for album in albums['items']:\n",
    "    print(album['album']['name'])\n",
    "\n"
   ]
  },
  {
   "cell_type": "code",
   "execution_count": 7,
   "id": "f484df2d",
   "metadata": {},
   "outputs": [],
   "source": [
    "playlists = sp.current_user_playlists()\n",
    "groove = playlists['items'][0] #first playlist\n",
    "\n"
   ]
  },
  {
   "cell_type": "code",
   "execution_count": 8,
   "id": "c82f9256",
   "metadata": {},
   "outputs": [],
   "source": [
    "def get_top_tracks():\n",
    "    top_tracks = sp.current_user_top_tracks(limit=50)\n",
    "    artists = []\n",
    "    track_names = []\n",
    "    track_ids = []\n",
    "    danceability = []\n",
    "    energy = []\n",
    "    key = []\n",
    "    loudness = []\n",
    "    mode = []\n",
    "    speechiness = []\n",
    "    acousticness = []\n",
    "    instrumentalness = []\n",
    "    liveness = []\n",
    "    valence = []\n",
    "    tempo = []\n",
    "    \n",
    "    for idx, item in enumerate(top_tracks['items']):\n",
    "        track = item['name']\n",
    "        uri = item['uri']\n",
    "        artist = item['artists'][0]['name']\n",
    "        artists.append(artist)\n",
    "        track_names.append(track)\n",
    "        track_ids.append(uri)\n",
    "        features = sp.audio_features(uri)[0]\n",
    "        danceability.append(features['danceability'])\n",
    "        energy.append(features['energy'])\n",
    "        key.append(features['key'])\n",
    "        loudness.append(features['loudness'])\n",
    "        mode.append(features['mode'])\n",
    "        speechiness.append(features['speechiness'])\n",
    "        acousticness.append(features['acousticness'])\n",
    "        instrumentalness.append(features['instrumentalness'])\n",
    "        liveness.append(features['liveness'])\n",
    "        valence.append(features['valence'])\n",
    "        tempo.append(features['tempo'])\n",
    "\n",
    "    df = pd.DataFrame(list(zip(track_ids,track_names,artists, \n",
    "                        danceability,energy,key,loudness,mode,speechiness,acousticness,instrumentalness,liveness, valence, tempo)), \n",
    "                        columns=['id','name','artist', 'danceability','energy','key','loudness','mode','speechiness','acousticness',\n",
    "                        'instrumentalness','liveness','valence', 'tempo'])\n",
    "    return df\n",
    "\n",
    "\n",
    "\n"
   ]
  },
  {
   "cell_type": "code",
   "execution_count": 30,
   "id": "8868b29e",
   "metadata": {},
   "outputs": [
    {
     "name": "stderr",
     "output_type": "stream",
     "text": [
      "C:\\Users\\emile\\AppData\\Local\\Temp\\ipykernel_14424\\3479958638.py:2: FutureWarning:\n",
      "\n",
      "Dropping of nuisance columns in DataFrame reductions (with 'numeric_only=None') is deprecated; in a future version this will raise TypeError.  Select only valid columns before calling the reduction.\n",
      "\n"
     ]
    },
    {
     "data": {
      "text/html": [
       "<div>\n",
       "<style scoped>\n",
       "    .dataframe tbody tr th:only-of-type {\n",
       "        vertical-align: middle;\n",
       "    }\n",
       "\n",
       "    .dataframe tbody tr th {\n",
       "        vertical-align: top;\n",
       "    }\n",
       "\n",
       "    .dataframe thead th {\n",
       "        text-align: right;\n",
       "    }\n",
       "</style>\n",
       "<table border=\"1\" class=\"dataframe\">\n",
       "  <thead>\n",
       "    <tr style=\"text-align: right;\">\n",
       "      <th></th>\n",
       "      <th>id</th>\n",
       "      <th>name</th>\n",
       "      <th>artist</th>\n",
       "      <th>danceability</th>\n",
       "      <th>energy</th>\n",
       "      <th>key</th>\n",
       "      <th>loudness</th>\n",
       "      <th>mode</th>\n",
       "      <th>speechiness</th>\n",
       "      <th>acousticness</th>\n",
       "      <th>instrumentalness</th>\n",
       "      <th>liveness</th>\n",
       "      <th>valence</th>\n",
       "      <th>tempo</th>\n",
       "    </tr>\n",
       "  </thead>\n",
       "  <tbody>\n",
       "    <tr>\n",
       "      <th>0</th>\n",
       "      <td>spotify:track:5wJLHCCnOmakrb8JdGQyUE</td>\n",
       "      <td>Southern Magnolia</td>\n",
       "      <td>Maharaj Trio</td>\n",
       "      <td>0.694</td>\n",
       "      <td>0.644</td>\n",
       "      <td>9</td>\n",
       "      <td>-10.038</td>\n",
       "      <td>0</td>\n",
       "      <td>0.0334</td>\n",
       "      <td>0.00104</td>\n",
       "      <td>0.746000</td>\n",
       "      <td>0.0737</td>\n",
       "      <td>0.5290</td>\n",
       "      <td>104.953</td>\n",
       "    </tr>\n",
       "    <tr>\n",
       "      <th>1</th>\n",
       "      <td>spotify:track:5MMW4CZsZiZt2iuqAXzzWC</td>\n",
       "      <td>The Heart Part 5</td>\n",
       "      <td>Kendrick Lamar</td>\n",
       "      <td>0.700</td>\n",
       "      <td>0.812</td>\n",
       "      <td>1</td>\n",
       "      <td>-8.128</td>\n",
       "      <td>0</td>\n",
       "      <td>0.2970</td>\n",
       "      <td>0.18300</td>\n",
       "      <td>0.000000</td>\n",
       "      <td>0.0756</td>\n",
       "      <td>0.8010</td>\n",
       "      <td>97.405</td>\n",
       "    </tr>\n",
       "    <tr>\n",
       "      <th>2</th>\n",
       "      <td>spotify:track:5p56JT5F9a1z9pwXnqTg7d</td>\n",
       "      <td>Worldwide Steppers</td>\n",
       "      <td>Kendrick Lamar</td>\n",
       "      <td>0.514</td>\n",
       "      <td>0.472</td>\n",
       "      <td>8</td>\n",
       "      <td>-11.106</td>\n",
       "      <td>0</td>\n",
       "      <td>0.3680</td>\n",
       "      <td>0.75300</td>\n",
       "      <td>0.000120</td>\n",
       "      <td>0.0746</td>\n",
       "      <td>0.5570</td>\n",
       "      <td>77.215</td>\n",
       "    </tr>\n",
       "    <tr>\n",
       "      <th>3</th>\n",
       "      <td>spotify:track:4IVtwWBNj9NEBNR7tkXDqb</td>\n",
       "      <td>Satellites</td>\n",
       "      <td>Ravyn Lenae</td>\n",
       "      <td>0.436</td>\n",
       "      <td>0.764</td>\n",
       "      <td>4</td>\n",
       "      <td>-6.347</td>\n",
       "      <td>0</td>\n",
       "      <td>0.0685</td>\n",
       "      <td>0.47400</td>\n",
       "      <td>0.350000</td>\n",
       "      <td>0.1250</td>\n",
       "      <td>0.2660</td>\n",
       "      <td>169.002</td>\n",
       "    </tr>\n",
       "    <tr>\n",
       "      <th>4</th>\n",
       "      <td>spotify:track:16yjTWzlK1IVHh3kE61lbJ</td>\n",
       "      <td>Love Me</td>\n",
       "      <td>Braxe + Falcon</td>\n",
       "      <td>0.771</td>\n",
       "      <td>0.726</td>\n",
       "      <td>2</td>\n",
       "      <td>-7.605</td>\n",
       "      <td>0</td>\n",
       "      <td>0.0905</td>\n",
       "      <td>0.00900</td>\n",
       "      <td>0.004940</td>\n",
       "      <td>0.0751</td>\n",
       "      <td>0.5280</td>\n",
       "      <td>107.993</td>\n",
       "    </tr>\n",
       "    <tr>\n",
       "      <th>5</th>\n",
       "      <td>spotify:track:6C16HI9Xpyax86txvnWvNV</td>\n",
       "      <td>For One Moment Only</td>\n",
       "      <td>Dieter Reith</td>\n",
       "      <td>0.530</td>\n",
       "      <td>0.531</td>\n",
       "      <td>1</td>\n",
       "      <td>-14.323</td>\n",
       "      <td>1</td>\n",
       "      <td>0.0264</td>\n",
       "      <td>0.59200</td>\n",
       "      <td>0.633000</td>\n",
       "      <td>0.1390</td>\n",
       "      <td>0.5180</td>\n",
       "      <td>95.988</td>\n",
       "    </tr>\n",
       "    <tr>\n",
       "      <th>6</th>\n",
       "      <td>spotify:track:5eGvUvIliCcmFqwC8kQSAw</td>\n",
       "      <td>A Hairdryer</td>\n",
       "      <td>The Smile</td>\n",
       "      <td>0.344</td>\n",
       "      <td>0.555</td>\n",
       "      <td>6</td>\n",
       "      <td>-8.946</td>\n",
       "      <td>1</td>\n",
       "      <td>0.0351</td>\n",
       "      <td>0.74600</td>\n",
       "      <td>0.903000</td>\n",
       "      <td>0.1140</td>\n",
       "      <td>0.1120</td>\n",
       "      <td>145.339</td>\n",
       "    </tr>\n",
       "    <tr>\n",
       "      <th>7</th>\n",
       "      <td>spotify:track:2IIELm4RfoyxSYuTYDVZ7t</td>\n",
       "      <td>Air</td>\n",
       "      <td>SAULT</td>\n",
       "      <td>0.217</td>\n",
       "      <td>0.223</td>\n",
       "      <td>1</td>\n",
       "      <td>-13.607</td>\n",
       "      <td>1</td>\n",
       "      <td>0.0314</td>\n",
       "      <td>0.92700</td>\n",
       "      <td>0.920000</td>\n",
       "      <td>0.2130</td>\n",
       "      <td>0.0973</td>\n",
       "      <td>70.347</td>\n",
       "    </tr>\n",
       "    <tr>\n",
       "      <th>8</th>\n",
       "      <td>spotify:track:72YauydKDuwpnd6nr8NIKK</td>\n",
       "      <td>Home Maker</td>\n",
       "      <td>Sudan Archives</td>\n",
       "      <td>0.766</td>\n",
       "      <td>0.550</td>\n",
       "      <td>1</td>\n",
       "      <td>-7.898</td>\n",
       "      <td>1</td>\n",
       "      <td>0.0758</td>\n",
       "      <td>0.01420</td>\n",
       "      <td>0.045200</td>\n",
       "      <td>0.1230</td>\n",
       "      <td>0.3560</td>\n",
       "      <td>106.990</td>\n",
       "    </tr>\n",
       "    <tr>\n",
       "      <th>9</th>\n",
       "      <td>spotify:track:5LOiuvbH62YGtnwe6Ltt4T</td>\n",
       "      <td>Mirror</td>\n",
       "      <td>Kendrick Lamar</td>\n",
       "      <td>0.652</td>\n",
       "      <td>0.670</td>\n",
       "      <td>2</td>\n",
       "      <td>-8.766</td>\n",
       "      <td>1</td>\n",
       "      <td>0.0639</td>\n",
       "      <td>0.22500</td>\n",
       "      <td>0.000014</td>\n",
       "      <td>0.0804</td>\n",
       "      <td>0.2740</td>\n",
       "      <td>91.933</td>\n",
       "    </tr>\n",
       "  </tbody>\n",
       "</table>\n",
       "</div>"
      ],
      "text/plain": [
       "                                     id                 name          artist  \\\n",
       "0  spotify:track:5wJLHCCnOmakrb8JdGQyUE    Southern Magnolia    Maharaj Trio   \n",
       "1  spotify:track:5MMW4CZsZiZt2iuqAXzzWC     The Heart Part 5  Kendrick Lamar   \n",
       "2  spotify:track:5p56JT5F9a1z9pwXnqTg7d   Worldwide Steppers  Kendrick Lamar   \n",
       "3  spotify:track:4IVtwWBNj9NEBNR7tkXDqb           Satellites     Ravyn Lenae   \n",
       "4  spotify:track:16yjTWzlK1IVHh3kE61lbJ              Love Me  Braxe + Falcon   \n",
       "5  spotify:track:6C16HI9Xpyax86txvnWvNV  For One Moment Only    Dieter Reith   \n",
       "6  spotify:track:5eGvUvIliCcmFqwC8kQSAw          A Hairdryer       The Smile   \n",
       "7  spotify:track:2IIELm4RfoyxSYuTYDVZ7t                  Air           SAULT   \n",
       "8  spotify:track:72YauydKDuwpnd6nr8NIKK           Home Maker  Sudan Archives   \n",
       "9  spotify:track:5LOiuvbH62YGtnwe6Ltt4T               Mirror  Kendrick Lamar   \n",
       "\n",
       "   danceability  energy  key  loudness  mode  speechiness  acousticness  \\\n",
       "0         0.694   0.644    9   -10.038     0       0.0334       0.00104   \n",
       "1         0.700   0.812    1    -8.128     0       0.2970       0.18300   \n",
       "2         0.514   0.472    8   -11.106     0       0.3680       0.75300   \n",
       "3         0.436   0.764    4    -6.347     0       0.0685       0.47400   \n",
       "4         0.771   0.726    2    -7.605     0       0.0905       0.00900   \n",
       "5         0.530   0.531    1   -14.323     1       0.0264       0.59200   \n",
       "6         0.344   0.555    6    -8.946     1       0.0351       0.74600   \n",
       "7         0.217   0.223    1   -13.607     1       0.0314       0.92700   \n",
       "8         0.766   0.550    1    -7.898     1       0.0758       0.01420   \n",
       "9         0.652   0.670    2    -8.766     1       0.0639       0.22500   \n",
       "\n",
       "   instrumentalness  liveness  valence    tempo  \n",
       "0          0.746000    0.0737   0.5290  104.953  \n",
       "1          0.000000    0.0756   0.8010   97.405  \n",
       "2          0.000120    0.0746   0.5570   77.215  \n",
       "3          0.350000    0.1250   0.2660  169.002  \n",
       "4          0.004940    0.0751   0.5280  107.993  \n",
       "5          0.633000    0.1390   0.5180   95.988  \n",
       "6          0.903000    0.1140   0.1120  145.339  \n",
       "7          0.920000    0.2130   0.0973   70.347  \n",
       "8          0.045200    0.1230   0.3560  106.990  \n",
       "9          0.000014    0.0804   0.2740   91.933  "
      ]
     },
     "execution_count": 30,
     "metadata": {},
     "output_type": "execute_result"
    }
   ],
   "source": [
    "top_tracks_df = get_top_tracks()\n",
    "mean_df = top_tracks_df.mean(axis=0)\n",
    "top_tracks_df.head(10)\n",
    "\n"
   ]
  },
  {
   "cell_type": "code",
   "execution_count": 29,
   "id": "807d71d4",
   "metadata": {},
   "outputs": [
    {
     "data": {
      "application/vnd.plotly.v1+json": {
       "config": {
        "plotlyServerURL": "https://plot.ly"
       },
       "data": [
        {
         "hovertemplate": "index=%{theta}<br>r=%{r}<extra></extra>",
         "legendgroup": "danceability",
         "marker": {
          "color": "#636EFA",
          "pattern": {
           "shape": ""
          }
         },
         "name": "danceability",
         "r": [
          0.5845400000000001
         ],
         "showlegend": true,
         "subplot": "polar",
         "theta": [
          "danceability"
         ],
         "type": "barpolar"
        },
        {
         "hovertemplate": "index=%{theta}<br>r=%{r}<extra></extra>",
         "legendgroup": "energy",
         "marker": {
          "color": "#EF553B",
          "pattern": {
           "shape": ""
          }
         },
         "name": "energy",
         "r": [
          0.58604
         ],
         "showlegend": true,
         "subplot": "polar",
         "theta": [
          "energy"
         ],
         "type": "barpolar"
        },
        {
         "hovertemplate": "index=%{theta}<br>r=%{r}<extra></extra>",
         "legendgroup": "speechiness",
         "marker": {
          "color": "#00CC96",
          "pattern": {
           "shape": ""
          }
         },
         "name": "speechiness",
         "r": [
          0.10225000000000001
         ],
         "showlegend": true,
         "subplot": "polar",
         "theta": [
          "speechiness"
         ],
         "type": "barpolar"
        },
        {
         "hovertemplate": "index=%{theta}<br>r=%{r}<extra></extra>",
         "legendgroup": "instrumentalness",
         "marker": {
          "color": "#AB63FA",
          "pattern": {
           "shape": ""
          }
         },
         "name": "instrumentalness",
         "r": [
          0.3001424202
         ],
         "showlegend": true,
         "subplot": "polar",
         "theta": [
          "instrumentalness"
         ],
         "type": "barpolar"
        },
        {
         "hovertemplate": "index=%{theta}<br>r=%{r}<extra></extra>",
         "legendgroup": "liveness",
         "marker": {
          "color": "#FFA15A",
          "pattern": {
           "shape": ""
          }
         },
         "name": "liveness",
         "r": [
          0.19451800000000002
         ],
         "showlegend": true,
         "subplot": "polar",
         "theta": [
          "liveness"
         ],
         "type": "barpolar"
        },
        {
         "hovertemplate": "index=%{theta}<br>r=%{r}<extra></extra>",
         "legendgroup": "valence",
         "marker": {
          "color": "#19D3F3",
          "pattern": {
           "shape": ""
          }
         },
         "name": "valence",
         "r": [
          0.41940600000000006
         ],
         "showlegend": true,
         "subplot": "polar",
         "theta": [
          "valence"
         ],
         "type": "barpolar"
        },
        {
         "hovertemplate": "index=%{theta}<br>r=%{r}<extra></extra>",
         "legendgroup": "mode",
         "marker": {
          "color": "#FF6692",
          "pattern": {
           "shape": ""
          }
         },
         "name": "mode",
         "r": [
          0.58
         ],
         "showlegend": true,
         "subplot": "polar",
         "theta": [
          "mode"
         ],
         "type": "barpolar"
        }
       ],
       "layout": {
        "barmode": "relative",
        "legend": {
         "title": {
          "text": "index"
         },
         "tracegroupgap": 0
        },
        "margin": {
         "t": 60
        },
        "polar": {
         "angularaxis": {
          "categoryarray": [
           "danceability",
           "energy",
           "speechiness",
           "instrumentalness",
           "liveness",
           "valence",
           "mode"
          ],
          "categoryorder": "array",
          "direction": "clockwise",
          "rotation": 90
         },
         "domain": {
          "x": [
           0,
           1
          ],
          "y": [
           0,
           1
          ]
         }
        },
        "template": {
         "data": {
          "bar": [
           {
            "error_x": {
             "color": "#f2f5fa"
            },
            "error_y": {
             "color": "#f2f5fa"
            },
            "marker": {
             "line": {
              "color": "rgb(17,17,17)",
              "width": 0.5
             },
             "pattern": {
              "fillmode": "overlay",
              "size": 10,
              "solidity": 0.2
             }
            },
            "type": "bar"
           }
          ],
          "barpolar": [
           {
            "marker": {
             "line": {
              "color": "rgb(17,17,17)",
              "width": 0.5
             },
             "pattern": {
              "fillmode": "overlay",
              "size": 10,
              "solidity": 0.2
             }
            },
            "type": "barpolar"
           }
          ],
          "carpet": [
           {
            "aaxis": {
             "endlinecolor": "#A2B1C6",
             "gridcolor": "#506784",
             "linecolor": "#506784",
             "minorgridcolor": "#506784",
             "startlinecolor": "#A2B1C6"
            },
            "baxis": {
             "endlinecolor": "#A2B1C6",
             "gridcolor": "#506784",
             "linecolor": "#506784",
             "minorgridcolor": "#506784",
             "startlinecolor": "#A2B1C6"
            },
            "type": "carpet"
           }
          ],
          "choropleth": [
           {
            "colorbar": {
             "outlinewidth": 0,
             "ticks": ""
            },
            "type": "choropleth"
           }
          ],
          "contour": [
           {
            "colorbar": {
             "outlinewidth": 0,
             "ticks": ""
            },
            "colorscale": [
             [
              0,
              "#0d0887"
             ],
             [
              0.1111111111111111,
              "#46039f"
             ],
             [
              0.2222222222222222,
              "#7201a8"
             ],
             [
              0.3333333333333333,
              "#9c179e"
             ],
             [
              0.4444444444444444,
              "#bd3786"
             ],
             [
              0.5555555555555556,
              "#d8576b"
             ],
             [
              0.6666666666666666,
              "#ed7953"
             ],
             [
              0.7777777777777778,
              "#fb9f3a"
             ],
             [
              0.8888888888888888,
              "#fdca26"
             ],
             [
              1,
              "#f0f921"
             ]
            ],
            "type": "contour"
           }
          ],
          "contourcarpet": [
           {
            "colorbar": {
             "outlinewidth": 0,
             "ticks": ""
            },
            "type": "contourcarpet"
           }
          ],
          "heatmap": [
           {
            "colorbar": {
             "outlinewidth": 0,
             "ticks": ""
            },
            "colorscale": [
             [
              0,
              "#0d0887"
             ],
             [
              0.1111111111111111,
              "#46039f"
             ],
             [
              0.2222222222222222,
              "#7201a8"
             ],
             [
              0.3333333333333333,
              "#9c179e"
             ],
             [
              0.4444444444444444,
              "#bd3786"
             ],
             [
              0.5555555555555556,
              "#d8576b"
             ],
             [
              0.6666666666666666,
              "#ed7953"
             ],
             [
              0.7777777777777778,
              "#fb9f3a"
             ],
             [
              0.8888888888888888,
              "#fdca26"
             ],
             [
              1,
              "#f0f921"
             ]
            ],
            "type": "heatmap"
           }
          ],
          "heatmapgl": [
           {
            "colorbar": {
             "outlinewidth": 0,
             "ticks": ""
            },
            "colorscale": [
             [
              0,
              "#0d0887"
             ],
             [
              0.1111111111111111,
              "#46039f"
             ],
             [
              0.2222222222222222,
              "#7201a8"
             ],
             [
              0.3333333333333333,
              "#9c179e"
             ],
             [
              0.4444444444444444,
              "#bd3786"
             ],
             [
              0.5555555555555556,
              "#d8576b"
             ],
             [
              0.6666666666666666,
              "#ed7953"
             ],
             [
              0.7777777777777778,
              "#fb9f3a"
             ],
             [
              0.8888888888888888,
              "#fdca26"
             ],
             [
              1,
              "#f0f921"
             ]
            ],
            "type": "heatmapgl"
           }
          ],
          "histogram": [
           {
            "marker": {
             "pattern": {
              "fillmode": "overlay",
              "size": 10,
              "solidity": 0.2
             }
            },
            "type": "histogram"
           }
          ],
          "histogram2d": [
           {
            "colorbar": {
             "outlinewidth": 0,
             "ticks": ""
            },
            "colorscale": [
             [
              0,
              "#0d0887"
             ],
             [
              0.1111111111111111,
              "#46039f"
             ],
             [
              0.2222222222222222,
              "#7201a8"
             ],
             [
              0.3333333333333333,
              "#9c179e"
             ],
             [
              0.4444444444444444,
              "#bd3786"
             ],
             [
              0.5555555555555556,
              "#d8576b"
             ],
             [
              0.6666666666666666,
              "#ed7953"
             ],
             [
              0.7777777777777778,
              "#fb9f3a"
             ],
             [
              0.8888888888888888,
              "#fdca26"
             ],
             [
              1,
              "#f0f921"
             ]
            ],
            "type": "histogram2d"
           }
          ],
          "histogram2dcontour": [
           {
            "colorbar": {
             "outlinewidth": 0,
             "ticks": ""
            },
            "colorscale": [
             [
              0,
              "#0d0887"
             ],
             [
              0.1111111111111111,
              "#46039f"
             ],
             [
              0.2222222222222222,
              "#7201a8"
             ],
             [
              0.3333333333333333,
              "#9c179e"
             ],
             [
              0.4444444444444444,
              "#bd3786"
             ],
             [
              0.5555555555555556,
              "#d8576b"
             ],
             [
              0.6666666666666666,
              "#ed7953"
             ],
             [
              0.7777777777777778,
              "#fb9f3a"
             ],
             [
              0.8888888888888888,
              "#fdca26"
             ],
             [
              1,
              "#f0f921"
             ]
            ],
            "type": "histogram2dcontour"
           }
          ],
          "mesh3d": [
           {
            "colorbar": {
             "outlinewidth": 0,
             "ticks": ""
            },
            "type": "mesh3d"
           }
          ],
          "parcoords": [
           {
            "line": {
             "colorbar": {
              "outlinewidth": 0,
              "ticks": ""
             }
            },
            "type": "parcoords"
           }
          ],
          "pie": [
           {
            "automargin": true,
            "type": "pie"
           }
          ],
          "scatter": [
           {
            "marker": {
             "line": {
              "color": "#283442"
             }
            },
            "type": "scatter"
           }
          ],
          "scatter3d": [
           {
            "line": {
             "colorbar": {
              "outlinewidth": 0,
              "ticks": ""
             }
            },
            "marker": {
             "colorbar": {
              "outlinewidth": 0,
              "ticks": ""
             }
            },
            "type": "scatter3d"
           }
          ],
          "scattercarpet": [
           {
            "marker": {
             "colorbar": {
              "outlinewidth": 0,
              "ticks": ""
             }
            },
            "type": "scattercarpet"
           }
          ],
          "scattergeo": [
           {
            "marker": {
             "colorbar": {
              "outlinewidth": 0,
              "ticks": ""
             }
            },
            "type": "scattergeo"
           }
          ],
          "scattergl": [
           {
            "marker": {
             "line": {
              "color": "#283442"
             }
            },
            "type": "scattergl"
           }
          ],
          "scattermapbox": [
           {
            "marker": {
             "colorbar": {
              "outlinewidth": 0,
              "ticks": ""
             }
            },
            "type": "scattermapbox"
           }
          ],
          "scatterpolar": [
           {
            "marker": {
             "colorbar": {
              "outlinewidth": 0,
              "ticks": ""
             }
            },
            "type": "scatterpolar"
           }
          ],
          "scatterpolargl": [
           {
            "marker": {
             "colorbar": {
              "outlinewidth": 0,
              "ticks": ""
             }
            },
            "type": "scatterpolargl"
           }
          ],
          "scatterternary": [
           {
            "marker": {
             "colorbar": {
              "outlinewidth": 0,
              "ticks": ""
             }
            },
            "type": "scatterternary"
           }
          ],
          "surface": [
           {
            "colorbar": {
             "outlinewidth": 0,
             "ticks": ""
            },
            "colorscale": [
             [
              0,
              "#0d0887"
             ],
             [
              0.1111111111111111,
              "#46039f"
             ],
             [
              0.2222222222222222,
              "#7201a8"
             ],
             [
              0.3333333333333333,
              "#9c179e"
             ],
             [
              0.4444444444444444,
              "#bd3786"
             ],
             [
              0.5555555555555556,
              "#d8576b"
             ],
             [
              0.6666666666666666,
              "#ed7953"
             ],
             [
              0.7777777777777778,
              "#fb9f3a"
             ],
             [
              0.8888888888888888,
              "#fdca26"
             ],
             [
              1,
              "#f0f921"
             ]
            ],
            "type": "surface"
           }
          ],
          "table": [
           {
            "cells": {
             "fill": {
              "color": "#506784"
             },
             "line": {
              "color": "rgb(17,17,17)"
             }
            },
            "header": {
             "fill": {
              "color": "#2a3f5f"
             },
             "line": {
              "color": "rgb(17,17,17)"
             }
            },
            "type": "table"
           }
          ]
         },
         "layout": {
          "annotationdefaults": {
           "arrowcolor": "#f2f5fa",
           "arrowhead": 0,
           "arrowwidth": 1
          },
          "autotypenumbers": "strict",
          "coloraxis": {
           "colorbar": {
            "outlinewidth": 0,
            "ticks": ""
           }
          },
          "colorscale": {
           "diverging": [
            [
             0,
             "#8e0152"
            ],
            [
             0.1,
             "#c51b7d"
            ],
            [
             0.2,
             "#de77ae"
            ],
            [
             0.3,
             "#f1b6da"
            ],
            [
             0.4,
             "#fde0ef"
            ],
            [
             0.5,
             "#f7f7f7"
            ],
            [
             0.6,
             "#e6f5d0"
            ],
            [
             0.7,
             "#b8e186"
            ],
            [
             0.8,
             "#7fbc41"
            ],
            [
             0.9,
             "#4d9221"
            ],
            [
             1,
             "#276419"
            ]
           ],
           "sequential": [
            [
             0,
             "#0d0887"
            ],
            [
             0.1111111111111111,
             "#46039f"
            ],
            [
             0.2222222222222222,
             "#7201a8"
            ],
            [
             0.3333333333333333,
             "#9c179e"
            ],
            [
             0.4444444444444444,
             "#bd3786"
            ],
            [
             0.5555555555555556,
             "#d8576b"
            ],
            [
             0.6666666666666666,
             "#ed7953"
            ],
            [
             0.7777777777777778,
             "#fb9f3a"
            ],
            [
             0.8888888888888888,
             "#fdca26"
            ],
            [
             1,
             "#f0f921"
            ]
           ],
           "sequentialminus": [
            [
             0,
             "#0d0887"
            ],
            [
             0.1111111111111111,
             "#46039f"
            ],
            [
             0.2222222222222222,
             "#7201a8"
            ],
            [
             0.3333333333333333,
             "#9c179e"
            ],
            [
             0.4444444444444444,
             "#bd3786"
            ],
            [
             0.5555555555555556,
             "#d8576b"
            ],
            [
             0.6666666666666666,
             "#ed7953"
            ],
            [
             0.7777777777777778,
             "#fb9f3a"
            ],
            [
             0.8888888888888888,
             "#fdca26"
            ],
            [
             1,
             "#f0f921"
            ]
           ]
          },
          "colorway": [
           "#636efa",
           "#EF553B",
           "#00cc96",
           "#ab63fa",
           "#FFA15A",
           "#19d3f3",
           "#FF6692",
           "#B6E880",
           "#FF97FF",
           "#FECB52"
          ],
          "font": {
           "color": "#f2f5fa"
          },
          "geo": {
           "bgcolor": "rgb(17,17,17)",
           "lakecolor": "rgb(17,17,17)",
           "landcolor": "rgb(17,17,17)",
           "showlakes": true,
           "showland": true,
           "subunitcolor": "#506784"
          },
          "hoverlabel": {
           "align": "left"
          },
          "hovermode": "closest",
          "mapbox": {
           "style": "dark"
          },
          "paper_bgcolor": "rgb(17,17,17)",
          "plot_bgcolor": "rgb(17,17,17)",
          "polar": {
           "angularaxis": {
            "gridcolor": "#506784",
            "linecolor": "#506784",
            "ticks": ""
           },
           "bgcolor": "rgb(17,17,17)",
           "radialaxis": {
            "gridcolor": "#506784",
            "linecolor": "#506784",
            "ticks": ""
           }
          },
          "scene": {
           "xaxis": {
            "backgroundcolor": "rgb(17,17,17)",
            "gridcolor": "#506784",
            "gridwidth": 2,
            "linecolor": "#506784",
            "showbackground": true,
            "ticks": "",
            "zerolinecolor": "#C8D4E3"
           },
           "yaxis": {
            "backgroundcolor": "rgb(17,17,17)",
            "gridcolor": "#506784",
            "gridwidth": 2,
            "linecolor": "#506784",
            "showbackground": true,
            "ticks": "",
            "zerolinecolor": "#C8D4E3"
           },
           "zaxis": {
            "backgroundcolor": "rgb(17,17,17)",
            "gridcolor": "#506784",
            "gridwidth": 2,
            "linecolor": "#506784",
            "showbackground": true,
            "ticks": "",
            "zerolinecolor": "#C8D4E3"
           }
          },
          "shapedefaults": {
           "line": {
            "color": "#f2f5fa"
           }
          },
          "sliderdefaults": {
           "bgcolor": "#C8D4E3",
           "bordercolor": "rgb(17,17,17)",
           "borderwidth": 1,
           "tickwidth": 0
          },
          "ternary": {
           "aaxis": {
            "gridcolor": "#506784",
            "linecolor": "#506784",
            "ticks": ""
           },
           "baxis": {
            "gridcolor": "#506784",
            "linecolor": "#506784",
            "ticks": ""
           },
           "bgcolor": "rgb(17,17,17)",
           "caxis": {
            "gridcolor": "#506784",
            "linecolor": "#506784",
            "ticks": ""
           }
          },
          "title": {
           "x": 0.05
          },
          "updatemenudefaults": {
           "bgcolor": "#506784",
           "borderwidth": 0
          },
          "xaxis": {
           "automargin": true,
           "gridcolor": "#283442",
           "linecolor": "#506784",
           "ticks": "",
           "title": {
            "standoff": 15
           },
           "zerolinecolor": "#283442",
           "zerolinewidth": 2
          },
          "yaxis": {
           "automargin": true,
           "gridcolor": "#283442",
           "linecolor": "#506784",
           "ticks": "",
           "title": {
            "standoff": 15
           },
           "zerolinecolor": "#283442",
           "zerolinewidth": 2
          }
         }
        }
       }
      }
     },
     "metadata": {},
     "output_type": "display_data"
    }
   ],
   "source": [
    "\n",
    "radar_df = mean_df.filter(items=['danceability','energy','speechiness','acoustincess','instrumentalness','liveness','valence','mode',])\n",
    "fig = px.bar_polar(radar_df, r=radar_df.values, theta=radar_df.index, \n",
    "                    range_r = [], color=radar_df.index,\n",
    "                    color_discrete_sequence=px.colors.qualitative.Plotly,\n",
    "                    template='plotly_dark')\n",
    "\n",
    "fig.show()"
   ]
  },
  {
   "cell_type": "code",
   "execution_count": 66,
   "id": "28687540",
   "metadata": {},
   "outputs": [],
   "source": [
    "X = np.array(top_tracks_df.drop(['id','name','artist'], axis=1))"
   ]
  },
  {
   "cell_type": "code",
   "execution_count": 67,
   "id": "528b5029",
   "metadata": {},
   "outputs": [
    {
     "data": {
      "image/png": "[encoded data removed]",
      "text/plain": [
       "<Figure size 432x288 with 1 Axes>"
      ]
     },
     "metadata": {
      "needs_background": "light"
     },
     "output_type": "display_data"
    }
   ],
   "source": [
    "wcss = []\n",
    "for i in range(1, 11):\n",
    "    kmeans = KMeans(n_clusters=i, init='k-means++', max_iter=300, n_init=10, random_state=0)\n",
    "    kmeans.fit(X)\n",
    "    wcss.append(kmeans.inertia_)\n",
    "plt.plot(range(1, 11), wcss)\n",
    "plt.title('Elbow Method')\n",
    "plt.xlabel('Number of clusters')\n",
    "plt.ylabel('WCSS')\n",
    "plt.show()"
   ]
  },
  {
   "cell_type": "code",
   "execution_count": 70,
   "id": "99465000",
   "metadata": {},
   "outputs": [
    {
     "data": {
      "application/vnd.plotly.v1+json": {
       "config": {
        "plotlyServerURL": "https://plot.ly"
       },
       "data": [
        {
         "customdata": [
          [
           "Southern Magnolia",
           "Maharaj Trio"
          ],
          [
           "The Heart Part 5",
           "Kendrick Lamar"
          ],
          [
           "Worldwide Steppers",
           "Kendrick Lamar"
          ],
          [
           "Satellites",
           "Ravyn Lenae"
          ],
          [
           "Love Me",
           "Braxe + Falcon"
          ],
          [
           "For One Moment Only",
           "Dieter Reith"
          ],
          [
           "A Hairdryer",
           "The Smile"
          ],
          [
           "Air",
           "SAULT"
          ],
          [
           "Home Maker",
           "Sudan Archives"
          ],
          [
           "Mirror",
           "Kendrick Lamar"
          ],
          [
           "Mother I Sober (feat. Beth Gibbons of Portishead)",
           "Kendrick Lamar"
          ],
          [
           "Creative Source",
           "Braxe + Falcon"
          ],
          [
           "Simulation Swarm",
           "Big Thief"
          ],
          [
           "On Hold - Jamie xx Remix",
           "The xx"
          ],
          [
           "Swimmer",
           "Helena Deland"
          ],
          [
           "United In Grief",
           "Kendrick Lamar"
          ],
          [
           "Everything_Now (continued)",
           "Arcade Fire"
          ],
          [
           "Mr. Morale",
           "Kendrick Lamar"
          ],
          [
           "Operator - DJ Koze's 12 inch Extended Disco Version",
           "Låpsley"
          ],
          [
           "Black Cow",
           "Steely Dan"
          ],
          [
           "Silent Chord",
           "Soichi Terada"
          ],
          [
           "Odissi, Pt. 2 (Émotif) [Yuksek Remix]",
           "Chassol"
          ],
          [
           "Pana-vision",
           "The Smile"
          ],
          [
           "SIR BAUDELAIRE (feat. DJ Drama)",
           "Tyler, The Creator"
          ],
          [
           "Love Somebody Else",
           "Maceo Plex"
          ],
          [
           "Step By Step - 12\" Version",
           "Braxe + Falcon"
          ],
          [
           "Open The Floodgates",
           "The Smile"
          ],
          [
           "Baby",
           "Helena Deland"
          ],
          [
           "Organon",
           "Men I Trust"
          ],
          [
           "reprise",
           "Yaya Bey"
          ],
          [
           "NEW DORP. NEW YORK",
           "SBTRKT"
          ],
          [
           "American Coffee",
           "Jenny Hval"
          ],
          [
           "Make You Smile",
           "Franc Moody"
          ],
          [
           "There Only Once",
           "The Soundcarriers"
          ],
          [
           "Lost Track",
           "HAIM"
          ],
          [
           "Speech Bubbles",
           "The Smile"
          ],
          [
           "black screen",
           "LCD Soundsystem"
          ],
          [
           "Walk Like an Egyptian",
           "The Bangles"
          ],
          [
           "Age of Anxiety II (Rabbit Hole)",
           "Arcade Fire"
          ],
          [
           "Dancing in the Moonlight",
           "Toploader"
          ],
          [
           "Collage",
           "The Three Degrees"
          ],
          [
           "Sunset - Jamie xx Edit",
           "The xx"
          ],
          [
           "Informer",
           "Snow"
          ],
          [
           "Dragon Slayer",
           "Animal Collective"
          ],
          [
           "Too Long",
           "Daft Punk"
          ],
          [
           "5.17",
           "Thom Yorke"
          ],
          [
           "Father Time (feat. Sampha)",
           "Kendrick Lamar"
          ],
          [
           "Hémisphère",
           "Paradis"
          ],
          [
           "Tall Tales",
           "Kennebec"
          ],
          [
           "Please",
           "Jessie Ware"
          ]
         ],
         "hovertemplate": "X=%{x}<br>Y=%{y}<br>danceability=%{marker.size}<br>name=%{customdata[0]}<br>artist=%{customdata[1]}<br>cluster=%{marker.color}<extra></extra>",
         "legendgroup": "",
         "marker": {
          "color": [
           2,
           2,
           0,
           3,
           2,
           2,
           4,
           0,
           2,
           0,
           4,
           2,
           2,
           1,
           1,
           0,
           0,
           3,
           1,
           3,
           1,
           0,
           3,
           1,
           1,
           4,
           0,
           2,
           2,
           0,
           1,
           1,
           1,
           2,
           3,
           0,
           2,
           2,
           1,
           1,
           0,
           1,
           2,
           4,
           1,
           0,
           4,
           1,
           0,
           1
          ],
          "coloraxis": "coloraxis",
          "size": [
           0.694,
           0.7,
           0.514,
           0.436,
           0.771,
           0.53,
           0.344,
           0.217,
           0.766,
           0.652,
           0.492,
           0.8,
           0.703,
           0.759,
           0.52,
           0.529,
           0.331,
           0.727,
           0.754,
           0.473,
           0.551,
           0.66,
           0.383,
           0.467,
           0.784,
           0.471,
           0.415,
           0.29,
           0.6,
           0.622,
           0.844,
           0.394,
           0.787,
           0.548,
           0.77,
           0.388,
           0.584,
           0.711,
           0.659,
           0.632,
           0.55,
           0.885,
           0.763,
           0.494,
           0.692,
           0.145,
           0.514,
           0.746,
           0.492,
           0.674
          ],
          "sizemode": "area",
          "sizeref": 0.0022125,
          "symbol": "circle"
         },
         "mode": "markers",
         "name": "",
         "orientation": "v",
         "showlegend": false,
         "type": "scatter",
         "x": [
          0.13438084721565247,
          -0.31985822319984436,
          0.11891402304172516,
          -0.054920945316553116,
          -0.1542101949453354,
          -0.2941555082798004,
          -0.05075514689087868,
          -0.1827104538679123,
          -0.19896245002746582,
          -0.24012623727321625,
          0.021155061200261116,
          -0.35177239775657654,
          -0.21035882830619812,
          -0.34538164734840393,
          -0.07316584885120392,
          0.24171750247478485,
          0.007356612477451563,
          -0.05050811171531677,
          0.1778816133737564,
          -0.05728500708937645,
          0.1954249143600464,
          0.11641126126050949,
          -0.05464494228363037,
          0.045282993465662,
          -0.15659373998641968,
          -0.1315808743238449,
          -0.3091939687728882,
          -0.04052506014704704,
          0.21695885062217712,
          0.19336509704589844,
          -0.3288671374320984,
          -0.15724453330039978,
          0.13753359019756317,
          0.2691081166267395,
          -0.04955534264445305,
          -0.35258394479751587,
          0.17049387097358704,
          0.3165402114391327,
          -0.014421205036342144,
          0.17543776333332062,
          -0.14856837689876556,
          0.205081507563591,
          0.028204863891005516,
          0.007866980507969856,
          -0.17150554060935974,
          -0.41623401641845703,
          -0.02781226485967636,
          -0.08348524570465088,
          -0.29738548398017883,
          -0.09471259266138077
         ],
         "xaxis": "x",
         "y": [
          6.053707599639893,
          5.378323554992676,
          4.078326225280762,
          9.717132568359375,
          6.322869777679443,
          5.231766223907471,
          8.959680557250977,
          3.848149299621582,
          6.224695682525635,
          4.944604873657227,
          8.714154243469238,
          5.880082130432129,
          6.046596050262451,
          8.048481941223145,
          8.421682357788086,
          4.538148403167725,
          3.966344118118286,
          9.79952335357666,
          7.418989658355713,
          9.954036712646484,
          7.707852840423584,
          4.800227165222168,
          9.86599349975586,
          8.022817611694336,
          7.725274562835693,
          8.999674797058105,
          4.272141456604004,
          5.65942907333374,
          5.306288719177246,
          4.218318939208984,
          7.274282455444336,
          6.917673110961914,
          8.117002487182617,
          4.992427349090576,
          9.556683540344238,
          4.63395357131958,
          5.564067363739014,
          5.843204498291016,
          7.261557579040527,
          7.3616228103637695,
          4.3929266929626465,
          7.425656318664551,
          5.434523582458496,
          9.046936988830566,
          7.972742080688477,
          4.512020111083984,
          9.285950660705566,
          8.058951377868652,
          4.872958660125732,
          7.389133930206299
         ],
         "yaxis": "y"
        }
       ],
       "layout": {
        "coloraxis": {
         "colorbar": {
          "title": {
           "text": "cluster"
          }
         },
         "colorscale": [
          [
           0,
           "#0d0887"
          ],
          [
           0.1111111111111111,
           "#46039f"
          ],
          [
           0.2222222222222222,
           "#7201a8"
          ],
          [
           0.3333333333333333,
           "#9c179e"
          ],
          [
           0.4444444444444444,
           "#bd3786"
          ],
          [
           0.5555555555555556,
           "#d8576b"
          ],
          [
           0.6666666666666666,
           "#ed7953"
          ],
          [
           0.7777777777777778,
           "#fb9f3a"
          ],
          [
           0.8888888888888888,
           "#fdca26"
          ],
          [
           1,
           "#f0f921"
          ]
         ]
        },
        "legend": {
         "itemsizing": "constant",
         "tracegroupgap": 0
        },
        "margin": {
         "t": 60
        },
        "template": {
         "data": {
          "bar": [
           {
            "error_x": {
             "color": "#f2f5fa"
            },
            "error_y": {
             "color": "#f2f5fa"
            },
            "marker": {
             "line": {
              "color": "rgb(17,17,17)",
              "width": 0.5
             },
             "pattern": {
              "fillmode": "overlay",
              "size": 10,
              "solidity": 0.2
             }
            },
            "type": "bar"
           }
          ],
          "barpolar": [
           {
            "marker": {
             "line": {
              "color": "rgb(17,17,17)",
              "width": 0.5
             },
             "pattern": {
              "fillmode": "overlay",
              "size": 10,
              "solidity": 0.2
             }
            },
            "type": "barpolar"
           }
          ],
          "carpet": [
           {
            "aaxis": {
             "endlinecolor": "#A2B1C6",
             "gridcolor": "#506784",
             "linecolor": "#506784",
             "minorgridcolor": "#506784",
             "startlinecolor": "#A2B1C6"
            },
            "baxis": {
             "endlinecolor": "#A2B1C6",
             "gridcolor": "#506784",
             "linecolor": "#506784",
             "minorgridcolor": "#506784",
             "startlinecolor": "#A2B1C6"
            },
            "type": "carpet"
           }
          ],
          "choropleth": [
           {
            "colorbar": {
             "outlinewidth": 0,
             "ticks": ""
            },
            "type": "choropleth"
           }
          ],
          "contour": [
           {
            "colorbar": {
             "outlinewidth": 0,
             "ticks": ""
            },
            "colorscale": [
             [
              0,
              "#0d0887"
             ],
             [
              0.1111111111111111,
              "#46039f"
             ],
             [
              0.2222222222222222,
              "#7201a8"
             ],
             [
              0.3333333333333333,
              "#9c179e"
             ],
             [
              0.4444444444444444,
              "#bd3786"
             ],
             [
              0.5555555555555556,
              "#d8576b"
             ],
             [
              0.6666666666666666,
              "#ed7953"
             ],
             [
              0.7777777777777778,
              "#fb9f3a"
             ],
             [
              0.8888888888888888,
              "#fdca26"
             ],
             [
              1,
              "#f0f921"
             ]
            ],
            "type": "contour"
           }
          ],
          "contourcarpet": [
           {
            "colorbar": {
             "outlinewidth": 0,
             "ticks": ""
            },
            "type": "contourcarpet"
           }
          ],
          "heatmap": [
           {
            "colorbar": {
             "outlinewidth": 0,
             "ticks": ""
            },
            "colorscale": [
             [
              0,
              "#0d0887"
             ],
             [
              0.1111111111111111,
              "#46039f"
             ],
             [
              0.2222222222222222,
              "#7201a8"
             ],
             [
              0.3333333333333333,
              "#9c179e"
             ],
             [
              0.4444444444444444,
              "#bd3786"
             ],
             [
              0.5555555555555556,
              "#d8576b"
             ],
             [
              0.6666666666666666,
              "#ed7953"
             ],
             [
              0.7777777777777778,
              "#fb9f3a"
             ],
             [
              0.8888888888888888,
              "#fdca26"
             ],
             [
              1,
              "#f0f921"
             ]
            ],
            "type": "heatmap"
           }
          ],
          "heatmapgl": [
           {
            "colorbar": {
             "outlinewidth": 0,
             "ticks": ""
            },
            "colorscale": [
             [
              0,
              "#0d0887"
             ],
             [
              0.1111111111111111,
              "#46039f"
             ],
             [
              0.2222222222222222,
              "#7201a8"
             ],
             [
              0.3333333333333333,
              "#9c179e"
             ],
             [
              0.4444444444444444,
              "#bd3786"
             ],
             [
              0.5555555555555556,
              "#d8576b"
             ],
             [
              0.6666666666666666,
              "#ed7953"
             ],
             [
              0.7777777777777778,
              "#fb9f3a"
             ],
             [
              0.8888888888888888,
              "#fdca26"
             ],
             [
              1,
              "#f0f921"
             ]
            ],
            "type": "heatmapgl"
           }
          ],
          "histogram": [
           {
            "marker": {
             "pattern": {
              "fillmode": "overlay",
              "size": 10,
              "solidity": 0.2
             }
            },
            "type": "histogram"
           }
          ],
          "histogram2d": [
           {
            "colorbar": {
             "outlinewidth": 0,
             "ticks": ""
            },
            "colorscale": [
             [
              0,
              "#0d0887"
             ],
             [
              0.1111111111111111,
              "#46039f"
             ],
             [
              0.2222222222222222,
              "#7201a8"
             ],
             [
              0.3333333333333333,
              "#9c179e"
             ],
             [
              0.4444444444444444,
              "#bd3786"
             ],
             [
              0.5555555555555556,
              "#d8576b"
             ],
             [
              0.6666666666666666,
              "#ed7953"
             ],
             [
              0.7777777777777778,
              "#fb9f3a"
             ],
             [
              0.8888888888888888,
              "#fdca26"
             ],
             [
              1,
              "#f0f921"
             ]
            ],
            "type": "histogram2d"
           }
          ],
          "histogram2dcontour": [
           {
            "colorbar": {
             "outlinewidth": 0,
             "ticks": ""
            },
            "colorscale": [
             [
              0,
              "#0d0887"
             ],
             [
              0.1111111111111111,
              "#46039f"
             ],
             [
              0.2222222222222222,
              "#7201a8"
             ],
             [
              0.3333333333333333,
              "#9c179e"
             ],
             [
              0.4444444444444444,
              "#bd3786"
             ],
             [
              0.5555555555555556,
              "#d8576b"
             ],
             [
              0.6666666666666666,
              "#ed7953"
             ],
             [
              0.7777777777777778,
              "#fb9f3a"
             ],
             [
              0.8888888888888888,
              "#fdca26"
             ],
             [
              1,
              "#f0f921"
             ]
            ],
            "type": "histogram2dcontour"
           }
          ],
          "mesh3d": [
           {
            "colorbar": {
             "outlinewidth": 0,
             "ticks": ""
            },
            "type": "mesh3d"
           }
          ],
          "parcoords": [
           {
            "line": {
             "colorbar": {
              "outlinewidth": 0,
              "ticks": ""
             }
            },
            "type": "parcoords"
           }
          ],
          "pie": [
           {
            "automargin": true,
            "type": "pie"
           }
          ],
          "scatter": [
           {
            "marker": {
             "line": {
              "color": "#283442"
             }
            },
            "type": "scatter"
           }
          ],
          "scatter3d": [
           {
            "line": {
             "colorbar": {
              "outlinewidth": 0,
              "ticks": ""
             }
            },
            "marker": {
             "colorbar": {
              "outlinewidth": 0,
              "ticks": ""
             }
            },
            "type": "scatter3d"
           }
          ],
          "scattercarpet": [
           {
            "marker": {
             "colorbar": {
              "outlinewidth": 0,
              "ticks": ""
             }
            },
            "type": "scattercarpet"
           }
          ],
          "scattergeo": [
           {
            "marker": {
             "colorbar": {
              "outlinewidth": 0,
              "ticks": ""
             }
            },
            "type": "scattergeo"
           }
          ],
          "scattergl": [
           {
            "marker": {
             "line": {
              "color": "#283442"
             }
            },
            "type": "scattergl"
           }
          ],
          "scattermapbox": [
           {
            "marker": {
             "colorbar": {
              "outlinewidth": 0,
              "ticks": ""
             }
            },
            "type": "scattermapbox"
           }
          ],
          "scatterpolar": [
           {
            "marker": {
             "colorbar": {
              "outlinewidth": 0,
              "ticks": ""
             }
            },
            "type": "scatterpolar"
           }
          ],
          "scatterpolargl": [
           {
            "marker": {
             "colorbar": {
              "outlinewidth": 0,
              "ticks": ""
             }
            },
            "type": "scatterpolargl"
           }
          ],
          "scatterternary": [
           {
            "marker": {
             "colorbar": {
              "outlinewidth": 0,
              "ticks": ""
             }
            },
            "type": "scatterternary"
           }
          ],
          "surface": [
           {
            "colorbar": {
             "outlinewidth": 0,
             "ticks": ""
            },
            "colorscale": [
             [
              0,
              "#0d0887"
             ],
             [
              0.1111111111111111,
              "#46039f"
             ],
             [
              0.2222222222222222,
              "#7201a8"
             ],
             [
              0.3333333333333333,
              "#9c179e"
             ],
             [
              0.4444444444444444,
              "#bd3786"
             ],
             [
              0.5555555555555556,
              "#d8576b"
             ],
             [
              0.6666666666666666,
              "#ed7953"
             ],
             [
              0.7777777777777778,
              "#fb9f3a"
             ],
             [
              0.8888888888888888,
              "#fdca26"
             ],
             [
              1,
              "#f0f921"
             ]
            ],
            "type": "surface"
           }
          ],
          "table": [
           {
            "cells": {
             "fill": {
              "color": "#506784"
             },
             "line": {
              "color": "rgb(17,17,17)"
             }
            },
            "header": {
             "fill": {
              "color": "#2a3f5f"
             },
             "line": {
              "color": "rgb(17,17,17)"
             }
            },
            "type": "table"
           }
          ]
         },
         "layout": {
          "annotationdefaults": {
           "arrowcolor": "#f2f5fa",
           "arrowhead": 0,
           "arrowwidth": 1
          },
          "autotypenumbers": "strict",
          "coloraxis": {
           "colorbar": {
            "outlinewidth": 0,
            "ticks": ""
           }
          },
          "colorscale": {
           "diverging": [
            [
             0,
             "#8e0152"
            ],
            [
             0.1,
             "#c51b7d"
            ],
            [
             0.2,
             "#de77ae"
            ],
            [
             0.3,
             "#f1b6da"
            ],
            [
             0.4,
             "#fde0ef"
            ],
            [
             0.5,
             "#f7f7f7"
            ],
            [
             0.6,
             "#e6f5d0"
            ],
            [
             0.7,
             "#b8e186"
            ],
            [
             0.8,
             "#7fbc41"
            ],
            [
             0.9,
             "#4d9221"
            ],
            [
             1,
             "#276419"
            ]
           ],
           "sequential": [
            [
             0,
             "#0d0887"
            ],
            [
             0.1111111111111111,
             "#46039f"
            ],
            [
             0.2222222222222222,
             "#7201a8"
            ],
            [
             0.3333333333333333,
             "#9c179e"
            ],
            [
             0.4444444444444444,
             "#bd3786"
            ],
            [
             0.5555555555555556,
             "#d8576b"
            ],
            [
             0.6666666666666666,
             "#ed7953"
            ],
            [
             0.7777777777777778,
             "#fb9f3a"
            ],
            [
             0.8888888888888888,
             "#fdca26"
            ],
            [
             1,
             "#f0f921"
            ]
           ],
           "sequentialminus": [
            [
             0,
             "#0d0887"
            ],
            [
             0.1111111111111111,
             "#46039f"
            ],
            [
             0.2222222222222222,
             "#7201a8"
            ],
            [
             0.3333333333333333,
             "#9c179e"
            ],
            [
             0.4444444444444444,
             "#bd3786"
            ],
            [
             0.5555555555555556,
             "#d8576b"
            ],
            [
             0.6666666666666666,
             "#ed7953"
            ],
            [
             0.7777777777777778,
             "#fb9f3a"
            ],
            [
             0.8888888888888888,
             "#fdca26"
            ],
            [
             1,
             "#f0f921"
            ]
           ]
          },
          "colorway": [
           "#636efa",
           "#EF553B",
           "#00cc96",
           "#ab63fa",
           "#FFA15A",
           "#19d3f3",
           "#FF6692",
           "#B6E880",
           "#FF97FF",
           "#FECB52"
          ],
          "font": {
           "color": "#f2f5fa"
          },
          "geo": {
           "bgcolor": "rgb(17,17,17)",
           "lakecolor": "rgb(17,17,17)",
           "landcolor": "rgb(17,17,17)",
           "showlakes": true,
           "showland": true,
           "subunitcolor": "#506784"
          },
          "hoverlabel": {
           "align": "left"
          },
          "hovermode": "closest",
          "mapbox": {
           "style": "dark"
          },
          "paper_bgcolor": "rgb(17,17,17)",
          "plot_bgcolor": "rgb(17,17,17)",
          "polar": {
           "angularaxis": {
            "gridcolor": "#506784",
            "linecolor": "#506784",
            "ticks": ""
           },
           "bgcolor": "rgb(17,17,17)",
           "radialaxis": {
            "gridcolor": "#506784",
            "linecolor": "#506784",
            "ticks": ""
           }
          },
          "scene": {
           "xaxis": {
            "backgroundcolor": "rgb(17,17,17)",
            "gridcolor": "#506784",
            "gridwidth": 2,
            "linecolor": "#506784",
            "showbackground": true,
            "ticks": "",
            "zerolinecolor": "#C8D4E3"
           },
           "yaxis": {
            "backgroundcolor": "rgb(17,17,17)",
            "gridcolor": "#506784",
            "gridwidth": 2,
            "linecolor": "#506784",
            "showbackground": true,
            "ticks": "",
            "zerolinecolor": "#C8D4E3"
           },
           "zaxis": {
            "backgroundcolor": "rgb(17,17,17)",
            "gridcolor": "#506784",
            "gridwidth": 2,
            "linecolor": "#506784",
            "showbackground": true,
            "ticks": "",
            "zerolinecolor": "#C8D4E3"
           }
          },
          "shapedefaults": {
           "line": {
            "color": "#f2f5fa"
           }
          },
          "sliderdefaults": {
           "bgcolor": "#C8D4E3",
           "bordercolor": "rgb(17,17,17)",
           "borderwidth": 1,
           "tickwidth": 0
          },
          "ternary": {
           "aaxis": {
            "gridcolor": "#506784",
            "linecolor": "#506784",
            "ticks": ""
           },
           "baxis": {
            "gridcolor": "#506784",
            "linecolor": "#506784",
            "ticks": ""
           },
           "bgcolor": "rgb(17,17,17)",
           "caxis": {
            "gridcolor": "#506784",
            "linecolor": "#506784",
            "ticks": ""
           }
          },
          "title": {
           "x": 0.05
          },
          "updatemenudefaults": {
           "bgcolor": "#506784",
           "borderwidth": 0
          },
          "xaxis": {
           "automargin": true,
           "gridcolor": "#283442",
           "linecolor": "#506784",
           "ticks": "",
           "title": {
            "standoff": 15
           },
           "zerolinecolor": "#283442",
           "zerolinewidth": 2
          },
          "yaxis": {
           "automargin": true,
           "gridcolor": "#283442",
           "linecolor": "#506784",
           "ticks": "",
           "title": {
            "standoff": 15
           },
           "zerolinecolor": "#283442",
           "zerolinewidth": 2
          }
         }
        },
        "xaxis": {
         "anchor": "y",
         "domain": [
          0,
          1
         ],
         "title": {
          "text": "X"
         }
        },
        "yaxis": {
         "anchor": "x",
         "domain": [
          0,
          1
         ],
         "title": {
          "text": "Y"
         }
        }
       }
      }
     },
     "metadata": {},
     "output_type": "display_data"
    }
   ],
   "source": [
    "kmeans = KMeans(n_clusters=5, random_state=42)\n",
    "top_tracks_df['cluster'] = kmeans.fit_predict(X)\n",
    "X_proj = TSNE(n_components=2, learning_rate='auto',\n",
    "                  init='random').fit_transform(X)\n",
    "\n",
    "top_tracks_df['X'] = [item[0] for item in X_proj]\n",
    "top_tracks_df['Y'] = [item[1] for item in X_proj]\n",
    "\n",
    "fig = px.scatter(top_tracks_df,x='X',y='Y',color='cluster',size='danceability', template='plotly_dark', hover_data=['name','artist'])\n",
    "fig.show()"
   ]
  },
  {
   "cell_type": "code",
   "execution_count": null,
   "id": "4edc10ac",
   "metadata": {},
   "outputs": [],
   "source": []
  }
 ],
 "metadata": {
  "kernelspec": {
   "display_name": "Python 3.9.12 ('spotify-ml')",
   "language": "python",
   "name": "python3"
  },
  "language_info": {
   "codemirror_mode": {
    "name": "ipython",
    "version": 3
   },
   "file_extension": ".py",
   "mimetype": "text/x-python",
   "name": "python",
   "nbconvert_exporter": "python",
   "pygments_lexer": "ipython3",
   "version": "3.9.12"
  },
  "vscode": {
   "interpreter": {
    "hash": "1ca278026a607c41f8d329b656447d74a1bcc39e8009c79f04372c9b9c8a84a5"
   }
  }
 },
 "nbformat": 4,
 "nbformat_minor": 5
}
