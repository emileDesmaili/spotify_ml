{
 "cells": [
  {
   "cell_type": "code",
   "execution_count": 7,
   "id": "7db4092f",
   "metadata": {},
   "outputs": [],
   "source": [
    "import spotipy\n",
    "from spotipy.oauth2 import SpotifyClientCredentials, SpotifyOAuth\n",
    "import pandas as pd\n",
    "import plotly.express as px\n",
    "from sklearn.cluster import KMeans\n",
    "from sklearn.manifold import TSNE\n",
    "import numpy as np\n",
    "import matplotlib.pyplot as plt\n",
    "from wordcloud import WordCloud, STOPWORDS\n"
   ]
  },
  {
   "cell_type": "code",
   "execution_count": 8,
   "id": "69815298",
   "metadata": {},
   "outputs": [],
   "source": [
    "SPOTIPY_CLIENT_ID='aa3b040fe8a14f47babd5211bc20f4c8'  \n",
    "SPOTIPY_SECRET_ID='7274e34729fc407d9f0bef405fd24805'\n",
    "SPOTIPY_REDIRECT_URI='http://localhost:3005/callback/'"
   ]
  },
  {
   "cell_type": "code",
   "execution_count": 9,
   "id": "7be9cef2",
   "metadata": {},
   "outputs": [],
   "source": [
    "scope = \"user-library-read, playlist-read-private, user-read-private, user-read-playback-state, user-top-read, user-follow-read, user-read-currently-playing, user-read-recently-played\"\n",
    "\n",
    "auth_manager = SpotifyOAuth(client_id=SPOTIPY_CLIENT_ID, client_secret= SPOTIPY_SECRET_ID, redirect_uri=SPOTIPY_REDIRECT_URI, scope=scope)\n",
    "sp = spotipy.Spotify(auth_manager=auth_manager)\n",
    "\n"
   ]
  },
  {
   "cell_type": "code",
   "execution_count": 10,
   "id": "728da8e1",
   "metadata": {},
   "outputs": [
    {
     "name": "stdout",
     "output_type": "stream",
     "text": [
      "   1 spotify:playlist:2ijdBcHfEmWXoz2QDn8YHx Groove\n",
      "   2 spotify:playlist:3e74riRWhnRhgvSGWbrHdm Parties...\n",
      "   3 spotify:playlist:1b9TmDoNUFe9IzTgAcyDzO Soul\n"
     ]
    }
   ],
   "source": [
    "playlists = sp.current_user_playlists()\n",
    "while playlists:\n",
    "    for i, playlist in enumerate(playlists['items']):\n",
    "        print(\"%4d %s %s\" % (i + 1 + playlists['offset'], playlist['uri'],  playlist['name']))\n",
    "    if playlists['next']:\n",
    "        playlists = sp.next(playlists)\n",
    "    else:\n",
    "        playlists = None"
   ]
  },
  {
   "cell_type": "markdown",
   "id": "2eb2381b",
   "metadata": {},
   "source": [
    "### Exploring Albums"
   ]
  },
  {
   "cell_type": "code",
   "execution_count": 11,
   "id": "6a49ffb2",
   "metadata": {},
   "outputs": [
    {
     "name": "stdout",
     "output_type": "stream",
     "text": [
      "Remember Your North Star\n",
      "Janky Star\n",
      "Step By Step EP\n",
      "The Heart Part 5\n",
      "Classic Objects\n",
      "Blackstar\n",
      "Big Time\n",
      "HYPNOS\n",
      "Mr. Morale & The Big Steppers\n",
      "A Light for Attracting Attention\n",
      "Car Therapy Sessions\n",
      "Space 1.8\n",
      "Butterfly\n",
      "Air\n",
      "ENTERTAINMENT, DEATH\n",
      "Untourable Album\n",
      "5.17\n",
      "PAINLESS\n",
      "Dragon New Warm Mountain I Believe In You\n",
      "Drawing Room\n"
     ]
    }
   ],
   "source": [
    "albums = sp.current_user_saved_albums(limit=20)\n",
    "for album in albums['items']:\n",
    "    print(album['album']['name'])\n",
    "\n"
   ]
  },
  {
   "cell_type": "code",
   "execution_count": 37,
   "id": "230c18f3",
   "metadata": {},
   "outputs": [],
   "source": [
    "def get_wordcloud(df):\n",
    "    text = \" \".join(i for i in df['artist'].str.replace(' ',''))\n",
    "    stopwords = list(set(STOPWORDS))\n",
    "    wordcloud = WordCloud(stopwords=stopwords, background_color=\"black\", colormap='PuBu').generate(text)\n",
    "    plt.figure( figsize=(10,5))\n",
    "    plt.imshow(wordcloud, interpolation='bilinear')\n",
    "    plt.axis(\"off\")\n",
    "    plt.show()"
   ]
  },
  {
   "cell_type": "markdown",
   "id": "e968582b",
   "metadata": {},
   "source": [
    "### Exploring Playlists"
   ]
  },
  {
   "cell_type": "code",
   "execution_count": 31,
   "id": "f484df2d",
   "metadata": {},
   "outputs": [],
   "source": [
    "playlists = sp.current_user_playlists()\n",
    "pl = playlists['items'][0] #playlist index\n",
    "playlist_id = pl['id']\n"
   ]
  },
  {
   "cell_type": "code",
   "execution_count": 32,
   "id": "45dd2b80",
   "metadata": {},
   "outputs": [],
   "source": [
    "def get_playlist_tracks(playlist_id):\n",
    "    playlist = sp.playlist(playlist_id)\n",
    "    artists = []\n",
    "    track_names = []\n",
    "    track_ids = []\n",
    "    danceability = []\n",
    "    energy = []\n",
    "    key = []\n",
    "    loudness = []\n",
    "    mode = []\n",
    "    speechiness = []\n",
    "    acousticness = []\n",
    "    instrumentalness = []\n",
    "    liveness = []\n",
    "    valence = []\n",
    "    tempo = []\n",
    "    \n",
    "    for idx, item in enumerate(playlist['tracks']['items']):\n",
    "        track = item['track']['name']\n",
    "        id = item['track']['id']\n",
    "        artist = item['track']['artists'][0]['name']\n",
    "        \n",
    "        artists.append(artist)\n",
    "        track_names.append(track)\n",
    "        track_ids.append(id)\n",
    "        features = sp.audio_features(id)[0]\n",
    "        danceability.append(features['danceability'])\n",
    "        energy.append(features['energy'])\n",
    "        key.append(features['key'])\n",
    "        loudness.append(features['loudness'])\n",
    "        mode.append(features['mode'])\n",
    "        speechiness.append(features['speechiness'])\n",
    "        acousticness.append(features['acousticness'])\n",
    "        instrumentalness.append(features['instrumentalness'])\n",
    "        liveness.append(features['liveness'])\n",
    "        valence.append(features['valence'])\n",
    "        tempo.append(features['tempo'])\n",
    "\n",
    "    df = pd.DataFrame(list(zip(track_ids,track_names,artists, \n",
    "                        danceability,energy,key,loudness,mode,speechiness,acousticness,instrumentalness,liveness, valence, tempo)), \n",
    "                        columns=['id','name','artist', 'danceability','energy','key','loudness','mode','speechiness','acousticness',\n",
    "                        'instrumentalness','liveness','valence', 'tempo'])\n",
    "    return df"
   ]
  },
  {
   "cell_type": "code",
   "execution_count": 33,
   "id": "2cb2f710",
   "metadata": {},
   "outputs": [],
   "source": [
    "playlist_df = get_playlist_tracks(playlist_id=playlist_id)"
   ]
  },
  {
   "cell_type": "code",
   "execution_count": 34,
   "id": "2fe79048",
   "metadata": {},
   "outputs": [
    {
     "name": "stderr",
     "output_type": "stream",
     "text": [
      "C:\\Users\\emile\\AppData\\Local\\Temp\\ipykernel_13580\\3469927617.py:1: FutureWarning:\n",
      "\n",
      "Dropping of nuisance columns in DataFrame reductions (with 'numeric_only=None') is deprecated; in a future version this will raise TypeError.  Select only valid columns before calling the reduction.\n",
      "\n"
     ]
    }
   ],
   "source": [
    "mean_df = playlist_df.mean(axis=0)"
   ]
  },
  {
   "cell_type": "code",
   "execution_count": 35,
   "id": "05c969f7",
   "metadata": {},
   "outputs": [
    {
     "data": {
      "application/vnd.plotly.v1+json": {
       "config": {
        "plotlyServerURL": "https://plot.ly"
       },
       "data": [
        {
         "hovertemplate": "index=%{theta}<br>r=%{r}<extra></extra>",
         "legendgroup": "danceability",
         "marker": {
          "color": "#636EFA",
          "pattern": {
           "shape": ""
          }
         },
         "name": "danceability",
         "r": [
          0.6948900000000002
         ],
         "showlegend": true,
         "subplot": "polar",
         "theta": [
          "danceability"
         ],
         "type": "barpolar"
        },
        {
         "hovertemplate": "index=%{theta}<br>r=%{r}<extra></extra>",
         "legendgroup": "energy",
         "marker": {
          "color": "#EF553B",
          "pattern": {
           "shape": ""
          }
         },
         "name": "energy",
         "r": [
          0.68003
         ],
         "showlegend": true,
         "subplot": "polar",
         "theta": [
          "energy"
         ],
         "type": "barpolar"
        },
        {
         "hovertemplate": "index=%{theta}<br>r=%{r}<extra></extra>",
         "legendgroup": "speechiness",
         "marker": {
          "color": "#00CC96",
          "pattern": {
           "shape": ""
          }
         },
         "name": "speechiness",
         "r": [
          0.07625099999999999
         ],
         "showlegend": true,
         "subplot": "polar",
         "theta": [
          "speechiness"
         ],
         "type": "barpolar"
        },
        {
         "hovertemplate": "index=%{theta}<br>r=%{r}<extra></extra>",
         "legendgroup": "instrumentalness",
         "marker": {
          "color": "#AB63FA",
          "pattern": {
           "shape": ""
          }
         },
         "name": "instrumentalness",
         "r": [
          0.1473851498
         ],
         "showlegend": true,
         "subplot": "polar",
         "theta": [
          "instrumentalness"
         ],
         "type": "barpolar"
        },
        {
         "hovertemplate": "index=%{theta}<br>r=%{r}<extra></extra>",
         "legendgroup": "liveness",
         "marker": {
          "color": "#FFA15A",
          "pattern": {
           "shape": ""
          }
         },
         "name": "liveness",
         "r": [
          0.196621
         ],
         "showlegend": true,
         "subplot": "polar",
         "theta": [
          "liveness"
         ],
         "type": "barpolar"
        },
        {
         "hovertemplate": "index=%{theta}<br>r=%{r}<extra></extra>",
         "legendgroup": "valence",
         "marker": {
          "color": "#19D3F3",
          "pattern": {
           "shape": ""
          }
         },
         "name": "valence",
         "r": [
          0.6262859999999999
         ],
         "showlegend": true,
         "subplot": "polar",
         "theta": [
          "valence"
         ],
         "type": "barpolar"
        },
        {
         "hovertemplate": "index=%{theta}<br>r=%{r}<extra></extra>",
         "legendgroup": "mode",
         "marker": {
          "color": "#FF6692",
          "pattern": {
           "shape": ""
          }
         },
         "name": "mode",
         "r": [
          0.49
         ],
         "showlegend": true,
         "subplot": "polar",
         "theta": [
          "mode"
         ],
         "type": "barpolar"
        }
       ],
       "layout": {
        "barmode": "relative",
        "legend": {
         "title": {
          "text": "index"
         },
         "tracegroupgap": 0
        },
        "margin": {
         "t": 60
        },
        "polar": {
         "angularaxis": {
          "categoryarray": [
           "danceability",
           "energy",
           "speechiness",
           "instrumentalness",
           "liveness",
           "valence",
           "mode"
          ],
          "categoryorder": "array",
          "direction": "clockwise",
          "rotation": 90
         },
         "domain": {
          "x": [
           0,
           1
          ],
          "y": [
           0,
           1
          ]
         }
        },
        "template": {
         "data": {
          "bar": [
           {
            "error_x": {
             "color": "#f2f5fa"
            },
            "error_y": {
             "color": "#f2f5fa"
            },
            "marker": {
             "line": {
              "color": "rgb(17,17,17)",
              "width": 0.5
             },
             "pattern": {
              "fillmode": "overlay",
              "size": 10,
              "solidity": 0.2
             }
            },
            "type": "bar"
           }
          ],
          "barpolar": [
           {
            "marker": {
             "line": {
              "color": "rgb(17,17,17)",
              "width": 0.5
             },
             "pattern": {
              "fillmode": "overlay",
              "size": 10,
              "solidity": 0.2
             }
            },
            "type": "barpolar"
           }
          ],
          "carpet": [
           {
            "aaxis": {
             "endlinecolor": "#A2B1C6",
             "gridcolor": "#506784",
             "linecolor": "#506784",
             "minorgridcolor": "#506784",
             "startlinecolor": "#A2B1C6"
            },
            "baxis": {
             "endlinecolor": "#A2B1C6",
             "gridcolor": "#506784",
             "linecolor": "#506784",
             "minorgridcolor": "#506784",
             "startlinecolor": "#A2B1C6"
            },
            "type": "carpet"
           }
          ],
          "choropleth": [
           {
            "colorbar": {
             "outlinewidth": 0,
             "ticks": ""
            },
            "type": "choropleth"
           }
          ],
          "contour": [
           {
            "colorbar": {
             "outlinewidth": 0,
             "ticks": ""
            },
            "colorscale": [
             [
              0,
              "#0d0887"
             ],
             [
              0.1111111111111111,
              "#46039f"
             ],
             [
              0.2222222222222222,
              "#7201a8"
             ],
             [
              0.3333333333333333,
              "#9c179e"
             ],
             [
              0.4444444444444444,
              "#bd3786"
             ],
             [
              0.5555555555555556,
              "#d8576b"
             ],
             [
              0.6666666666666666,
              "#ed7953"
             ],
             [
              0.7777777777777778,
              "#fb9f3a"
             ],
             [
              0.8888888888888888,
              "#fdca26"
             ],
             [
              1,
              "#f0f921"
             ]
            ],
            "type": "contour"
           }
          ],
          "contourcarpet": [
           {
            "colorbar": {
             "outlinewidth": 0,
             "ticks": ""
            },
            "type": "contourcarpet"
           }
          ],
          "heatmap": [
           {
            "colorbar": {
             "outlinewidth": 0,
             "ticks": ""
            },
            "colorscale": [
             [
              0,
              "#0d0887"
             ],
             [
              0.1111111111111111,
              "#46039f"
             ],
             [
              0.2222222222222222,
              "#7201a8"
             ],
             [
              0.3333333333333333,
              "#9c179e"
             ],
             [
              0.4444444444444444,
              "#bd3786"
             ],
             [
              0.5555555555555556,
              "#d8576b"
             ],
             [
              0.6666666666666666,
              "#ed7953"
             ],
             [
              0.7777777777777778,
              "#fb9f3a"
             ],
             [
              0.8888888888888888,
              "#fdca26"
             ],
             [
              1,
              "#f0f921"
             ]
            ],
            "type": "heatmap"
           }
          ],
          "heatmapgl": [
           {
            "colorbar": {
             "outlinewidth": 0,
             "ticks": ""
            },
            "colorscale": [
             [
              0,
              "#0d0887"
             ],
             [
              0.1111111111111111,
              "#46039f"
             ],
             [
              0.2222222222222222,
              "#7201a8"
             ],
             [
              0.3333333333333333,
              "#9c179e"
             ],
             [
              0.4444444444444444,
              "#bd3786"
             ],
             [
              0.5555555555555556,
              "#d8576b"
             ],
             [
              0.6666666666666666,
              "#ed7953"
             ],
             [
              0.7777777777777778,
              "#fb9f3a"
             ],
             [
              0.8888888888888888,
              "#fdca26"
             ],
             [
              1,
              "#f0f921"
             ]
            ],
            "type": "heatmapgl"
           }
          ],
          "histogram": [
           {
            "marker": {
             "pattern": {
              "fillmode": "overlay",
              "size": 10,
              "solidity": 0.2
             }
            },
            "type": "histogram"
           }
          ],
          "histogram2d": [
           {
            "colorbar": {
             "outlinewidth": 0,
             "ticks": ""
            },
            "colorscale": [
             [
              0,
              "#0d0887"
             ],
             [
              0.1111111111111111,
              "#46039f"
             ],
             [
              0.2222222222222222,
              "#7201a8"
             ],
             [
              0.3333333333333333,
              "#9c179e"
             ],
             [
              0.4444444444444444,
              "#bd3786"
             ],
             [
              0.5555555555555556,
              "#d8576b"
             ],
             [
              0.6666666666666666,
              "#ed7953"
             ],
             [
              0.7777777777777778,
              "#fb9f3a"
             ],
             [
              0.8888888888888888,
              "#fdca26"
             ],
             [
              1,
              "#f0f921"
             ]
            ],
            "type": "histogram2d"
           }
          ],
          "histogram2dcontour": [
           {
            "colorbar": {
             "outlinewidth": 0,
             "ticks": ""
            },
            "colorscale": [
             [
              0,
              "#0d0887"
             ],
             [
              0.1111111111111111,
              "#46039f"
             ],
             [
              0.2222222222222222,
              "#7201a8"
             ],
             [
              0.3333333333333333,
              "#9c179e"
             ],
             [
              0.4444444444444444,
              "#bd3786"
             ],
             [
              0.5555555555555556,
              "#d8576b"
             ],
             [
              0.6666666666666666,
              "#ed7953"
             ],
             [
              0.7777777777777778,
              "#fb9f3a"
             ],
             [
              0.8888888888888888,
              "#fdca26"
             ],
             [
              1,
              "#f0f921"
             ]
            ],
            "type": "histogram2dcontour"
           }
          ],
          "mesh3d": [
           {
            "colorbar": {
             "outlinewidth": 0,
             "ticks": ""
            },
            "type": "mesh3d"
           }
          ],
          "parcoords": [
           {
            "line": {
             "colorbar": {
              "outlinewidth": 0,
              "ticks": ""
             }
            },
            "type": "parcoords"
           }
          ],
          "pie": [
           {
            "automargin": true,
            "type": "pie"
           }
          ],
          "scatter": [
           {
            "marker": {
             "line": {
              "color": "#283442"
             }
            },
            "type": "scatter"
           }
          ],
          "scatter3d": [
           {
            "line": {
             "colorbar": {
              "outlinewidth": 0,
              "ticks": ""
             }
            },
            "marker": {
             "colorbar": {
              "outlinewidth": 0,
              "ticks": ""
             }
            },
            "type": "scatter3d"
           }
          ],
          "scattercarpet": [
           {
            "marker": {
             "colorbar": {
              "outlinewidth": 0,
              "ticks": ""
             }
            },
            "type": "scattercarpet"
           }
          ],
          "scattergeo": [
           {
            "marker": {
             "colorbar": {
              "outlinewidth": 0,
              "ticks": ""
             }
            },
            "type": "scattergeo"
           }
          ],
          "scattergl": [
           {
            "marker": {
             "line": {
              "color": "#283442"
             }
            },
            "type": "scattergl"
           }
          ],
          "scattermapbox": [
           {
            "marker": {
             "colorbar": {
              "outlinewidth": 0,
              "ticks": ""
             }
            },
            "type": "scattermapbox"
           }
          ],
          "scatterpolar": [
           {
            "marker": {
             "colorbar": {
              "outlinewidth": 0,
              "ticks": ""
             }
            },
            "type": "scatterpolar"
           }
          ],
          "scatterpolargl": [
           {
            "marker": {
             "colorbar": {
              "outlinewidth": 0,
              "ticks": ""
             }
            },
            "type": "scatterpolargl"
           }
          ],
          "scatterternary": [
           {
            "marker": {
             "colorbar": {
              "outlinewidth": 0,
              "ticks": ""
             }
            },
            "type": "scatterternary"
           }
          ],
          "surface": [
           {
            "colorbar": {
             "outlinewidth": 0,
             "ticks": ""
            },
            "colorscale": [
             [
              0,
              "#0d0887"
             ],
             [
              0.1111111111111111,
              "#46039f"
             ],
             [
              0.2222222222222222,
              "#7201a8"
             ],
             [
              0.3333333333333333,
              "#9c179e"
             ],
             [
              0.4444444444444444,
              "#bd3786"
             ],
             [
              0.5555555555555556,
              "#d8576b"
             ],
             [
              0.6666666666666666,
              "#ed7953"
             ],
             [
              0.7777777777777778,
              "#fb9f3a"
             ],
             [
              0.8888888888888888,
              "#fdca26"
             ],
             [
              1,
              "#f0f921"
             ]
            ],
            "type": "surface"
           }
          ],
          "table": [
           {
            "cells": {
             "fill": {
              "color": "#506784"
             },
             "line": {
              "color": "rgb(17,17,17)"
             }
            },
            "header": {
             "fill": {
              "color": "#2a3f5f"
             },
             "line": {
              "color": "rgb(17,17,17)"
             }
            },
            "type": "table"
           }
          ]
         },
         "layout": {
          "annotationdefaults": {
           "arrowcolor": "#f2f5fa",
           "arrowhead": 0,
           "arrowwidth": 1
          },
          "autotypenumbers": "strict",
          "coloraxis": {
           "colorbar": {
            "outlinewidth": 0,
            "ticks": ""
           }
          },
          "colorscale": {
           "diverging": [
            [
             0,
             "#8e0152"
            ],
            [
             0.1,
             "#c51b7d"
            ],
            [
             0.2,
             "#de77ae"
            ],
            [
             0.3,
             "#f1b6da"
            ],
            [
             0.4,
             "#fde0ef"
            ],
            [
             0.5,
             "#f7f7f7"
            ],
            [
             0.6,
             "#e6f5d0"
            ],
            [
             0.7,
             "#b8e186"
            ],
            [
             0.8,
             "#7fbc41"
            ],
            [
             0.9,
             "#4d9221"
            ],
            [
             1,
             "#276419"
            ]
           ],
           "sequential": [
            [
             0,
             "#0d0887"
            ],
            [
             0.1111111111111111,
             "#46039f"
            ],
            [
             0.2222222222222222,
             "#7201a8"
            ],
            [
             0.3333333333333333,
             "#9c179e"
            ],
            [
             0.4444444444444444,
             "#bd3786"
            ],
            [
             0.5555555555555556,
             "#d8576b"
            ],
            [
             0.6666666666666666,
             "#ed7953"
            ],
            [
             0.7777777777777778,
             "#fb9f3a"
            ],
            [
             0.8888888888888888,
             "#fdca26"
            ],
            [
             1,
             "#f0f921"
            ]
           ],
           "sequentialminus": [
            [
             0,
             "#0d0887"
            ],
            [
             0.1111111111111111,
             "#46039f"
            ],
            [
             0.2222222222222222,
             "#7201a8"
            ],
            [
             0.3333333333333333,
             "#9c179e"
            ],
            [
             0.4444444444444444,
             "#bd3786"
            ],
            [
             0.5555555555555556,
             "#d8576b"
            ],
            [
             0.6666666666666666,
             "#ed7953"
            ],
            [
             0.7777777777777778,
             "#fb9f3a"
            ],
            [
             0.8888888888888888,
             "#fdca26"
            ],
            [
             1,
             "#f0f921"
            ]
           ]
          },
          "colorway": [
           "#636efa",
           "#EF553B",
           "#00cc96",
           "#ab63fa",
           "#FFA15A",
           "#19d3f3",
           "#FF6692",
           "#B6E880",
           "#FF97FF",
           "#FECB52"
          ],
          "font": {
           "color": "#f2f5fa"
          },
          "geo": {
           "bgcolor": "rgb(17,17,17)",
           "lakecolor": "rgb(17,17,17)",
           "landcolor": "rgb(17,17,17)",
           "showlakes": true,
           "showland": true,
           "subunitcolor": "#506784"
          },
          "hoverlabel": {
           "align": "left"
          },
          "hovermode": "closest",
          "mapbox": {
           "style": "dark"
          },
          "paper_bgcolor": "rgb(17,17,17)",
          "plot_bgcolor": "rgb(17,17,17)",
          "polar": {
           "angularaxis": {
            "gridcolor": "#506784",
            "linecolor": "#506784",
            "ticks": ""
           },
           "bgcolor": "rgb(17,17,17)",
           "radialaxis": {
            "gridcolor": "#506784",
            "linecolor": "#506784",
            "ticks": ""
           }
          },
          "scene": {
           "xaxis": {
            "backgroundcolor": "rgb(17,17,17)",
            "gridcolor": "#506784",
            "gridwidth": 2,
            "linecolor": "#506784",
            "showbackground": true,
            "ticks": "",
            "zerolinecolor": "#C8D4E3"
           },
           "yaxis": {
            "backgroundcolor": "rgb(17,17,17)",
            "gridcolor": "#506784",
            "gridwidth": 2,
            "linecolor": "#506784",
            "showbackground": true,
            "ticks": "",
            "zerolinecolor": "#C8D4E3"
           },
           "zaxis": {
            "backgroundcolor": "rgb(17,17,17)",
            "gridcolor": "#506784",
            "gridwidth": 2,
            "linecolor": "#506784",
            "showbackground": true,
            "ticks": "",
            "zerolinecolor": "#C8D4E3"
           }
          },
          "shapedefaults": {
           "line": {
            "color": "#f2f5fa"
           }
          },
          "sliderdefaults": {
           "bgcolor": "#C8D4E3",
           "bordercolor": "rgb(17,17,17)",
           "borderwidth": 1,
           "tickwidth": 0
          },
          "ternary": {
           "aaxis": {
            "gridcolor": "#506784",
            "linecolor": "#506784",
            "ticks": ""
           },
           "baxis": {
            "gridcolor": "#506784",
            "linecolor": "#506784",
            "ticks": ""
           },
           "bgcolor": "rgb(17,17,17)",
           "caxis": {
            "gridcolor": "#506784",
            "linecolor": "#506784",
            "ticks": ""
           }
          },
          "title": {
           "x": 0.05
          },
          "updatemenudefaults": {
           "bgcolor": "#506784",
           "borderwidth": 0
          },
          "xaxis": {
           "automargin": true,
           "gridcolor": "#283442",
           "linecolor": "#506784",
           "ticks": "",
           "title": {
            "standoff": 15
           },
           "zerolinecolor": "#283442",
           "zerolinewidth": 2
          },
          "yaxis": {
           "automargin": true,
           "gridcolor": "#283442",
           "linecolor": "#506784",
           "ticks": "",
           "title": {
            "standoff": 15
           },
           "zerolinecolor": "#283442",
           "zerolinewidth": 2
          }
         }
        }
       }
      }
     },
     "metadata": {},
     "output_type": "display_data"
    }
   ],
   "source": [
    "radar_df = mean_df.filter(items=['danceability','energy','speechiness','acoustincess','instrumentalness','liveness','valence','mode',])\n",
    "fig = px.bar_polar(radar_df, r=radar_df.values, theta=radar_df.index, \n",
    "                    range_r = [], color=radar_df.index,\n",
    "                    color_discrete_sequence=px.colors.qualitative.Plotly,\n",
    "                    template='plotly_dark')\n",
    "\n",
    "fig.show()"
   ]
  },
  {
   "cell_type": "code",
   "execution_count": 38,
   "id": "6ca76400",
   "metadata": {},
   "outputs": [
    {
     "data": {
      "image/png": "[encoded data removed]",
      "text/plain": [
       "<Figure size 720x360 with 1 Axes>"
      ]
     },
     "metadata": {
      "needs_background": "light"
     },
     "output_type": "display_data"
    }
   ],
   "source": [
    "get_wordcloud(playlist_df)"
   ]
  },
  {
   "cell_type": "markdown",
   "id": "fca8246b",
   "metadata": {},
   "source": [
    "### Exploring Top Tracks"
   ]
  },
  {
   "cell_type": "code",
   "execution_count": 17,
   "id": "c82f9256",
   "metadata": {},
   "outputs": [],
   "source": [
    "def get_top_tracks():\n",
    "    top_tracks = sp.current_user_top_tracks(limit=50, time_range='short_term')\n",
    "    artists = []\n",
    "    track_names = []\n",
    "    track_ids = []\n",
    "    danceability = []\n",
    "    energy = []\n",
    "    key = []\n",
    "    loudness = []\n",
    "    mode = []\n",
    "    speechiness = []\n",
    "    acousticness = []\n",
    "    instrumentalness = []\n",
    "    liveness = []\n",
    "    valence = []\n",
    "    tempo = []\n",
    "    \n",
    "    for idx, item in enumerate(top_tracks['items']):\n",
    "        track = item['name']\n",
    "        uri = item['uri']\n",
    "        artist = item['artists'][0]['name']\n",
    "        artists.append(artist)\n",
    "        track_names.append(track)\n",
    "        track_ids.append(uri)\n",
    "        features = sp.audio_features(uri)[0]\n",
    "        danceability.append(features['danceability'])\n",
    "        energy.append(features['energy'])\n",
    "        key.append(features['key'])\n",
    "        loudness.append(features['loudness'])\n",
    "        mode.append(features['mode'])\n",
    "        speechiness.append(features['speechiness'])\n",
    "        acousticness.append(features['acousticness'])\n",
    "        instrumentalness.append(features['instrumentalness'])\n",
    "        liveness.append(features['liveness'])\n",
    "        valence.append(features['valence'])\n",
    "        tempo.append(features['tempo'])\n",
    "\n",
    "    df = pd.DataFrame(list(zip(track_ids,track_names,artists, \n",
    "                        danceability,energy,key,loudness,mode,speechiness,acousticness,instrumentalness,liveness, valence, tempo)), \n",
    "                        columns=['id','name','artist', 'danceability','energy','key','loudness','mode','speechiness','acousticness',\n",
    "                        'instrumentalness','liveness','valence', 'tempo'])\n",
    "    return df\n",
    "\n",
    "\n",
    "\n"
   ]
  },
  {
   "cell_type": "code",
   "execution_count": 18,
   "id": "8868b29e",
   "metadata": {},
   "outputs": [
    {
     "name": "stderr",
     "output_type": "stream",
     "text": [
      "C:\\Users\\emile\\AppData\\Local\\Temp\\ipykernel_13580\\3479958638.py:2: FutureWarning:\n",
      "\n",
      "Dropping of nuisance columns in DataFrame reductions (with 'numeric_only=None') is deprecated; in a future version this will raise TypeError.  Select only valid columns before calling the reduction.\n",
      "\n"
     ]
    },
    {
     "data": {
      "text/html": [
       "<div>\n",
       "<style scoped>\n",
       "    .dataframe tbody tr th:only-of-type {\n",
       "        vertical-align: middle;\n",
       "    }\n",
       "\n",
       "    .dataframe tbody tr th {\n",
       "        vertical-align: top;\n",
       "    }\n",
       "\n",
       "    .dataframe thead th {\n",
       "        text-align: right;\n",
       "    }\n",
       "</style>\n",
       "<table border=\"1\" class=\"dataframe\">\n",
       "  <thead>\n",
       "    <tr style=\"text-align: right;\">\n",
       "      <th></th>\n",
       "      <th>id</th>\n",
       "      <th>name</th>\n",
       "      <th>artist</th>\n",
       "      <th>danceability</th>\n",
       "      <th>energy</th>\n",
       "      <th>key</th>\n",
       "      <th>loudness</th>\n",
       "      <th>mode</th>\n",
       "      <th>speechiness</th>\n",
       "      <th>acousticness</th>\n",
       "      <th>instrumentalness</th>\n",
       "      <th>liveness</th>\n",
       "      <th>valence</th>\n",
       "      <th>tempo</th>\n",
       "    </tr>\n",
       "  </thead>\n",
       "  <tbody>\n",
       "    <tr>\n",
       "      <th>0</th>\n",
       "      <td>spotify:track:16yjTWzlK1IVHh3kE61lbJ</td>\n",
       "      <td>Love Me</td>\n",
       "      <td>Braxe + Falcon</td>\n",
       "      <td>0.771</td>\n",
       "      <td>0.726</td>\n",
       "      <td>2</td>\n",
       "      <td>-7.605</td>\n",
       "      <td>0</td>\n",
       "      <td>0.0905</td>\n",
       "      <td>0.009000</td>\n",
       "      <td>0.00494</td>\n",
       "      <td>0.0751</td>\n",
       "      <td>0.5280</td>\n",
       "      <td>107.993</td>\n",
       "    </tr>\n",
       "    <tr>\n",
       "      <th>1</th>\n",
       "      <td>spotify:track:2k53CUO1l6n9IdwYerskQ4</td>\n",
       "      <td>reprise</td>\n",
       "      <td>Yaya Bey</td>\n",
       "      <td>0.622</td>\n",
       "      <td>0.427</td>\n",
       "      <td>8</td>\n",
       "      <td>-8.940</td>\n",
       "      <td>1</td>\n",
       "      <td>0.0987</td>\n",
       "      <td>0.620000</td>\n",
       "      <td>0.39100</td>\n",
       "      <td>0.1110</td>\n",
       "      <td>0.6210</td>\n",
       "      <td>80.047</td>\n",
       "    </tr>\n",
       "    <tr>\n",
       "      <th>2</th>\n",
       "      <td>spotify:track:6kKXowSTq8uKZhdFPdG9BS</td>\n",
       "      <td>black screen</td>\n",
       "      <td>LCD Soundsystem</td>\n",
       "      <td>0.584</td>\n",
       "      <td>0.433</td>\n",
       "      <td>7</td>\n",
       "      <td>-14.590</td>\n",
       "      <td>1</td>\n",
       "      <td>0.0253</td>\n",
       "      <td>0.321000</td>\n",
       "      <td>0.92300</td>\n",
       "      <td>0.0912</td>\n",
       "      <td>0.0721</td>\n",
       "      <td>100.010</td>\n",
       "    </tr>\n",
       "    <tr>\n",
       "      <th>3</th>\n",
       "      <td>spotify:track:144pmLno2ywO6gBAkMjBf7</td>\n",
       "      <td>Tall Tales</td>\n",
       "      <td>Kennebec</td>\n",
       "      <td>0.492</td>\n",
       "      <td>0.776</td>\n",
       "      <td>1</td>\n",
       "      <td>-9.864</td>\n",
       "      <td>1</td>\n",
       "      <td>0.1630</td>\n",
       "      <td>0.339000</td>\n",
       "      <td>0.00207</td>\n",
       "      <td>0.1320</td>\n",
       "      <td>0.7340</td>\n",
       "      <td>90.990</td>\n",
       "    </tr>\n",
       "    <tr>\n",
       "      <th>4</th>\n",
       "      <td>spotify:track:2tTVoJ1A4aPrhzuTxDBd7D</td>\n",
       "      <td>Lazy Day</td>\n",
       "      <td>Grace Ives</td>\n",
       "      <td>0.809</td>\n",
       "      <td>0.536</td>\n",
       "      <td>1</td>\n",
       "      <td>-5.647</td>\n",
       "      <td>1</td>\n",
       "      <td>0.0521</td>\n",
       "      <td>0.088200</td>\n",
       "      <td>0.05650</td>\n",
       "      <td>0.0469</td>\n",
       "      <td>0.9260</td>\n",
       "      <td>99.994</td>\n",
       "    </tr>\n",
       "    <tr>\n",
       "      <th>5</th>\n",
       "      <td>spotify:track:0nlZjTPzW6S9JIESuGfImT</td>\n",
       "      <td>Lowdown</td>\n",
       "      <td>Boz Scaggs</td>\n",
       "      <td>0.662</td>\n",
       "      <td>0.788</td>\n",
       "      <td>11</td>\n",
       "      <td>-5.544</td>\n",
       "      <td>0</td>\n",
       "      <td>0.0635</td>\n",
       "      <td>0.081200</td>\n",
       "      <td>0.14100</td>\n",
       "      <td>0.0351</td>\n",
       "      <td>0.9290</td>\n",
       "      <td>116.499</td>\n",
       "    </tr>\n",
       "    <tr>\n",
       "      <th>6</th>\n",
       "      <td>spotify:track:2v1TDSie6VgdAvXSui0NPY</td>\n",
       "      <td>Sunset - Jamie xx Edit</td>\n",
       "      <td>The xx</td>\n",
       "      <td>0.885</td>\n",
       "      <td>0.397</td>\n",
       "      <td>11</td>\n",
       "      <td>-11.732</td>\n",
       "      <td>0</td>\n",
       "      <td>0.0901</td>\n",
       "      <td>0.011800</td>\n",
       "      <td>0.41200</td>\n",
       "      <td>0.0996</td>\n",
       "      <td>0.5410</td>\n",
       "      <td>120.010</td>\n",
       "    </tr>\n",
       "    <tr>\n",
       "      <th>7</th>\n",
       "      <td>spotify:track:3qOuySPLpVyBXLuTNMgbRj</td>\n",
       "      <td>On Hold - Jamie xx Remix</td>\n",
       "      <td>The xx</td>\n",
       "      <td>0.759</td>\n",
       "      <td>0.909</td>\n",
       "      <td>0</td>\n",
       "      <td>-7.850</td>\n",
       "      <td>0</td>\n",
       "      <td>0.0373</td>\n",
       "      <td>0.301000</td>\n",
       "      <td>0.84400</td>\n",
       "      <td>0.0998</td>\n",
       "      <td>0.4710</td>\n",
       "      <td>128.188</td>\n",
       "    </tr>\n",
       "    <tr>\n",
       "      <th>8</th>\n",
       "      <td>spotify:track:7jUDKdgTo3kMfGIfeQQEMw</td>\n",
       "      <td>You Make Me Feel (Mighty Real) - Soulwax For D...</td>\n",
       "      <td>Sylvester</td>\n",
       "      <td>0.611</td>\n",
       "      <td>0.939</td>\n",
       "      <td>0</td>\n",
       "      <td>-6.426</td>\n",
       "      <td>1</td>\n",
       "      <td>0.0447</td>\n",
       "      <td>0.000589</td>\n",
       "      <td>0.47700</td>\n",
       "      <td>0.3090</td>\n",
       "      <td>0.7630</td>\n",
       "      <td>125.005</td>\n",
       "    </tr>\n",
       "    <tr>\n",
       "      <th>9</th>\n",
       "      <td>spotify:track:3WkibOpDF7cQ5xntM1epyf</td>\n",
       "      <td>It Wasn't Me</td>\n",
       "      <td>Shaggy</td>\n",
       "      <td>0.853</td>\n",
       "      <td>0.606</td>\n",
       "      <td>0</td>\n",
       "      <td>-4.596</td>\n",
       "      <td>1</td>\n",
       "      <td>0.0713</td>\n",
       "      <td>0.056100</td>\n",
       "      <td>0.00000</td>\n",
       "      <td>0.3130</td>\n",
       "      <td>0.6540</td>\n",
       "      <td>94.759</td>\n",
       "    </tr>\n",
       "  </tbody>\n",
       "</table>\n",
       "</div>"
      ],
      "text/plain": [
       "                                     id  \\\n",
       "0  spotify:track:16yjTWzlK1IVHh3kE61lbJ   \n",
       "1  spotify:track:2k53CUO1l6n9IdwYerskQ4   \n",
       "2  spotify:track:6kKXowSTq8uKZhdFPdG9BS   \n",
       "3  spotify:track:144pmLno2ywO6gBAkMjBf7   \n",
       "4  spotify:track:2tTVoJ1A4aPrhzuTxDBd7D   \n",
       "5  spotify:track:0nlZjTPzW6S9JIESuGfImT   \n",
       "6  spotify:track:2v1TDSie6VgdAvXSui0NPY   \n",
       "7  spotify:track:3qOuySPLpVyBXLuTNMgbRj   \n",
       "8  spotify:track:7jUDKdgTo3kMfGIfeQQEMw   \n",
       "9  spotify:track:3WkibOpDF7cQ5xntM1epyf   \n",
       "\n",
       "                                                name           artist  \\\n",
       "0                                            Love Me   Braxe + Falcon   \n",
       "1                                            reprise         Yaya Bey   \n",
       "2                                       black screen  LCD Soundsystem   \n",
       "3                                         Tall Tales         Kennebec   \n",
       "4                                           Lazy Day       Grace Ives   \n",
       "5                                            Lowdown       Boz Scaggs   \n",
       "6                             Sunset - Jamie xx Edit           The xx   \n",
       "7                           On Hold - Jamie xx Remix           The xx   \n",
       "8  You Make Me Feel (Mighty Real) - Soulwax For D...        Sylvester   \n",
       "9                                       It Wasn't Me           Shaggy   \n",
       "\n",
       "   danceability  energy  key  loudness  mode  speechiness  acousticness  \\\n",
       "0         0.771   0.726    2    -7.605     0       0.0905      0.009000   \n",
       "1         0.622   0.427    8    -8.940     1       0.0987      0.620000   \n",
       "2         0.584   0.433    7   -14.590     1       0.0253      0.321000   \n",
       "3         0.492   0.776    1    -9.864     1       0.1630      0.339000   \n",
       "4         0.809   0.536    1    -5.647     1       0.0521      0.088200   \n",
       "5         0.662   0.788   11    -5.544     0       0.0635      0.081200   \n",
       "6         0.885   0.397   11   -11.732     0       0.0901      0.011800   \n",
       "7         0.759   0.909    0    -7.850     0       0.0373      0.301000   \n",
       "8         0.611   0.939    0    -6.426     1       0.0447      0.000589   \n",
       "9         0.853   0.606    0    -4.596     1       0.0713      0.056100   \n",
       "\n",
       "   instrumentalness  liveness  valence    tempo  \n",
       "0           0.00494    0.0751   0.5280  107.993  \n",
       "1           0.39100    0.1110   0.6210   80.047  \n",
       "2           0.92300    0.0912   0.0721  100.010  \n",
       "3           0.00207    0.1320   0.7340   90.990  \n",
       "4           0.05650    0.0469   0.9260   99.994  \n",
       "5           0.14100    0.0351   0.9290  116.499  \n",
       "6           0.41200    0.0996   0.5410  120.010  \n",
       "7           0.84400    0.0998   0.4710  128.188  \n",
       "8           0.47700    0.3090   0.7630  125.005  \n",
       "9           0.00000    0.3130   0.6540   94.759  "
      ]
     },
     "execution_count": 18,
     "metadata": {},
     "output_type": "execute_result"
    }
   ],
   "source": [
    "top_tracks_df = get_top_tracks()\n",
    "mean_df = top_tracks_df.mean(axis=0)\n",
    "top_tracks_df.head(10)\n",
    "\n"
   ]
  },
  {
   "cell_type": "code",
   "execution_count": 30,
   "id": "d7410e31",
   "metadata": {},
   "outputs": [
    {
     "data": {
      "image/png": "[encoded data removed]",
      "text/plain": [
       "<Figure size 720x360 with 1 Axes>"
      ]
     },
     "metadata": {
      "needs_background": "light"
     },
     "output_type": "display_data"
    }
   ],
   "source": [
    "get_wordcloud(top_tracks_df)"
   ]
  },
  {
   "cell_type": "code",
   "execution_count": 21,
   "id": "807d71d4",
   "metadata": {},
   "outputs": [
    {
     "data": {
      "application/vnd.plotly.v1+json": {
       "config": {
        "plotlyServerURL": "https://plot.ly"
       },
       "data": [
        {
         "hovertemplate": "index=%{theta}<br>r=%{r}<extra></extra>",
         "legendgroup": "danceability",
         "marker": {
          "color": "#636EFA",
          "pattern": {
           "shape": ""
          }
         },
         "name": "danceability",
         "r": [
          0.64074
         ],
         "showlegend": true,
         "subplot": "polar",
         "theta": [
          "danceability"
         ],
         "type": "barpolar"
        },
        {
         "hovertemplate": "index=%{theta}<br>r=%{r}<extra></extra>",
         "legendgroup": "energy",
         "marker": {
          "color": "#EF553B",
          "pattern": {
           "shape": ""
          }
         },
         "name": "energy",
         "r": [
          0.6141000000000001
         ],
         "showlegend": true,
         "subplot": "polar",
         "theta": [
          "energy"
         ],
         "type": "barpolar"
        },
        {
         "hovertemplate": "index=%{theta}<br>r=%{r}<extra></extra>",
         "legendgroup": "speechiness",
         "marker": {
          "color": "#00CC96",
          "pattern": {
           "shape": ""
          }
         },
         "name": "speechiness",
         "r": [
          0.073128
         ],
         "showlegend": true,
         "subplot": "polar",
         "theta": [
          "speechiness"
         ],
         "type": "barpolar"
        },
        {
         "hovertemplate": "index=%{theta}<br>r=%{r}<extra></extra>",
         "legendgroup": "instrumentalness",
         "marker": {
          "color": "#AB63FA",
          "pattern": {
           "shape": ""
          }
         },
         "name": "instrumentalness",
         "r": [
          0.30956377520000006
         ],
         "showlegend": true,
         "subplot": "polar",
         "theta": [
          "instrumentalness"
         ],
         "type": "barpolar"
        },
        {
         "hovertemplate": "index=%{theta}<br>r=%{r}<extra></extra>",
         "legendgroup": "liveness",
         "marker": {
          "color": "#FFA15A",
          "pattern": {
           "shape": ""
          }
         },
         "name": "liveness",
         "r": [
          0.12349600000000001
         ],
         "showlegend": true,
         "subplot": "polar",
         "theta": [
          "liveness"
         ],
         "type": "barpolar"
        },
        {
         "hovertemplate": "index=%{theta}<br>r=%{r}<extra></extra>",
         "legendgroup": "valence",
         "marker": {
          "color": "#19D3F3",
          "pattern": {
           "shape": ""
          }
         },
         "name": "valence",
         "r": [
          0.504302
         ],
         "showlegend": true,
         "subplot": "polar",
         "theta": [
          "valence"
         ],
         "type": "barpolar"
        },
        {
         "hovertemplate": "index=%{theta}<br>r=%{r}<extra></extra>",
         "legendgroup": "mode",
         "marker": {
          "color": "#FF6692",
          "pattern": {
           "shape": ""
          }
         },
         "name": "mode",
         "r": [
          0.64
         ],
         "showlegend": true,
         "subplot": "polar",
         "theta": [
          "mode"
         ],
         "type": "barpolar"
        }
       ],
       "layout": {
        "barmode": "relative",
        "legend": {
         "title": {
          "text": "index"
         },
         "tracegroupgap": 0
        },
        "margin": {
         "t": 60
        },
        "polar": {
         "angularaxis": {
          "categoryarray": [
           "danceability",
           "energy",
           "speechiness",
           "instrumentalness",
           "liveness",
           "valence",
           "mode"
          ],
          "categoryorder": "array",
          "direction": "clockwise",
          "rotation": 90
         },
         "domain": {
          "x": [
           0,
           1
          ],
          "y": [
           0,
           1
          ]
         }
        },
        "template": {
         "data": {
          "bar": [
           {
            "error_x": {
             "color": "#f2f5fa"
            },
            "error_y": {
             "color": "#f2f5fa"
            },
            "marker": {
             "line": {
              "color": "rgb(17,17,17)",
              "width": 0.5
             },
             "pattern": {
              "fillmode": "overlay",
              "size": 10,
              "solidity": 0.2
             }
            },
            "type": "bar"
           }
          ],
          "barpolar": [
           {
            "marker": {
             "line": {
              "color": "rgb(17,17,17)",
              "width": 0.5
             },
             "pattern": {
              "fillmode": "overlay",
              "size": 10,
              "solidity": 0.2
             }
            },
            "type": "barpolar"
           }
          ],
          "carpet": [
           {
            "aaxis": {
             "endlinecolor": "#A2B1C6",
             "gridcolor": "#506784",
             "linecolor": "#506784",
             "minorgridcolor": "#506784",
             "startlinecolor": "#A2B1C6"
            },
            "baxis": {
             "endlinecolor": "#A2B1C6",
             "gridcolor": "#506784",
             "linecolor": "#506784",
             "minorgridcolor": "#506784",
             "startlinecolor": "#A2B1C6"
            },
            "type": "carpet"
           }
          ],
          "choropleth": [
           {
            "colorbar": {
             "outlinewidth": 0,
             "ticks": ""
            },
            "type": "choropleth"
           }
          ],
          "contour": [
           {
            "colorbar": {
             "outlinewidth": 0,
             "ticks": ""
            },
            "colorscale": [
             [
              0,
              "#0d0887"
             ],
             [
              0.1111111111111111,
              "#46039f"
             ],
             [
              0.2222222222222222,
              "#7201a8"
             ],
             [
              0.3333333333333333,
              "#9c179e"
             ],
             [
              0.4444444444444444,
              "#bd3786"
             ],
             [
              0.5555555555555556,
              "#d8576b"
             ],
             [
              0.6666666666666666,
              "#ed7953"
             ],
             [
              0.7777777777777778,
              "#fb9f3a"
             ],
             [
              0.8888888888888888,
              "#fdca26"
             ],
             [
              1,
              "#f0f921"
             ]
            ],
            "type": "contour"
           }
          ],
          "contourcarpet": [
           {
            "colorbar": {
             "outlinewidth": 0,
             "ticks": ""
            },
            "type": "contourcarpet"
           }
          ],
          "heatmap": [
           {
            "colorbar": {
             "outlinewidth": 0,
             "ticks": ""
            },
            "colorscale": [
             [
              0,
              "#0d0887"
             ],
             [
              0.1111111111111111,
              "#46039f"
             ],
             [
              0.2222222222222222,
              "#7201a8"
             ],
             [
              0.3333333333333333,
              "#9c179e"
             ],
             [
              0.4444444444444444,
              "#bd3786"
             ],
             [
              0.5555555555555556,
              "#d8576b"
             ],
             [
              0.6666666666666666,
              "#ed7953"
             ],
             [
              0.7777777777777778,
              "#fb9f3a"
             ],
             [
              0.8888888888888888,
              "#fdca26"
             ],
             [
              1,
              "#f0f921"
             ]
            ],
            "type": "heatmap"
           }
          ],
          "heatmapgl": [
           {
            "colorbar": {
             "outlinewidth": 0,
             "ticks": ""
            },
            "colorscale": [
             [
              0,
              "#0d0887"
             ],
             [
              0.1111111111111111,
              "#46039f"
             ],
             [
              0.2222222222222222,
              "#7201a8"
             ],
             [
              0.3333333333333333,
              "#9c179e"
             ],
             [
              0.4444444444444444,
              "#bd3786"
             ],
             [
              0.5555555555555556,
              "#d8576b"
             ],
             [
              0.6666666666666666,
              "#ed7953"
             ],
             [
              0.7777777777777778,
              "#fb9f3a"
             ],
             [
              0.8888888888888888,
              "#fdca26"
             ],
             [
              1,
              "#f0f921"
             ]
            ],
            "type": "heatmapgl"
           }
          ],
          "histogram": [
           {
            "marker": {
             "pattern": {
              "fillmode": "overlay",
              "size": 10,
              "solidity": 0.2
             }
            },
            "type": "histogram"
           }
          ],
          "histogram2d": [
           {
            "colorbar": {
             "outlinewidth": 0,
             "ticks": ""
            },
            "colorscale": [
             [
              0,
              "#0d0887"
             ],
             [
              0.1111111111111111,
              "#46039f"
             ],
             [
              0.2222222222222222,
              "#7201a8"
             ],
             [
              0.3333333333333333,
              "#9c179e"
             ],
             [
              0.4444444444444444,
              "#bd3786"
             ],
             [
              0.5555555555555556,
              "#d8576b"
             ],
             [
              0.6666666666666666,
              "#ed7953"
             ],
             [
              0.7777777777777778,
              "#fb9f3a"
             ],
             [
              0.8888888888888888,
              "#fdca26"
             ],
             [
              1,
              "#f0f921"
             ]
            ],
            "type": "histogram2d"
           }
          ],
          "histogram2dcontour": [
           {
            "colorbar": {
             "outlinewidth": 0,
             "ticks": ""
            },
            "colorscale": [
             [
              0,
              "#0d0887"
             ],
             [
              0.1111111111111111,
              "#46039f"
             ],
             [
              0.2222222222222222,
              "#7201a8"
             ],
             [
              0.3333333333333333,
              "#9c179e"
             ],
             [
              0.4444444444444444,
              "#bd3786"
             ],
             [
              0.5555555555555556,
              "#d8576b"
             ],
             [
              0.6666666666666666,
              "#ed7953"
             ],
             [
              0.7777777777777778,
              "#fb9f3a"
             ],
             [
              0.8888888888888888,
              "#fdca26"
             ],
             [
              1,
              "#f0f921"
             ]
            ],
            "type": "histogram2dcontour"
           }
          ],
          "mesh3d": [
           {
            "colorbar": {
             "outlinewidth": 0,
             "ticks": ""
            },
            "type": "mesh3d"
           }
          ],
          "parcoords": [
           {
            "line": {
             "colorbar": {
              "outlinewidth": 0,
              "ticks": ""
             }
            },
            "type": "parcoords"
           }
          ],
          "pie": [
           {
            "automargin": true,
            "type": "pie"
           }
          ],
          "scatter": [
           {
            "marker": {
             "line": {
              "color": "#283442"
             }
            },
            "type": "scatter"
           }
          ],
          "scatter3d": [
           {
            "line": {
             "colorbar": {
              "outlinewidth": 0,
              "ticks": ""
             }
            },
            "marker": {
             "colorbar": {
              "outlinewidth": 0,
              "ticks": ""
             }
            },
            "type": "scatter3d"
           }
          ],
          "scattercarpet": [
           {
            "marker": {
             "colorbar": {
              "outlinewidth": 0,
              "ticks": ""
             }
            },
            "type": "scattercarpet"
           }
          ],
          "scattergeo": [
           {
            "marker": {
             "colorbar": {
              "outlinewidth": 0,
              "ticks": ""
             }
            },
            "type": "scattergeo"
           }
          ],
          "scattergl": [
           {
            "marker": {
             "line": {
              "color": "#283442"
             }
            },
            "type": "scattergl"
           }
          ],
          "scattermapbox": [
           {
            "marker": {
             "colorbar": {
              "outlinewidth": 0,
              "ticks": ""
             }
            },
            "type": "scattermapbox"
           }
          ],
          "scatterpolar": [
           {
            "marker": {
             "colorbar": {
              "outlinewidth": 0,
              "ticks": ""
             }
            },
            "type": "scatterpolar"
           }
          ],
          "scatterpolargl": [
           {
            "marker": {
             "colorbar": {
              "outlinewidth": 0,
              "ticks": ""
             }
            },
            "type": "scatterpolargl"
           }
          ],
          "scatterternary": [
           {
            "marker": {
             "colorbar": {
              "outlinewidth": 0,
              "ticks": ""
             }
            },
            "type": "scatterternary"
           }
          ],
          "surface": [
           {
            "colorbar": {
             "outlinewidth": 0,
             "ticks": ""
            },
            "colorscale": [
             [
              0,
              "#0d0887"
             ],
             [
              0.1111111111111111,
              "#46039f"
             ],
             [
              0.2222222222222222,
              "#7201a8"
             ],
             [
              0.3333333333333333,
              "#9c179e"
             ],
             [
              0.4444444444444444,
              "#bd3786"
             ],
             [
              0.5555555555555556,
              "#d8576b"
             ],
             [
              0.6666666666666666,
              "#ed7953"
             ],
             [
              0.7777777777777778,
              "#fb9f3a"
             ],
             [
              0.8888888888888888,
              "#fdca26"
             ],
             [
              1,
              "#f0f921"
             ]
            ],
            "type": "surface"
           }
          ],
          "table": [
           {
            "cells": {
             "fill": {
              "color": "#506784"
             },
             "line": {
              "color": "rgb(17,17,17)"
             }
            },
            "header": {
             "fill": {
              "color": "#2a3f5f"
             },
             "line": {
              "color": "rgb(17,17,17)"
             }
            },
            "type": "table"
           }
          ]
         },
         "layout": {
          "annotationdefaults": {
           "arrowcolor": "#f2f5fa",
           "arrowhead": 0,
           "arrowwidth": 1
          },
          "autotypenumbers": "strict",
          "coloraxis": {
           "colorbar": {
            "outlinewidth": 0,
            "ticks": ""
           }
          },
          "colorscale": {
           "diverging": [
            [
             0,
             "#8e0152"
            ],
            [
             0.1,
             "#c51b7d"
            ],
            [
             0.2,
             "#de77ae"
            ],
            [
             0.3,
             "#f1b6da"
            ],
            [
             0.4,
             "#fde0ef"
            ],
            [
             0.5,
             "#f7f7f7"
            ],
            [
             0.6,
             "#e6f5d0"
            ],
            [
             0.7,
             "#b8e186"
            ],
            [
             0.8,
             "#7fbc41"
            ],
            [
             0.9,
             "#4d9221"
            ],
            [
             1,
             "#276419"
            ]
           ],
           "sequential": [
            [
             0,
             "#0d0887"
            ],
            [
             0.1111111111111111,
             "#46039f"
            ],
            [
             0.2222222222222222,
             "#7201a8"
            ],
            [
             0.3333333333333333,
             "#9c179e"
            ],
            [
             0.4444444444444444,
             "#bd3786"
            ],
            [
             0.5555555555555556,
             "#d8576b"
            ],
            [
             0.6666666666666666,
             "#ed7953"
            ],
            [
             0.7777777777777778,
             "#fb9f3a"
            ],
            [
             0.8888888888888888,
             "#fdca26"
            ],
            [
             1,
             "#f0f921"
            ]
           ],
           "sequentialminus": [
            [
             0,
             "#0d0887"
            ],
            [
             0.1111111111111111,
             "#46039f"
            ],
            [
             0.2222222222222222,
             "#7201a8"
            ],
            [
             0.3333333333333333,
             "#9c179e"
            ],
            [
             0.4444444444444444,
             "#bd3786"
            ],
            [
             0.5555555555555556,
             "#d8576b"
            ],
            [
             0.6666666666666666,
             "#ed7953"
            ],
            [
             0.7777777777777778,
             "#fb9f3a"
            ],
            [
             0.8888888888888888,
             "#fdca26"
            ],
            [
             1,
             "#f0f921"
            ]
           ]
          },
          "colorway": [
           "#636efa",
           "#EF553B",
           "#00cc96",
           "#ab63fa",
           "#FFA15A",
           "#19d3f3",
           "#FF6692",
           "#B6E880",
           "#FF97FF",
           "#FECB52"
          ],
          "font": {
           "color": "#f2f5fa"
          },
          "geo": {
           "bgcolor": "rgb(17,17,17)",
           "lakecolor": "rgb(17,17,17)",
           "landcolor": "rgb(17,17,17)",
           "showlakes": true,
           "showland": true,
           "subunitcolor": "#506784"
          },
          "hoverlabel": {
           "align": "left"
          },
          "hovermode": "closest",
          "mapbox": {
           "style": "dark"
          },
          "paper_bgcolor": "rgb(17,17,17)",
          "plot_bgcolor": "rgb(17,17,17)",
          "polar": {
           "angularaxis": {
            "gridcolor": "#506784",
            "linecolor": "#506784",
            "ticks": ""
           },
           "bgcolor": "rgb(17,17,17)",
           "radialaxis": {
            "gridcolor": "#506784",
            "linecolor": "#506784",
            "ticks": ""
           }
          },
          "scene": {
           "xaxis": {
            "backgroundcolor": "rgb(17,17,17)",
            "gridcolor": "#506784",
            "gridwidth": 2,
            "linecolor": "#506784",
            "showbackground": true,
            "ticks": "",
            "zerolinecolor": "#C8D4E3"
           },
           "yaxis": {
            "backgroundcolor": "rgb(17,17,17)",
            "gridcolor": "#506784",
            "gridwidth": 2,
            "linecolor": "#506784",
            "showbackground": true,
            "ticks": "",
            "zerolinecolor": "#C8D4E3"
           },
           "zaxis": {
            "backgroundcolor": "rgb(17,17,17)",
            "gridcolor": "#506784",
            "gridwidth": 2,
            "linecolor": "#506784",
            "showbackground": true,
            "ticks": "",
            "zerolinecolor": "#C8D4E3"
           }
          },
          "shapedefaults": {
           "line": {
            "color": "#f2f5fa"
           }
          },
          "sliderdefaults": {
           "bgcolor": "#C8D4E3",
           "bordercolor": "rgb(17,17,17)",
           "borderwidth": 1,
           "tickwidth": 0
          },
          "ternary": {
           "aaxis": {
            "gridcolor": "#506784",
            "linecolor": "#506784",
            "ticks": ""
           },
           "baxis": {
            "gridcolor": "#506784",
            "linecolor": "#506784",
            "ticks": ""
           },
           "bgcolor": "rgb(17,17,17)",
           "caxis": {
            "gridcolor": "#506784",
            "linecolor": "#506784",
            "ticks": ""
           }
          },
          "title": {
           "x": 0.05
          },
          "updatemenudefaults": {
           "bgcolor": "#506784",
           "borderwidth": 0
          },
          "xaxis": {
           "automargin": true,
           "gridcolor": "#283442",
           "linecolor": "#506784",
           "ticks": "",
           "title": {
            "standoff": 15
           },
           "zerolinecolor": "#283442",
           "zerolinewidth": 2
          },
          "yaxis": {
           "automargin": true,
           "gridcolor": "#283442",
           "linecolor": "#506784",
           "ticks": "",
           "title": {
            "standoff": 15
           },
           "zerolinecolor": "#283442",
           "zerolinewidth": 2
          }
         }
        }
       }
      }
     },
     "metadata": {},
     "output_type": "display_data"
    }
   ],
   "source": [
    "\n",
    "radar_df = mean_df.filter(items=['danceability','energy','speechiness','acoustincess','instrumentalness','liveness','valence','mode',])\n",
    "fig = px.bar_polar(radar_df, r=radar_df.values, theta=radar_df.index, \n",
    "                    range_r = [], color=radar_df.index,\n",
    "                    color_discrete_sequence=px.colors.qualitative.Plotly,\n",
    "                    template='plotly_dark')\n",
    "\n",
    "fig.show()"
   ]
  },
  {
   "cell_type": "code",
   "execution_count": 22,
   "id": "28687540",
   "metadata": {},
   "outputs": [],
   "source": [
    "X = np.array(top_tracks_df.drop(['id','name','artist'], axis=1))"
   ]
  },
  {
   "cell_type": "code",
   "execution_count": 23,
   "id": "528b5029",
   "metadata": {},
   "outputs": [
    {
     "data": {
      "application/vnd.plotly.v1+json": {
       "config": {
        "plotlyServerURL": "https://plot.ly"
       },
       "data": [
        {
         "hovertemplate": "# of Clusters=%{x}<br>WCSS=%{y}<extra></extra>",
         "legendgroup": "",
         "line": {
          "color": "#636efa",
          "dash": "solid"
         },
         "marker": {
          "symbol": "circle"
         },
         "mode": "lines",
         "name": "",
         "orientation": "v",
         "showlegend": false,
         "type": "scatter",
         "x": [
          1,
          2,
          3,
          4,
          5,
          6,
          7,
          8,
          9,
          10
         ],
         "xaxis": "x",
         "y": [
          32204.3670072464,
          13703.343540923266,
          5792.298586995765,
          3643.6270114704807,
          2682.3083855996174,
          2092.422323053026,
          1690.059336218065,
          1376.7799816345962,
          1234.5727464535667,
          1082.6809572612265
         ],
         "yaxis": "y"
        }
       ],
       "layout": {
        "legend": {
         "tracegroupgap": 0
        },
        "template": {
         "data": {
          "bar": [
           {
            "error_x": {
             "color": "#f2f5fa"
            },
            "error_y": {
             "color": "#f2f5fa"
            },
            "marker": {
             "line": {
              "color": "rgb(17,17,17)",
              "width": 0.5
             },
             "pattern": {
              "fillmode": "overlay",
              "size": 10,
              "solidity": 0.2
             }
            },
            "type": "bar"
           }
          ],
          "barpolar": [
           {
            "marker": {
             "line": {
              "color": "rgb(17,17,17)",
              "width": 0.5
             },
             "pattern": {
              "fillmode": "overlay",
              "size": 10,
              "solidity": 0.2
             }
            },
            "type": "barpolar"
           }
          ],
          "carpet": [
           {
            "aaxis": {
             "endlinecolor": "#A2B1C6",
             "gridcolor": "#506784",
             "linecolor": "#506784",
             "minorgridcolor": "#506784",
             "startlinecolor": "#A2B1C6"
            },
            "baxis": {
             "endlinecolor": "#A2B1C6",
             "gridcolor": "#506784",
             "linecolor": "#506784",
             "minorgridcolor": "#506784",
             "startlinecolor": "#A2B1C6"
            },
            "type": "carpet"
           }
          ],
          "choropleth": [
           {
            "colorbar": {
             "outlinewidth": 0,
             "ticks": ""
            },
            "type": "choropleth"
           }
          ],
          "contour": [
           {
            "colorbar": {
             "outlinewidth": 0,
             "ticks": ""
            },
            "colorscale": [
             [
              0,
              "#0d0887"
             ],
             [
              0.1111111111111111,
              "#46039f"
             ],
             [
              0.2222222222222222,
              "#7201a8"
             ],
             [
              0.3333333333333333,
              "#9c179e"
             ],
             [
              0.4444444444444444,
              "#bd3786"
             ],
             [
              0.5555555555555556,
              "#d8576b"
             ],
             [
              0.6666666666666666,
              "#ed7953"
             ],
             [
              0.7777777777777778,
              "#fb9f3a"
             ],
             [
              0.8888888888888888,
              "#fdca26"
             ],
             [
              1,
              "#f0f921"
             ]
            ],
            "type": "contour"
           }
          ],
          "contourcarpet": [
           {
            "colorbar": {
             "outlinewidth": 0,
             "ticks": ""
            },
            "type": "contourcarpet"
           }
          ],
          "heatmap": [
           {
            "colorbar": {
             "outlinewidth": 0,
             "ticks": ""
            },
            "colorscale": [
             [
              0,
              "#0d0887"
             ],
             [
              0.1111111111111111,
              "#46039f"
             ],
             [
              0.2222222222222222,
              "#7201a8"
             ],
             [
              0.3333333333333333,
              "#9c179e"
             ],
             [
              0.4444444444444444,
              "#bd3786"
             ],
             [
              0.5555555555555556,
              "#d8576b"
             ],
             [
              0.6666666666666666,
              "#ed7953"
             ],
             [
              0.7777777777777778,
              "#fb9f3a"
             ],
             [
              0.8888888888888888,
              "#fdca26"
             ],
             [
              1,
              "#f0f921"
             ]
            ],
            "type": "heatmap"
           }
          ],
          "heatmapgl": [
           {
            "colorbar": {
             "outlinewidth": 0,
             "ticks": ""
            },
            "colorscale": [
             [
              0,
              "#0d0887"
             ],
             [
              0.1111111111111111,
              "#46039f"
             ],
             [
              0.2222222222222222,
              "#7201a8"
             ],
             [
              0.3333333333333333,
              "#9c179e"
             ],
             [
              0.4444444444444444,
              "#bd3786"
             ],
             [
              0.5555555555555556,
              "#d8576b"
             ],
             [
              0.6666666666666666,
              "#ed7953"
             ],
             [
              0.7777777777777778,
              "#fb9f3a"
             ],
             [
              0.8888888888888888,
              "#fdca26"
             ],
             [
              1,
              "#f0f921"
             ]
            ],
            "type": "heatmapgl"
           }
          ],
          "histogram": [
           {
            "marker": {
             "pattern": {
              "fillmode": "overlay",
              "size": 10,
              "solidity": 0.2
             }
            },
            "type": "histogram"
           }
          ],
          "histogram2d": [
           {
            "colorbar": {
             "outlinewidth": 0,
             "ticks": ""
            },
            "colorscale": [
             [
              0,
              "#0d0887"
             ],
             [
              0.1111111111111111,
              "#46039f"
             ],
             [
              0.2222222222222222,
              "#7201a8"
             ],
             [
              0.3333333333333333,
              "#9c179e"
             ],
             [
              0.4444444444444444,
              "#bd3786"
             ],
             [
              0.5555555555555556,
              "#d8576b"
             ],
             [
              0.6666666666666666,
              "#ed7953"
             ],
             [
              0.7777777777777778,
              "#fb9f3a"
             ],
             [
              0.8888888888888888,
              "#fdca26"
             ],
             [
              1,
              "#f0f921"
             ]
            ],
            "type": "histogram2d"
           }
          ],
          "histogram2dcontour": [
           {
            "colorbar": {
             "outlinewidth": 0,
             "ticks": ""
            },
            "colorscale": [
             [
              0,
              "#0d0887"
             ],
             [
              0.1111111111111111,
              "#46039f"
             ],
             [
              0.2222222222222222,
              "#7201a8"
             ],
             [
              0.3333333333333333,
              "#9c179e"
             ],
             [
              0.4444444444444444,
              "#bd3786"
             ],
             [
              0.5555555555555556,
              "#d8576b"
             ],
             [
              0.6666666666666666,
              "#ed7953"
             ],
             [
              0.7777777777777778,
              "#fb9f3a"
             ],
             [
              0.8888888888888888,
              "#fdca26"
             ],
             [
              1,
              "#f0f921"
             ]
            ],
            "type": "histogram2dcontour"
           }
          ],
          "mesh3d": [
           {
            "colorbar": {
             "outlinewidth": 0,
             "ticks": ""
            },
            "type": "mesh3d"
           }
          ],
          "parcoords": [
           {
            "line": {
             "colorbar": {
              "outlinewidth": 0,
              "ticks": ""
             }
            },
            "type": "parcoords"
           }
          ],
          "pie": [
           {
            "automargin": true,
            "type": "pie"
           }
          ],
          "scatter": [
           {
            "marker": {
             "line": {
              "color": "#283442"
             }
            },
            "type": "scatter"
           }
          ],
          "scatter3d": [
           {
            "line": {
             "colorbar": {
              "outlinewidth": 0,
              "ticks": ""
             }
            },
            "marker": {
             "colorbar": {
              "outlinewidth": 0,
              "ticks": ""
             }
            },
            "type": "scatter3d"
           }
          ],
          "scattercarpet": [
           {
            "marker": {
             "colorbar": {
              "outlinewidth": 0,
              "ticks": ""
             }
            },
            "type": "scattercarpet"
           }
          ],
          "scattergeo": [
           {
            "marker": {
             "colorbar": {
              "outlinewidth": 0,
              "ticks": ""
             }
            },
            "type": "scattergeo"
           }
          ],
          "scattergl": [
           {
            "marker": {
             "line": {
              "color": "#283442"
             }
            },
            "type": "scattergl"
           }
          ],
          "scattermapbox": [
           {
            "marker": {
             "colorbar": {
              "outlinewidth": 0,
              "ticks": ""
             }
            },
            "type": "scattermapbox"
           }
          ],
          "scatterpolar": [
           {
            "marker": {
             "colorbar": {
              "outlinewidth": 0,
              "ticks": ""
             }
            },
            "type": "scatterpolar"
           }
          ],
          "scatterpolargl": [
           {
            "marker": {
             "colorbar": {
              "outlinewidth": 0,
              "ticks": ""
             }
            },
            "type": "scatterpolargl"
           }
          ],
          "scatterternary": [
           {
            "marker": {
             "colorbar": {
              "outlinewidth": 0,
              "ticks": ""
             }
            },
            "type": "scatterternary"
           }
          ],
          "surface": [
           {
            "colorbar": {
             "outlinewidth": 0,
             "ticks": ""
            },
            "colorscale": [
             [
              0,
              "#0d0887"
             ],
             [
              0.1111111111111111,
              "#46039f"
             ],
             [
              0.2222222222222222,
              "#7201a8"
             ],
             [
              0.3333333333333333,
              "#9c179e"
             ],
             [
              0.4444444444444444,
              "#bd3786"
             ],
             [
              0.5555555555555556,
              "#d8576b"
             ],
             [
              0.6666666666666666,
              "#ed7953"
             ],
             [
              0.7777777777777778,
              "#fb9f3a"
             ],
             [
              0.8888888888888888,
              "#fdca26"
             ],
             [
              1,
              "#f0f921"
             ]
            ],
            "type": "surface"
           }
          ],
          "table": [
           {
            "cells": {
             "fill": {
              "color": "#506784"
             },
             "line": {
              "color": "rgb(17,17,17)"
             }
            },
            "header": {
             "fill": {
              "color": "#2a3f5f"
             },
             "line": {
              "color": "rgb(17,17,17)"
             }
            },
            "type": "table"
           }
          ]
         },
         "layout": {
          "annotationdefaults": {
           "arrowcolor": "#f2f5fa",
           "arrowhead": 0,
           "arrowwidth": 1
          },
          "autotypenumbers": "strict",
          "coloraxis": {
           "colorbar": {
            "outlinewidth": 0,
            "ticks": ""
           }
          },
          "colorscale": {
           "diverging": [
            [
             0,
             "#8e0152"
            ],
            [
             0.1,
             "#c51b7d"
            ],
            [
             0.2,
             "#de77ae"
            ],
            [
             0.3,
             "#f1b6da"
            ],
            [
             0.4,
             "#fde0ef"
            ],
            [
             0.5,
             "#f7f7f7"
            ],
            [
             0.6,
             "#e6f5d0"
            ],
            [
             0.7,
             "#b8e186"
            ],
            [
             0.8,
             "#7fbc41"
            ],
            [
             0.9,
             "#4d9221"
            ],
            [
             1,
             "#276419"
            ]
           ],
           "sequential": [
            [
             0,
             "#0d0887"
            ],
            [
             0.1111111111111111,
             "#46039f"
            ],
            [
             0.2222222222222222,
             "#7201a8"
            ],
            [
             0.3333333333333333,
             "#9c179e"
            ],
            [
             0.4444444444444444,
             "#bd3786"
            ],
            [
             0.5555555555555556,
             "#d8576b"
            ],
            [
             0.6666666666666666,
             "#ed7953"
            ],
            [
             0.7777777777777778,
             "#fb9f3a"
            ],
            [
             0.8888888888888888,
             "#fdca26"
            ],
            [
             1,
             "#f0f921"
            ]
           ],
           "sequentialminus": [
            [
             0,
             "#0d0887"
            ],
            [
             0.1111111111111111,
             "#46039f"
            ],
            [
             0.2222222222222222,
             "#7201a8"
            ],
            [
             0.3333333333333333,
             "#9c179e"
            ],
            [
             0.4444444444444444,
             "#bd3786"
            ],
            [
             0.5555555555555556,
             "#d8576b"
            ],
            [
             0.6666666666666666,
             "#ed7953"
            ],
            [
             0.7777777777777778,
             "#fb9f3a"
            ],
            [
             0.8888888888888888,
             "#fdca26"
            ],
            [
             1,
             "#f0f921"
            ]
           ]
          },
          "colorway": [
           "#636efa",
           "#EF553B",
           "#00cc96",
           "#ab63fa",
           "#FFA15A",
           "#19d3f3",
           "#FF6692",
           "#B6E880",
           "#FF97FF",
           "#FECB52"
          ],
          "font": {
           "color": "#f2f5fa"
          },
          "geo": {
           "bgcolor": "rgb(17,17,17)",
           "lakecolor": "rgb(17,17,17)",
           "landcolor": "rgb(17,17,17)",
           "showlakes": true,
           "showland": true,
           "subunitcolor": "#506784"
          },
          "hoverlabel": {
           "align": "left"
          },
          "hovermode": "closest",
          "mapbox": {
           "style": "dark"
          },
          "paper_bgcolor": "rgb(17,17,17)",
          "plot_bgcolor": "rgb(17,17,17)",
          "polar": {
           "angularaxis": {
            "gridcolor": "#506784",
            "linecolor": "#506784",
            "ticks": ""
           },
           "bgcolor": "rgb(17,17,17)",
           "radialaxis": {
            "gridcolor": "#506784",
            "linecolor": "#506784",
            "ticks": ""
           }
          },
          "scene": {
           "xaxis": {
            "backgroundcolor": "rgb(17,17,17)",
            "gridcolor": "#506784",
            "gridwidth": 2,
            "linecolor": "#506784",
            "showbackground": true,
            "ticks": "",
            "zerolinecolor": "#C8D4E3"
           },
           "yaxis": {
            "backgroundcolor": "rgb(17,17,17)",
            "gridcolor": "#506784",
            "gridwidth": 2,
            "linecolor": "#506784",
            "showbackground": true,
            "ticks": "",
            "zerolinecolor": "#C8D4E3"
           },
           "zaxis": {
            "backgroundcolor": "rgb(17,17,17)",
            "gridcolor": "#506784",
            "gridwidth": 2,
            "linecolor": "#506784",
            "showbackground": true,
            "ticks": "",
            "zerolinecolor": "#C8D4E3"
           }
          },
          "shapedefaults": {
           "line": {
            "color": "#f2f5fa"
           }
          },
          "sliderdefaults": {
           "bgcolor": "#C8D4E3",
           "bordercolor": "rgb(17,17,17)",
           "borderwidth": 1,
           "tickwidth": 0
          },
          "ternary": {
           "aaxis": {
            "gridcolor": "#506784",
            "linecolor": "#506784",
            "ticks": ""
           },
           "baxis": {
            "gridcolor": "#506784",
            "linecolor": "#506784",
            "ticks": ""
           },
           "bgcolor": "rgb(17,17,17)",
           "caxis": {
            "gridcolor": "#506784",
            "linecolor": "#506784",
            "ticks": ""
           }
          },
          "title": {
           "x": 0.05
          },
          "updatemenudefaults": {
           "bgcolor": "#506784",
           "borderwidth": 0
          },
          "xaxis": {
           "automargin": true,
           "gridcolor": "#283442",
           "linecolor": "#506784",
           "ticks": "",
           "title": {
            "standoff": 15
           },
           "zerolinecolor": "#283442",
           "zerolinewidth": 2
          },
          "yaxis": {
           "automargin": true,
           "gridcolor": "#283442",
           "linecolor": "#506784",
           "ticks": "",
           "title": {
            "standoff": 15
           },
           "zerolinecolor": "#283442",
           "zerolinewidth": 2
          }
         }
        },
        "title": {
         "text": "Elbow Method"
        },
        "xaxis": {
         "anchor": "y",
         "domain": [
          0,
          1
         ],
         "title": {
          "text": "# of Clusters"
         }
        },
        "yaxis": {
         "anchor": "x",
         "domain": [
          0,
          1
         ],
         "title": {
          "text": "WCSS"
         }
        }
       }
      }
     },
     "metadata": {},
     "output_type": "display_data"
    }
   ],
   "source": [
    "wcss = []\n",
    "for i in range(1, 11):\n",
    "    kmeans = KMeans(n_clusters=i, init='k-means++', max_iter=300, n_init=10, random_state=0)\n",
    "    kmeans.fit(X)\n",
    "    wcss.append(kmeans.inertia_)\n",
    "df = pd.DataFrame(zip(range(1,11),wcss),columns=['# of Clusters','WCSS'])\n",
    "fig = px.line(df, x='# of Clusters',y='WCSS', title='Elbow Method',template='plotly_dark')\n",
    "fig.show()"
   ]
  },
  {
   "cell_type": "code",
   "execution_count": 24,
   "id": "99465000",
   "metadata": {},
   "outputs": [],
   "source": [
    "kmeans = KMeans(n_clusters=4, random_state=42)\n",
    "top_tracks_df['cluster'] = kmeans.fit_predict(X)\n",
    "X_proj = TSNE(n_components=2, learning_rate='auto',\n",
    "                  init='random', random_state=42).fit_transform(X)\n",
    "\n",
    "top_tracks_df['X'] = [item[0] for item in X_proj]\n",
    "top_tracks_df['Y'] = [item[1] for item in X_proj]\n",
    "\n"
   ]
  },
  {
   "cell_type": "code",
   "execution_count": 25,
   "id": "a014b5da",
   "metadata": {},
   "outputs": [
    {
     "data": {
      "application/vnd.plotly.v1+json": {
       "config": {
        "plotlyServerURL": "https://plot.ly"
       },
       "data": [
        {
         "customdata": [
          [
           0,
           0.771,
           "0"
          ],
          [
           0,
           0.584,
           "0"
          ],
          [
           0,
           0.809,
           "0"
          ],
          [
           0,
           0.853,
           "0"
          ],
          [
           0,
           0.8,
           "0"
          ],
          [
           0,
           0.721,
           "0"
          ],
          [
           0,
           0.885,
           "0"
          ],
          [
           0,
           0.53,
           "0"
          ],
          [
           0,
           0.766,
           "0"
          ],
          [
           0,
           0.646,
           "0"
          ],
          [
           0,
           0.416,
           "0"
          ],
          [
           0,
           0.777,
           "0"
          ],
          [
           0,
           0.766,
           "0"
          ],
          [
           0,
           0.677,
           "0"
          ],
          [
           0,
           0.525,
           "0"
          ]
         ],
         "hovertemplate": "<b>%{hovertext}</b><br><br><extra></extra>",
         "hovertext": [
          "Love Me - Braxe + Falcon",
          "black screen - LCD Soundsystem",
          "Lazy Day - Grace Ives",
          "It Wasn't Me - Shaggy",
          "Creative Source - Braxe + Falcon",
          "Elevation - Braxe + Falcon",
          "Excursions - A Tribe Called Quest",
          "For One Moment Only - Dieter Reith",
          "Home Maker - Sudan Archives",
          "Something Stupid (From \"Better Call Saul\") - Lola Marsh",
          "Spitting Off the Edge of the World - Yeah Yeah Yeahs",
          "Purple Hat - Sofi Tukker",
          "Home Maker - Sudan Archives",
          "Selfish Soul - Sudan Archives",
          "Bron-Y-Aur Stomp - Remaster - Led Zeppelin"
         ],
         "legendgroup": "0",
         "marker": {
          "color": "#636EFA",
          "size": [
           0.771,
           0.584,
           0.809,
           0.853,
           0.8,
           0.721,
           0.885,
           0.53,
           0.766,
           0.646,
           0.416,
           0.777,
           0.766,
           0.677,
           0.525
          ],
          "sizemode": "area",
          "sizeref": 0.002385,
          "symbol": "circle"
         },
         "mode": "markers",
         "name": "0",
         "orientation": "v",
         "showlegend": true,
         "type": "scatter",
         "x": [
          -0.9372689127922058,
          -0.5636112093925476,
          -1.0683188438415527,
          -1.2129424810409546,
          -1.1028839349746704,
          -0.921515941619873,
          -0.4460906982421875,
          -0.9686257243156433,
          -0.915880560874939,
          -0.8598671555519104,
          -0.9340906739234924,
          -0.556020200252533,
          -0.9165449738502502,
          -1.0835940837860107,
          -0.6410160660743713
         ],
         "xaxis": "x",
         "y": [
          2.9123878479003906,
          3.805246353149414,
          3.7627692222595215,
          4.277005672454834,
          3.4718968868255615,
          4.0452470779418945,
          4.265374183654785,
          4.165019512176514,
          3.0461831092834473,
          3.3662424087524414,
          2.6947379112243652,
          4.400609016418457,
          3.046217679977417,
          2.9657535552978516,
          2.894601583480835
         ],
         "yaxis": "y"
        },
        {
         "customdata": [
          [
           2,
           0.622,
           "2"
          ],
          [
           2,
           0.492,
           "2"
          ],
          [
           2,
           0.747,
           "2"
          ],
          [
           2,
           0.536,
           "2"
          ],
          [
           2,
           0.383,
           "2"
          ],
          [
           2,
           0.668,
           "2"
          ],
          [
           2,
           0.331,
           "2"
          ],
          [
           2,
           0.483,
           "2"
          ],
          [
           2,
           0.66,
           "2"
          ],
          [
           2,
           0.389,
           "2"
          ],
          [
           2,
           0.217,
           "2"
          ]
         ],
         "hovertemplate": "<b>%{hovertext}</b><br><br><extra></extra>",
         "hovertext": [
          "reprise - Yaya Bey",
          "Tall Tales - Kennebec",
          "Shy Wind - Maxwell Hunter",
          "Coney Island Baby - Lou Reed",
          "Step By Step - Bonus Beat - Braxe + Falcon",
          "Year of Love - Jenny Hval",
          "Magic Beanz - Atoms For Peace",
          "Kashmir - Remaster - Led Zeppelin",
          "Odissi, Pt. 2 (Émotif) [Yuksek Remix] - Chassol",
          "Roll Some Mo - Lucky Daye",
          "Air - SAULT"
         ],
         "legendgroup": "2",
         "marker": {
          "color": "#EF553B",
          "size": [
           0.622,
           0.492,
           0.747,
           0.536,
           0.383,
           0.668,
           0.331,
           0.483,
           0.66,
           0.389,
           0.217
          ],
          "sizemode": "area",
          "sizeref": 0.002385,
          "symbol": "circle"
         },
         "mode": "markers",
         "name": "2",
         "orientation": "v",
         "showlegend": true,
         "type": "scatter",
         "x": [
          -0.6866884827613831,
          -1.1024643182754517,
          -0.6730400919914246,
          -1.1431949138641357,
          -0.971164882183075,
          -0.6600763201713562,
          -0.47452330589294434,
          -1.0642033815383911,
          -0.857999861240387,
          -0.6879527568817139,
          -1.0328094959259033
         ],
         "xaxis": "x",
         "y": [
          5.322063446044922,
          4.589679718017578,
          5.155089378356934,
          5.27042818069458,
          5.019248962402344,
          4.537345886230469,
          4.908201694488525,
          5.2635650634765625,
          4.6865715980529785,
          5.557108402252197,
          5.677267074584961
         ],
         "yaxis": "y"
        },
        {
         "customdata": [
          [
           1,
           0.662,
           "1"
          ],
          [
           1,
           0.885,
           "1"
          ],
          [
           1,
           0.759,
           "1"
          ],
          [
           1,
           0.611,
           "1"
          ],
          [
           1,
           0.724,
           "1"
          ],
          [
           1,
           0.629,
           "1"
          ],
          [
           1,
           0.394,
           "1"
          ],
          [
           1,
           0.65,
           "1"
          ],
          [
           1,
           0.692,
           "1"
          ],
          [
           1,
           0.844,
           "1"
          ],
          [
           1,
           0.433,
           "1"
          ],
          [
           1,
           0.79,
           "1"
          ],
          [
           1,
           0.821,
           "1"
          ],
          [
           1,
           0.865,
           "1"
          ],
          [
           1,
           0.619,
           "1"
          ],
          [
           1,
           0.551,
           "1"
          ],
          [
           1,
           0.591,
           "1"
          ],
          [
           1,
           0.954,
           "1"
          ],
          [
           1,
           0.61,
           "1"
          ],
          [
           1,
           0.768,
           "1"
          ]
         ],
         "hovertemplate": "<b>%{hovertext}</b><br><br><extra></extra>",
         "hovertext": [
          "Lowdown - Boz Scaggs",
          "Sunset - Jamie xx Edit - The xx",
          "On Hold - Jamie xx Remix - The xx",
          "You Make Me Feel (Mighty Real) - Soulwax For Despacio Remix - Sylvester",
          "Isn't It Lovely - Grace Ives",
          "You Make Me Feel (Mighty Real) - Sylvester",
          "American Coffee - Jenny Hval",
          "Garde Le Pour Toi - Paradis",
          "Too Long - Daft Punk",
          "NEW DORP. NEW YORK - SBTRKT",
          "Blackstar / Pyramid Song / Breathing Underwater (feat. Amadou Suso) - Nai Palm",
          "Lullaby - Grace Ives",
          "Discoteca - Exchpoptrue",
          "Get Down Saturday Night - Oliver Cheatham",
          "Superheroes - Daft Punk",
          "Silent Chord - Soichi Terada",
          "Time Moves Slow - BADBADNOTGOOD",
          "Shelly - Grace Ives",
          "A Paw In My Face - The Field",
          "Back In LA - Grace Ives"
         ],
         "legendgroup": "1",
         "marker": {
          "color": "#00CC96",
          "size": [
           0.662,
           0.885,
           0.759,
           0.611,
           0.724,
           0.629,
           0.394,
           0.65,
           0.692,
           0.844,
           0.433,
           0.79,
           0.821,
           0.865,
           0.619,
           0.551,
           0.591,
           0.954,
           0.61,
           0.768
          ],
          "sizemode": "area",
          "sizeref": 0.002385,
          "symbol": "circle"
         },
         "mode": "markers",
         "name": "1",
         "orientation": "v",
         "showlegend": true,
         "type": "scatter",
         "x": [
          -1.3567421436309814,
          -1.3819693326950073,
          -0.5931498408317566,
          -0.5576937198638916,
          -1.3410929441452026,
          -0.9321621656417847,
          -0.7687200307846069,
          -1.0672087669372559,
          -0.9156148433685303,
          -0.5704823732376099,
          -1.3434433937072754,
          -0.9866749048233032,
          -1.163783311843872,
          -1.3675625324249268,
          -1.0924967527389526,
          -1.2978761196136475,
          -1.1081182956695557,
          -0.9535163044929504,
          -0.589033842086792,
          -1.2658523321151733
         ],
         "xaxis": "x",
         "y": [
          1.8998839855194092,
          1.5038681030273438,
          0.9388604164123535,
          1.1953787803649902,
          2.133408308029175,
          0.7520644068717957,
          2.182891607284546,
          1.8899261951446533,
          1.0103785991668701,
          1.7441574335098267,
          1.3785860538482666,
          1.6035996675491333,
          1.5551578998565674,
          1.852663278579712,
          0.21579071879386902,
          1.21182382106781,
          0.2497308850288391,
          0.5448795557022095,
          0.862667441368103,
          0.6509073376655579
         ],
         "yaxis": "y"
        },
        {
         "customdata": [
          [
           3,
           0.436,
           "3"
          ],
          [
           3,
           0.632,
           "3"
          ],
          [
           3,
           0.536,
           "3"
          ],
          [
           3,
           0.527,
           "3"
          ]
         ],
         "hovertemplate": "<b>%{hovertext}</b><br><br><extra></extra>",
         "hovertext": [
          "Satellites - Ravyn Lenae",
          "Norton Commander (Album V) - Men I Trust",
          "Nangs - Tame Impala",
          "Unbearably White - Vampire Weekend"
         ],
         "legendgroup": "3",
         "marker": {
          "color": "#AB63FA",
          "size": [
           0.436,
           0.632,
           0.536,
           0.527
          ],
          "sizemode": "area",
          "sizeref": 0.002385,
          "symbol": "circle"
         },
         "mode": "markers",
         "name": "3",
         "orientation": "v",
         "showlegend": true,
         "type": "scatter",
         "x": [
          -0.7875493764877319,
          -0.7936001420021057,
          -0.7863876819610596,
          -0.7509143948554993
         ],
         "xaxis": "x",
         "y": [
          -0.5798464417457581,
          -0.5534578561782837,
          -0.573512077331543,
          -0.6916967034339905
         ],
         "yaxis": "y"
        }
       ],
       "layout": {
        "legend": {
         "itemsizing": "constant",
         "title": {
          "text": "cluster_str"
         },
         "tracegroupgap": 0
        },
        "margin": {
         "t": 60
        },
        "showlegend": false,
        "template": {
         "data": {
          "bar": [
           {
            "error_x": {
             "color": "#f2f5fa"
            },
            "error_y": {
             "color": "#f2f5fa"
            },
            "marker": {
             "line": {
              "color": "rgb(17,17,17)",
              "width": 0.5
             },
             "pattern": {
              "fillmode": "overlay",
              "size": 10,
              "solidity": 0.2
             }
            },
            "type": "bar"
           }
          ],
          "barpolar": [
           {
            "marker": {
             "line": {
              "color": "rgb(17,17,17)",
              "width": 0.5
             },
             "pattern": {
              "fillmode": "overlay",
              "size": 10,
              "solidity": 0.2
             }
            },
            "type": "barpolar"
           }
          ],
          "carpet": [
           {
            "aaxis": {
             "endlinecolor": "#A2B1C6",
             "gridcolor": "#506784",
             "linecolor": "#506784",
             "minorgridcolor": "#506784",
             "startlinecolor": "#A2B1C6"
            },
            "baxis": {
             "endlinecolor": "#A2B1C6",
             "gridcolor": "#506784",
             "linecolor": "#506784",
             "minorgridcolor": "#506784",
             "startlinecolor": "#A2B1C6"
            },
            "type": "carpet"
           }
          ],
          "choropleth": [
           {
            "colorbar": {
             "outlinewidth": 0,
             "ticks": ""
            },
            "type": "choropleth"
           }
          ],
          "contour": [
           {
            "colorbar": {
             "outlinewidth": 0,
             "ticks": ""
            },
            "colorscale": [
             [
              0,
              "#0d0887"
             ],
             [
              0.1111111111111111,
              "#46039f"
             ],
             [
              0.2222222222222222,
              "#7201a8"
             ],
             [
              0.3333333333333333,
              "#9c179e"
             ],
             [
              0.4444444444444444,
              "#bd3786"
             ],
             [
              0.5555555555555556,
              "#d8576b"
             ],
             [
              0.6666666666666666,
              "#ed7953"
             ],
             [
              0.7777777777777778,
              "#fb9f3a"
             ],
             [
              0.8888888888888888,
              "#fdca26"
             ],
             [
              1,
              "#f0f921"
             ]
            ],
            "type": "contour"
           }
          ],
          "contourcarpet": [
           {
            "colorbar": {
             "outlinewidth": 0,
             "ticks": ""
            },
            "type": "contourcarpet"
           }
          ],
          "heatmap": [
           {
            "colorbar": {
             "outlinewidth": 0,
             "ticks": ""
            },
            "colorscale": [
             [
              0,
              "#0d0887"
             ],
             [
              0.1111111111111111,
              "#46039f"
             ],
             [
              0.2222222222222222,
              "#7201a8"
             ],
             [
              0.3333333333333333,
              "#9c179e"
             ],
             [
              0.4444444444444444,
              "#bd3786"
             ],
             [
              0.5555555555555556,
              "#d8576b"
             ],
             [
              0.6666666666666666,
              "#ed7953"
             ],
             [
              0.7777777777777778,
              "#fb9f3a"
             ],
             [
              0.8888888888888888,
              "#fdca26"
             ],
             [
              1,
              "#f0f921"
             ]
            ],
            "type": "heatmap"
           }
          ],
          "heatmapgl": [
           {
            "colorbar": {
             "outlinewidth": 0,
             "ticks": ""
            },
            "colorscale": [
             [
              0,
              "#0d0887"
             ],
             [
              0.1111111111111111,
              "#46039f"
             ],
             [
              0.2222222222222222,
              "#7201a8"
             ],
             [
              0.3333333333333333,
              "#9c179e"
             ],
             [
              0.4444444444444444,
              "#bd3786"
             ],
             [
              0.5555555555555556,
              "#d8576b"
             ],
             [
              0.6666666666666666,
              "#ed7953"
             ],
             [
              0.7777777777777778,
              "#fb9f3a"
             ],
             [
              0.8888888888888888,
              "#fdca26"
             ],
             [
              1,
              "#f0f921"
             ]
            ],
            "type": "heatmapgl"
           }
          ],
          "histogram": [
           {
            "marker": {
             "pattern": {
              "fillmode": "overlay",
              "size": 10,
              "solidity": 0.2
             }
            },
            "type": "histogram"
           }
          ],
          "histogram2d": [
           {
            "colorbar": {
             "outlinewidth": 0,
             "ticks": ""
            },
            "colorscale": [
             [
              0,
              "#0d0887"
             ],
             [
              0.1111111111111111,
              "#46039f"
             ],
             [
              0.2222222222222222,
              "#7201a8"
             ],
             [
              0.3333333333333333,
              "#9c179e"
             ],
             [
              0.4444444444444444,
              "#bd3786"
             ],
             [
              0.5555555555555556,
              "#d8576b"
             ],
             [
              0.6666666666666666,
              "#ed7953"
             ],
             [
              0.7777777777777778,
              "#fb9f3a"
             ],
             [
              0.8888888888888888,
              "#fdca26"
             ],
             [
              1,
              "#f0f921"
             ]
            ],
            "type": "histogram2d"
           }
          ],
          "histogram2dcontour": [
           {
            "colorbar": {
             "outlinewidth": 0,
             "ticks": ""
            },
            "colorscale": [
             [
              0,
              "#0d0887"
             ],
             [
              0.1111111111111111,
              "#46039f"
             ],
             [
              0.2222222222222222,
              "#7201a8"
             ],
             [
              0.3333333333333333,
              "#9c179e"
             ],
             [
              0.4444444444444444,
              "#bd3786"
             ],
             [
              0.5555555555555556,
              "#d8576b"
             ],
             [
              0.6666666666666666,
              "#ed7953"
             ],
             [
              0.7777777777777778,
              "#fb9f3a"
             ],
             [
              0.8888888888888888,
              "#fdca26"
             ],
             [
              1,
              "#f0f921"
             ]
            ],
            "type": "histogram2dcontour"
           }
          ],
          "mesh3d": [
           {
            "colorbar": {
             "outlinewidth": 0,
             "ticks": ""
            },
            "type": "mesh3d"
           }
          ],
          "parcoords": [
           {
            "line": {
             "colorbar": {
              "outlinewidth": 0,
              "ticks": ""
             }
            },
            "type": "parcoords"
           }
          ],
          "pie": [
           {
            "automargin": true,
            "type": "pie"
           }
          ],
          "scatter": [
           {
            "marker": {
             "line": {
              "color": "#283442"
             }
            },
            "type": "scatter"
           }
          ],
          "scatter3d": [
           {
            "line": {
             "colorbar": {
              "outlinewidth": 0,
              "ticks": ""
             }
            },
            "marker": {
             "colorbar": {
              "outlinewidth": 0,
              "ticks": ""
             }
            },
            "type": "scatter3d"
           }
          ],
          "scattercarpet": [
           {
            "marker": {
             "colorbar": {
              "outlinewidth": 0,
              "ticks": ""
             }
            },
            "type": "scattercarpet"
           }
          ],
          "scattergeo": [
           {
            "marker": {
             "colorbar": {
              "outlinewidth": 0,
              "ticks": ""
             }
            },
            "type": "scattergeo"
           }
          ],
          "scattergl": [
           {
            "marker": {
             "line": {
              "color": "#283442"
             }
            },
            "type": "scattergl"
           }
          ],
          "scattermapbox": [
           {
            "marker": {
             "colorbar": {
              "outlinewidth": 0,
              "ticks": ""
             }
            },
            "type": "scattermapbox"
           }
          ],
          "scatterpolar": [
           {
            "marker": {
             "colorbar": {
              "outlinewidth": 0,
              "ticks": ""
             }
            },
            "type": "scatterpolar"
           }
          ],
          "scatterpolargl": [
           {
            "marker": {
             "colorbar": {
              "outlinewidth": 0,
              "ticks": ""
             }
            },
            "type": "scatterpolargl"
           }
          ],
          "scatterternary": [
           {
            "marker": {
             "colorbar": {
              "outlinewidth": 0,
              "ticks": ""
             }
            },
            "type": "scatterternary"
           }
          ],
          "surface": [
           {
            "colorbar": {
             "outlinewidth": 0,
             "ticks": ""
            },
            "colorscale": [
             [
              0,
              "#0d0887"
             ],
             [
              0.1111111111111111,
              "#46039f"
             ],
             [
              0.2222222222222222,
              "#7201a8"
             ],
             [
              0.3333333333333333,
              "#9c179e"
             ],
             [
              0.4444444444444444,
              "#bd3786"
             ],
             [
              0.5555555555555556,
              "#d8576b"
             ],
             [
              0.6666666666666666,
              "#ed7953"
             ],
             [
              0.7777777777777778,
              "#fb9f3a"
             ],
             [
              0.8888888888888888,
              "#fdca26"
             ],
             [
              1,
              "#f0f921"
             ]
            ],
            "type": "surface"
           }
          ],
          "table": [
           {
            "cells": {
             "fill": {
              "color": "#506784"
             },
             "line": {
              "color": "rgb(17,17,17)"
             }
            },
            "header": {
             "fill": {
              "color": "#2a3f5f"
             },
             "line": {
              "color": "rgb(17,17,17)"
             }
            },
            "type": "table"
           }
          ]
         },
         "layout": {
          "annotationdefaults": {
           "arrowcolor": "#f2f5fa",
           "arrowhead": 0,
           "arrowwidth": 1
          },
          "autotypenumbers": "strict",
          "coloraxis": {
           "colorbar": {
            "outlinewidth": 0,
            "ticks": ""
           }
          },
          "colorscale": {
           "diverging": [
            [
             0,
             "#8e0152"
            ],
            [
             0.1,
             "#c51b7d"
            ],
            [
             0.2,
             "#de77ae"
            ],
            [
             0.3,
             "#f1b6da"
            ],
            [
             0.4,
             "#fde0ef"
            ],
            [
             0.5,
             "#f7f7f7"
            ],
            [
             0.6,
             "#e6f5d0"
            ],
            [
             0.7,
             "#b8e186"
            ],
            [
             0.8,
             "#7fbc41"
            ],
            [
             0.9,
             "#4d9221"
            ],
            [
             1,
             "#276419"
            ]
           ],
           "sequential": [
            [
             0,
             "#0d0887"
            ],
            [
             0.1111111111111111,
             "#46039f"
            ],
            [
             0.2222222222222222,
             "#7201a8"
            ],
            [
             0.3333333333333333,
             "#9c179e"
            ],
            [
             0.4444444444444444,
             "#bd3786"
            ],
            [
             0.5555555555555556,
             "#d8576b"
            ],
            [
             0.6666666666666666,
             "#ed7953"
            ],
            [
             0.7777777777777778,
             "#fb9f3a"
            ],
            [
             0.8888888888888888,
             "#fdca26"
            ],
            [
             1,
             "#f0f921"
            ]
           ],
           "sequentialminus": [
            [
             0,
             "#0d0887"
            ],
            [
             0.1111111111111111,
             "#46039f"
            ],
            [
             0.2222222222222222,
             "#7201a8"
            ],
            [
             0.3333333333333333,
             "#9c179e"
            ],
            [
             0.4444444444444444,
             "#bd3786"
            ],
            [
             0.5555555555555556,
             "#d8576b"
            ],
            [
             0.6666666666666666,
             "#ed7953"
            ],
            [
             0.7777777777777778,
             "#fb9f3a"
            ],
            [
             0.8888888888888888,
             "#fdca26"
            ],
            [
             1,
             "#f0f921"
            ]
           ]
          },
          "colorway": [
           "#636efa",
           "#EF553B",
           "#00cc96",
           "#ab63fa",
           "#FFA15A",
           "#19d3f3",
           "#FF6692",
           "#B6E880",
           "#FF97FF",
           "#FECB52"
          ],
          "font": {
           "color": "#f2f5fa"
          },
          "geo": {
           "bgcolor": "rgb(17,17,17)",
           "lakecolor": "rgb(17,17,17)",
           "landcolor": "rgb(17,17,17)",
           "showlakes": true,
           "showland": true,
           "subunitcolor": "#506784"
          },
          "hoverlabel": {
           "align": "left"
          },
          "hovermode": "closest",
          "mapbox": {
           "style": "dark"
          },
          "paper_bgcolor": "rgb(17,17,17)",
          "plot_bgcolor": "rgb(17,17,17)",
          "polar": {
           "angularaxis": {
            "gridcolor": "#506784",
            "linecolor": "#506784",
            "ticks": ""
           },
           "bgcolor": "rgb(17,17,17)",
           "radialaxis": {
            "gridcolor": "#506784",
            "linecolor": "#506784",
            "ticks": ""
           }
          },
          "scene": {
           "xaxis": {
            "backgroundcolor": "rgb(17,17,17)",
            "gridcolor": "#506784",
            "gridwidth": 2,
            "linecolor": "#506784",
            "showbackground": true,
            "ticks": "",
            "zerolinecolor": "#C8D4E3"
           },
           "yaxis": {
            "backgroundcolor": "rgb(17,17,17)",
            "gridcolor": "#506784",
            "gridwidth": 2,
            "linecolor": "#506784",
            "showbackground": true,
            "ticks": "",
            "zerolinecolor": "#C8D4E3"
           },
           "zaxis": {
            "backgroundcolor": "rgb(17,17,17)",
            "gridcolor": "#506784",
            "gridwidth": 2,
            "linecolor": "#506784",
            "showbackground": true,
            "ticks": "",
            "zerolinecolor": "#C8D4E3"
           }
          },
          "shapedefaults": {
           "line": {
            "color": "#f2f5fa"
           }
          },
          "sliderdefaults": {
           "bgcolor": "#C8D4E3",
           "bordercolor": "rgb(17,17,17)",
           "borderwidth": 1,
           "tickwidth": 0
          },
          "ternary": {
           "aaxis": {
            "gridcolor": "#506784",
            "linecolor": "#506784",
            "ticks": ""
           },
           "baxis": {
            "gridcolor": "#506784",
            "linecolor": "#506784",
            "ticks": ""
           },
           "bgcolor": "rgb(17,17,17)",
           "caxis": {
            "gridcolor": "#506784",
            "linecolor": "#506784",
            "ticks": ""
           }
          },
          "title": {
           "x": 0.05
          },
          "updatemenudefaults": {
           "bgcolor": "#506784",
           "borderwidth": 0
          },
          "xaxis": {
           "automargin": true,
           "gridcolor": "#283442",
           "linecolor": "#506784",
           "ticks": "",
           "title": {
            "standoff": 15
           },
           "zerolinecolor": "#283442",
           "zerolinewidth": 2
          },
          "yaxis": {
           "automargin": true,
           "gridcolor": "#283442",
           "linecolor": "#506784",
           "ticks": "",
           "title": {
            "standoff": 15
           },
           "zerolinecolor": "#283442",
           "zerolinewidth": 2
          }
         }
        },
        "xaxis": {
         "anchor": "y",
         "domain": [
          0,
          1
         ],
         "title": {
          "text": "X"
         },
         "visible": false
        },
        "yaxis": {
         "anchor": "x",
         "domain": [
          0,
          1
         ],
         "title": {
          "text": "Y"
         },
         "visible": false
        }
       }
      }
     },
     "metadata": {},
     "output_type": "display_data"
    }
   ],
   "source": [
    "top_tracks_df['cluster_str'] = top_tracks_df['cluster'].astype(str)\n",
    "top_tracks_df['track_str'] = top_tracks_df['name'] + \" - \" + top_tracks_df['artist']\n",
    "\n",
    "size = 'danceability'\n",
    "hover_dict = {'X':False,'Y':False,'cluster':False,size:False, 'cluster_str':False}\n",
    "\n",
    "fig = px.scatter(top_tracks_df,x='X',y='Y',color='cluster_str',size=size, template='plotly_dark', hover_name=\"track_str\", hover_data=hover_dict,\n",
    "                color_discrete_sequence=px.colors.qualitative.Plotly)\n",
    "#legend\n",
    "fig.update_layout(showlegend=False)\n",
    "#x axis\n",
    "fig.update_xaxes(visible=False)\n",
    "\n",
    "#y axis    \n",
    "fig.update_yaxes(visible=False)\n",
    "fig.show()"
   ]
  },
  {
   "cell_type": "code",
   "execution_count": 123,
   "id": "4edc10ac",
   "metadata": {},
   "outputs": [
    {
     "data": {
      "text/plain": [
       "{'href': 'https://api.spotify.com/v1/playlists/2ijdBcHfEmWXoz2QDn8YHx/tracks',\n",
       " 'total': 104}"
      ]
     },
     "execution_count": 123,
     "metadata": {},
     "output_type": "execute_result"
    }
   ],
   "source": []
  }
 ],
 "metadata": {
  "kernelspec": {
   "display_name": "Python 3.9.12 ('spotify-ml')",
   "language": "python",
   "name": "python3"
  },
  "language_info": {
   "codemirror_mode": {
    "name": "ipython",
    "version": 3
   },
   "file_extension": ".py",
   "mimetype": "text/x-python",
   "name": "python",
   "nbconvert_exporter": "python",
   "pygments_lexer": "ipython3",
   "version": "3.9.12"
  },
  "vscode": {
   "interpreter": {
    "hash": "1ca278026a607c41f8d329b656447d74a1bcc39e8009c79f04372c9b9c8a84a5"
   }
  }
 },
 "nbformat": 4,
 "nbformat_minor": 5
}
